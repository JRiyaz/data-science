{
 "cells": [
  {
   "cell_type": "code",
   "execution_count": 3,
   "id": "41d8d29d865b6666",
   "metadata": {
    "ExecuteTime": {
     "end_time": "2025-09-26T16:53:47.137385Z",
     "start_time": "2025-09-26T16:53:47.133371Z"
    }
   },
   "outputs": [],
   "source": [
    "import numpy as np"
   ]
  },
  {
   "cell_type": "markdown",
   "id": "29d2c2c1101ce04c",
   "metadata": {},
   "source": [
    "# Broadcasting\n",
    "In NumPy, broadcasting is the set of rules that allows arrays with different shapes to be used together in arithmetic operations. NumPy automatically `stretches` or `duplicates` the smaller array along certain dimensions to match the shape of the larger array, enabling element-wise operations without explicitly writing slow Python loops or creating large temporary arrays.\n",
    "\n",
    "### Broadcasting Rules\n",
    "**NOTE**: NumPy compares the shapes of the arrays from the end (right to left) and checks following rules:-\n",
    "1. *Check Dimensions*: Ensure the arrays have the same number of dimensions or expandable dimensions.\n",
    "2. *Dimension Padding*: If arrays have different numbers of dimensions the smaller array is left-padded with ones.\n",
    "3. *Shape Compatibility*: Two dimensions are compatible if they are equal or one of them is 1.\n",
    "\n",
    "If these conditions aren't met NumPy will raise a ValueError\n"
   ]
  },
  {
   "cell_type": "code",
   "execution_count": 10,
   "id": "initial_id",
   "metadata": {
    "ExecuteTime": {
     "end_time": "2025-09-26T17:02:56.232307Z",
     "start_time": "2025-09-26T17:02:56.227102Z"
    },
    "collapsed": true
   },
   "outputs": [
    {
     "name": "stdout",
     "output_type": "stream",
     "text": [
      "Addition: [15 25 35]\n"
     ]
    }
   ],
   "source": [
    "# Example 1: Broadcasting a Scalar to a 1D Array\n",
    "\n",
    "arr = np.array([10, 20, 30])\n",
    "scalar_arr = 5\n",
    "\n",
    "# The scalar_arr will be stretched to (1, 3) shape [5, 5, 5] and performs the operation\n",
    "res = arr + scalar_arr\n",
    "# [10, 20, 30] + [5, 5, 5] = [10+5, 20+5, 30+5] ==== [15, 25, 35]\n",
    "print(\"Addition:\", res)"
   ]
  },
  {
   "cell_type": "code",
   "execution_count": 11,
   "id": "8f86c6cfd2a042e5",
   "metadata": {
    "ExecuteTime": {
     "end_time": "2025-09-26T17:04:12.525091Z",
     "start_time": "2025-09-26T17:04:12.519503Z"
    }
   },
   "outputs": [
    {
     "name": "stdout",
     "output_type": "stream",
     "text": [
      "Addition: [[12 12 12]\n",
      " [11 11 11]\n",
      " [10 10 10]]\n"
     ]
    }
   ],
   "source": [
    "# Example 2: Broadcasting a 1D Array to a 2D Array\n",
    "\n",
    "a1 = np.array([10, 10, 10])\n",
    "a2 = np.array([[2, 2, 2], [1, 1, 1], [0, 0, 0]])\n",
    "\n",
    "res = a1 + a2\n",
    "# NumPy stretches `a1` to [[10, 10, 10], [10, 10, 10], [10, 10, 10]] and performs addition\n",
    "print(\"Addition:\", res)"
   ]
  },
  {
   "cell_type": "code",
   "execution_count": null,
   "id": "fe709a7e0ae973c5",
   "metadata": {},
   "outputs": [],
   "source": []
  }
 ],
 "metadata": {
  "kernelspec": {
   "display_name": "Python 3",
   "language": "python",
   "name": "python3"
  },
  "language_info": {
   "codemirror_mode": {
    "name": "ipython",
    "version": 2
   },
   "file_extension": ".py",
   "mimetype": "text/x-python",
   "name": "python",
   "nbconvert_exporter": "python",
   "pygments_lexer": "ipython2",
   "version": "2.7.6"
  }
 },
 "nbformat": 4,
 "nbformat_minor": 5
}
