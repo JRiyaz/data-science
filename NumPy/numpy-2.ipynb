{
 "cells": [
  {
   "cell_type": "code",
   "execution_count": 1,
   "id": "initial_id",
   "metadata": {
    "ExecuteTime": {
     "end_time": "2025-09-26T16:28:04.109465Z",
     "start_time": "2025-09-26T16:28:04.013358Z"
    },
    "collapsed": true
   },
   "outputs": [],
   "source": [
    "import numpy as np"
   ]
  },
  {
   "cell_type": "code",
   "execution_count": 2,
   "id": "9ce0ef80be32da56",
   "metadata": {
    "ExecuteTime": {
     "end_time": "2025-09-26T16:28:04.125293Z",
     "start_time": "2025-09-26T16:28:04.118480Z"
    }
   },
   "outputs": [
    {
     "name": "stdout",
     "output_type": "stream",
     "text": [
      "Array Concatenation: [[1 2]\n",
      " [3 4]\n",
      " [5 6]\n",
      " [7 8]]\n",
      "Array V-stack: [[1 2]\n",
      " [3 4]\n",
      " [5 6]\n",
      " [7 8]]\n",
      "Array H-stack: [[1 2 5 6]\n",
      " [3 4 7 8]]\n"
     ]
    }
   ],
   "source": [
    "# Concat arrays\n",
    "x = np.array([[1, 2], [3, 4]])\n",
    "y = np.array([[5, 6], [7, 8]])\n",
    "\n",
    "# Array Concatenation\n",
    "concat = np.concatenate((x, y))\n",
    "print(\"Array Concatenation:\", concat)\n",
    "\n",
    "# V-Stack Array\n",
    "arr_v = np.vstack((x, y))\n",
    "print(\"Array V-stack:\", arr_v)\n",
    "\n",
    "# H-Stack Array\n",
    "arr_h = np.hstack((x, y))\n",
    "print(\"Array H-stack:\", arr_h)\n",
    "\n",
    "# Flatten Array\n",
    "# arr_flat = np.flatiter(arr_h)\n",
    "# print(\"Array Flat:\", arr_flat)"
   ]
  },
  {
   "cell_type": "markdown",
   "id": "450d0c63a754c923",
   "metadata": {},
   "source": "# Repeating & Tailing"
  },
  {
   "cell_type": "code",
   "execution_count": 3,
   "id": "527b35d722460f25",
   "metadata": {
    "ExecuteTime": {
     "end_time": "2025-09-26T16:28:04.151511Z",
     "start_time": "2025-09-26T16:28:04.144525Z"
    }
   },
   "outputs": [
    {
     "name": "stdout",
     "output_type": "stream",
     "text": [
      "***** Repeating and Tailing ****\n",
      "Original array: [1 2 3]\n",
      "\n",
      "Repeating Array\n",
      "Repeating Array: [1 1 2 2 3 3]\n",
      "\n",
      "Tailing Array\n",
      "Tailing Array: [1 2 3 1 2 3]\n"
     ]
    }
   ],
   "source": [
    "print(\"***** Repeating and Tailing ****\")\n",
    "arr = np.array([1, 2, 3])\n",
    "print(\"Original array:\", arr)\n",
    "\n",
    "print(\"\\nRepeating Array\")\n",
    "arr_rep = np.repeat(arr, 2)  # Repeat arr 2 times\n",
    "print(\"Repeating Array:\", arr_rep)\n",
    "\n",
    "print(\"\\nTailing Array\")\n",
    "arr_tail = np.tile(arr, 2)\n",
    "print(\"Tailing Array:\", arr_tail)"
   ]
  },
  {
   "cell_type": "markdown",
   "id": "2f78cdafd1acf403",
   "metadata": {},
   "source": "# Aggregate Functions"
  },
  {
   "cell_type": "code",
   "execution_count": 4,
   "id": "9c01caeb72c3dbb9",
   "metadata": {
    "ExecuteTime": {
     "end_time": "2025-09-26T16:28:04.195728Z",
     "start_time": "2025-09-26T16:28:04.186224Z"
    }
   },
   "outputs": [
    {
     "name": "stdout",
     "output_type": "stream",
     "text": [
      "***** Aggregate Functions *****\n",
      "Original array: [1 2 3]\n",
      "\n",
      "Sum of array: 6\n",
      "\n",
      "Mean of array: 2.0\n",
      "\n",
      "Median of array: 2.0\n",
      "\n",
      "Standard deviation (std) of array: 0.816496580927726\n",
      "\n",
      "Variance of array: 0.6666666666666666\n",
      "\n",
      "Minimum of array: 1\n",
      "\n",
      "Maximum of array: 3\n"
     ]
    }
   ],
   "source": [
    "print(\"***** Aggregate Functions *****\")\n",
    "arr = np.array([1, 2, 3])\n",
    "print(\"Original array:\", arr)\n",
    "\n",
    "# Sum of array\n",
    "arr_sum = np.sum(arr)\n",
    "print(\"\\nSum of array:\", arr_sum)\n",
    "\n",
    "# Mean of array\n",
    "arr_mean = np.mean(arr)\n",
    "print(\"\\nMean of array:\", arr_mean)\n",
    "\n",
    "# Median of array\n",
    "arr_median = np.median(arr)\n",
    "print(\"\\nMedian of array:\", arr_median)\n",
    "\n",
    "# Standard deviation\n",
    "arr_std = np.std(arr)\n",
    "print(\"\\nStandard deviation (std) of array:\", arr_std)\n",
    "\n",
    "# variant\n",
    "arr_var = np.var(arr)\n",
    "print(\"\\nVariance of array:\", arr_var)\n",
    "\n",
    "# Minimum number in array\n",
    "arr_min = np.min(arr)\n",
    "print(\"\\nMinimum of array:\", arr_min)\n",
    "\n",
    "# Maximum number in array\n",
    "arr_max = np.max(arr)\n",
    "print(\"\\nMaximum of array:\", arr_max)"
   ]
  },
  {
   "cell_type": "code",
   "execution_count": 5,
   "id": "363a0385b10c4332",
   "metadata": {
    "ExecuteTime": {
     "end_time": "2025-09-26T16:28:04.258010Z",
     "start_time": "2025-09-26T16:28:04.249781Z"
    }
   },
   "outputs": [
    {
     "name": "stdout",
     "output_type": "stream",
     "text": [
      "***** Aggregate Functions in 2D array *****\n",
      "Original array: [[1 2]\n",
      " [3 4]\n",
      " [5 6]\n",
      " [7 8]]\n",
      "\n",
      "Sum of array in x-axis: [16 20]\n",
      "\n",
      "Sum of array in y-axis: [ 3  7 11 15]\n"
     ]
    }
   ],
   "source": [
    "print(\"***** Aggregate Functions in 2D array *****\")\n",
    "arr = np.array([[1, 2], [3, 4], [5, 6], [7, 8]])\n",
    "print(\"Original array:\", arr)\n",
    "\n",
    "# Sum of array in x-axis\n",
    "arr_sum = np.sum(arr, axis=0)\n",
    "print(\"\\nSum of array in x-axis:\", arr_sum)\n",
    "\n",
    "# Sum of array in y-axis\n",
    "arr_sum = np.sum(arr, axis=1)\n",
    "print(\"\\nSum of array in y-axis:\", arr_sum)"
   ]
  },
  {
   "cell_type": "markdown",
   "id": "9eba3a4c8a130fe1",
   "metadata": {},
   "source": "# Cumulative Operations"
  },
  {
   "cell_type": "code",
   "execution_count": 6,
   "id": "a4728b68feabdbeb",
   "metadata": {
    "ExecuteTime": {
     "end_time": "2025-09-26T16:28:04.347285Z",
     "start_time": "2025-09-26T16:28:04.339441Z"
    }
   },
   "outputs": [
    {
     "name": "stdout",
     "output_type": "stream",
     "text": [
      "Original array: [1 2 3]\n",
      "\n",
      "Running sum: [1 3 6]\n",
      "\n",
      "Running product: [1 2 6]\n"
     ]
    }
   ],
   "source": [
    "arr = np.array([1, 2, 3])\n",
    "print(\"Original array:\", arr)\n",
    "\n",
    "# Running sum\n",
    "arr_sum = np.cumsum(arr)\n",
    "print(\"\\nRunning sum:\", arr_sum)\n",
    "\n",
    "# Running prod\n",
    "arr_prod = np.cumprod(arr)\n",
    "print(\"\\nRunning product:\", arr_prod)"
   ]
  },
  {
   "cell_type": "markdown",
   "id": "f30ea27e814c6c5d",
   "metadata": {},
   "source": "# Conditional Based Operations"
  },
  {
   "cell_type": "code",
   "execution_count": 7,
   "id": "efee429d5ec37e26",
   "metadata": {
    "ExecuteTime": {
     "end_time": "2025-09-26T16:28:04.378209Z",
     "start_time": "2025-09-26T16:28:04.369168Z"
    }
   },
   "outputs": [
    {
     "name": "stdout",
     "output_type": "stream",
     "text": [
      "Original array: [10  3 17  9  2 15  4  6 12  0 11]\n",
      "\n",
      "***** Where Condition *****\n",
      "Less than Where cond: ['high' 'low' 'high' 'high' 'low' 'high' 'low' 'high' 'high' 'low' 'high']\n",
      "\n",
      "Even or odd condition: ['even' 'odd' 'odd' 'odd' 'even' 'odd' 'even' 'even' 'even' 'even' 'odd']\n",
      "\n",
      "***** Arg Where condition *****\n",
      "Less than Arg Where cond: [[ 0]\n",
      " [ 2]\n",
      " [ 3]\n",
      " [ 5]\n",
      " [ 7]\n",
      " [ 8]\n",
      " [10]]\n",
      "\n",
      "***** Logical AND condition *****\n",
      "\n",
      "Logical AND condition: [ True False False  True False False  True  True  True False  True]\n"
     ]
    }
   ],
   "source": [
    "arr = np.array([10, 3, 17, 9, 2, 15, 4, 6, 12, 0, 11])\n",
    "print(\"Original array:\", arr)\n",
    "\n",
    "# Less than Where condition\n",
    "print(\"\\n***** Where Condition *****\")\n",
    "arr_where = np.where(\n",
    "    arr < 5, \"low\", \"high\"\n",
    ")  # No less than 5 will be shown as low and grater than 5 will be shown as high\n",
    "print(\"Less than Where cond:\", arr_where)\n",
    "\n",
    "# Even Numbers condition\n",
    "arr_even = np.where(arr % 2 == 0, \"even\", \"odd\")\n",
    "print(\"\\nEven or odd condition:\", arr_even)\n",
    "\n",
    "\n",
    "# Arg Where condition\n",
    "print(\"\\n***** Arg Where condition *****\")\n",
    "arr_where = np.argwhere(arr > 5)\n",
    "print(\"Less than Arg Where cond:\", arr_where)\n",
    "\n",
    "# Advance Conditions\n",
    "print(\"\\n***** Logical AND condition *****\")\n",
    "arr_logi = np.logical_and(arr > 3, arr < 13)\n",
    "print(\"\\nLogical AND condition:\", arr_logi)"
   ]
  },
  {
   "cell_type": "code",
   "execution_count": 8,
   "id": "83ac7c2ea19f025",
   "metadata": {
    "ExecuteTime": {
     "end_time": "2025-09-26T16:28:04.451169Z",
     "start_time": "2025-09-26T16:28:04.437396Z"
    }
   },
   "outputs": [
    {
     "name": "stdout",
     "output_type": "stream",
     "text": [
      "********** Multi dimension arr conditional operations **********\n",
      "Original array: [[1 2 3]\n",
      " [4 5 6]\n",
      " [7 8 9]]\n",
      "Less than Arg Where cond: [[1 2]\n",
      " [2 0]\n",
      " [2 1]\n",
      " [2 2]]\n",
      "\n",
      "Logical OR condition: [[ True  True  True]\n",
      " [ True  True  True]\n",
      " [ True  True  True]]\n",
      "\n",
      "Logical AND condition: [[False False False]\n",
      " [ True  True  True]\n",
      " [False False False]]\n"
     ]
    }
   ],
   "source": [
    "# Multi dimension arr conditional operations\n",
    "print(\"********** Multi dimension arr conditional operations **********\")\n",
    "arr = np.array([[1, 2, 3], [4, 5, 6], [7, 8, 9]])\n",
    "print(\"Original array:\", arr)\n",
    "\n",
    "# This will give row wise column index result, like 6 is in 1 row and 2 element [1, 2]\n",
    "arr_where = np.argwhere(arr > 5)\n",
    "print(\"Less than Arg Where cond:\", arr_where)\n",
    "\n",
    "# The logical OR consider all the elements in the entire row\n",
    "arr_logi_or = np.logical_or(arr > 3, arr < 7)\n",
    "print(\"\\nLogical OR condition:\", arr_logi_or)\n",
    "\n",
    "arr_logic_and = np.logical_and(arr > 3, arr < 7)\n",
    "print(\"\\nLogical AND condition:\", arr_logic_and)"
   ]
  },
  {
   "cell_type": "code",
   "execution_count": 9,
   "id": "af384f14a0f91034",
   "metadata": {
    "ExecuteTime": {
     "end_time": "2025-09-26T16:28:04.481200Z",
     "start_time": "2025-09-26T16:28:04.471875Z"
    }
   },
   "outputs": [
    {
     "name": "stdout",
     "output_type": "stream",
     "text": [
      "\n",
      "***** Fetch the values that statisfy the condition *******\n",
      "Original array: [1 2 3 4 5 6 7 8 9]\n",
      "\n",
      "Values greater than 5: [6 7 8 9]\n",
      "\n",
      "Values 3 > arr < 7: [4 5 6]\n"
     ]
    }
   ],
   "source": [
    "# Fetch the values that statisfy the condition\n",
    "print(\"\\n***** Fetch the values that statisfy the condition *******\")\n",
    "arr = np.array([1, 2, 3, 4, 5, 6, 7, 8, 9])\n",
    "print(\"Original array:\", arr)\n",
    "\n",
    "# Fetch values that are greater than 5\n",
    "mask = np.where(arr > 5)\n",
    "arr_gt_5 = arr[mask]\n",
    "print(\"\\nValues greater than 5:\", arr_gt_5)\n",
    "\n",
    "# Fetch values are greater than 3 and lesser than 7\n",
    "mask = np.logical_and(arr > 3, arr < 7)\n",
    "arr_gt_3 = arr[mask]\n",
    "print(\"\\nValues 3 > arr < 7:\", arr_gt_3)"
   ]
  }
 ],
 "metadata": {
  "kernelspec": {
   "display_name": "Python 3",
   "language": "python",
   "name": "python3"
  },
  "language_info": {
   "codemirror_mode": {
    "name": "ipython",
    "version": 2
   },
   "file_extension": ".py",
   "mimetype": "text/x-python",
   "name": "python",
   "nbconvert_exporter": "python",
   "pygments_lexer": "ipython2",
   "version": "2.7.6"
  }
 },
 "nbformat": 4,
 "nbformat_minor": 5
}
