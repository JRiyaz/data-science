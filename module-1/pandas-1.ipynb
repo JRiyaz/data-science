{
 "cells": [
  {
   "cell_type": "markdown",
   "id": "b11d961518172d81",
   "metadata": {},
   "source": [
    "# What is Pandas?\n",
    "\n",
    "Pandas is a powerful open-source Python library used for data manipulation, analysis, and cleaning. It provides two primary data structures:\n",
    "\n",
    "1. **Series**: One-dimensional labeled array.\n",
    "2. **DataFrame**: Two-dimensional labeled data structure (like a table in a database or an Excel spreadsheet).\n",
    "\n",
    "It is widely used in data science and analytics for tasks like:\n",
    "\n",
    "1. Importing data from various file formats (CSV, Excel, SQL, etc.)\n",
    "2. Cleaning and transforming data\n",
    "3. Grouping and summarizing\n",
    "4. Merging and joining datasets\n",
    "5. Time series analysis\n",
    "\n",
    "---\n",
    "\n",
    "# What is NumPy?\n",
    "\n",
    "NumPy (Numerical Python) is a foundational Python library for numerical computing. It provides:\n",
    "\n",
    "1. **ndarray**: N-dimensional array object\n",
    "2. Fast operations on arrays, including element-wise operations, linear algebra, statistical operations, etc.\n",
    "\n",
    "It’s known for speed and efficiency, especially with large arrays and matrices.\n",
    "\n",
    "---\n",
    "\n",
    "## **Key Differences Between Pandas and NumPy**\n",
    "\n",
    "| Feature                   | **NumPy**                                       | **Pandas**                                          |\n",
    "|---------------------------|--------------------------------------------------|-----------------------------------------------------|\n",
    "| **Main Data Structure**   | `ndarray` (multi-dimensional array)             | `Series` (1D), `DataFrame` (2D)                     |\n",
    "| **Use Case**              | Numerical computations                          | Data analysis and manipulation                      |\n",
    "| **Data Types Supported**  | Homogeneous (all elements must be same type)    | Heterogeneous (each column can be a different type) |\n",
    "| **Indexing**              | Integer-based indexing                          | Label-based and integer indexing                    |\n",
    "| **Ease of Use**           | Low-level; requires more code for data handling | High-level; easier data wrangling and analysis      |\n",
    "| **Speed**                 | Faster for numerical operations                 | Slightly slower due to overhead                     |\n",
    "| **Missing Data Support**  | Limited                                          | Built-in support (e.g., `NaN` handling)             |\n",
    "\n",
    "---\n",
    "\n",
    "### ***When to Use What?***\n",
    "\n",
    "- **Use NumPy for**: Fast numerical operations, matrix algebra, or when working with homogeneous numeric data.\n",
    "- **Use Pandas for**: Real-world data analysis involving labeled, heterogeneous, or missing data.\n",
    "\n",
    "---\n",
    "\n",
    "## **The Primary Data Structures in Pandas Are:**\n",
    "\n",
    "### 👉 Series\n",
    "\n",
    "- A one-dimensional labeled array.\n",
    "- Can hold any data type (integers, strings, floats, Python objects, etc.).\n",
    "- Has both values and an index.\n",
    "    ```python\n",
    "    import pandas as pd\n",
    "\n",
    "    s = pd.Series([10, 20, 30], index=['a', 'b', 'c'])\n",
    "    print(s)\n",
    "    ```\n",
    "\n",
    "### 👉 DataFrame\n",
    "\n",
    "- A two-dimensional labeled data structure (like a table with rows and columns).\n",
    "- Can contain different data types in different columns.\n",
    "- Has both row and column indexing.\n",
    "    ```python\n",
    "    import pandas as pd\n",
    "\n",
    "    data = {\n",
    "        'Name': ['Alice', 'Bob', 'Charlie'],\n",
    "        'Age': [25, 30, 35]\n",
    "    }\n",
    "    df = pd.DataFrame(data)\n",
    "    print(df)\n",
    "    ```"
   ]
  },
  {
   "cell_type": "code",
   "execution_count": 1,
   "id": "initial_id",
   "metadata": {
    "ExecuteTime": {
     "end_time": "2025-10-19T15:38:07.364525Z",
     "start_time": "2025-10-19T15:38:05.034765Z"
    },
    "collapsed": true
   },
   "outputs": [],
   "source": [
    "import pandas as pd"
   ]
  },
  {
   "cell_type": "code",
   "execution_count": 2,
   "id": "ed590e151c2713bc",
   "metadata": {
    "ExecuteTime": {
     "end_time": "2025-10-19T15:38:07.390880Z",
     "start_time": "2025-10-19T15:38:07.377979Z"
    }
   },
   "outputs": [
    {
     "data": {
      "text/plain": [
       "0    10\n",
       "1    20\n",
       "2    30\n",
       "3    40\n",
       "4    50\n",
       "dtype: int64"
      ]
     },
     "execution_count": 2,
     "metadata": {},
     "output_type": "execute_result"
    }
   ],
   "source": [
    "# Create Series\n",
    "\n",
    "sr = pd.Series([10, 20, 30, 40, 50])\n",
    "sr"
   ]
  },
  {
   "cell_type": "code",
   "execution_count": 3,
   "id": "4d2ac5b77187d338",
   "metadata": {
    "ExecuteTime": {
     "end_time": "2025-10-19T15:38:07.420344Z",
     "start_time": "2025-10-19T15:38:07.412904Z"
    }
   },
   "outputs": [
    {
     "data": {
      "text/plain": [
       "dtype('int64')"
      ]
     },
     "execution_count": 3,
     "metadata": {},
     "output_type": "execute_result"
    }
   ],
   "source": [
    "sr.dtype"
   ]
  },
  {
   "cell_type": "code",
   "execution_count": 4,
   "id": "97ff13ee8ff69d79",
   "metadata": {
    "ExecuteTime": {
     "end_time": "2025-10-19T15:38:07.508249Z",
     "start_time": "2025-10-19T15:38:07.501870Z"
    }
   },
   "outputs": [
    {
     "data": {
      "text/plain": [
       "array([10, 20, 30, 40, 50])"
      ]
     },
     "execution_count": 4,
     "metadata": {},
     "output_type": "execute_result"
    }
   ],
   "source": [
    "sr.values"
   ]
  },
  {
   "cell_type": "code",
   "execution_count": 5,
   "id": "31009cd96c3c2837",
   "metadata": {
    "ExecuteTime": {
     "end_time": "2025-10-19T15:38:07.596783Z",
     "start_time": "2025-10-19T15:38:07.590996Z"
    }
   },
   "outputs": [
    {
     "data": {
      "text/plain": [
       "RangeIndex(start=0, stop=5, step=1)"
      ]
     },
     "execution_count": 5,
     "metadata": {},
     "output_type": "execute_result"
    }
   ],
   "source": [
    "sr.index"
   ]
  },
  {
   "cell_type": "code",
   "execution_count": 6,
   "id": "2dc2a7e8987c30cc",
   "metadata": {
    "ExecuteTime": {
     "end_time": "2025-10-19T15:38:07.635302Z",
     "start_time": "2025-10-19T15:38:07.631104Z"
    }
   },
   "outputs": [],
   "source": [
    "sr.name"
   ]
  },
  {
   "cell_type": "code",
   "execution_count": 7,
   "id": "bb645a5fa509c956",
   "metadata": {
    "ExecuteTime": {
     "end_time": "2025-10-19T15:38:07.663331Z",
     "start_time": "2025-10-19T15:38:07.659676Z"
    }
   },
   "outputs": [],
   "source": [
    "sr.name = \"calories\""
   ]
  },
  {
   "cell_type": "code",
   "execution_count": 8,
   "id": "cc6998583992d492",
   "metadata": {
    "ExecuteTime": {
     "end_time": "2025-10-19T15:38:07.680377Z",
     "start_time": "2025-10-19T15:38:07.674553Z"
    }
   },
   "outputs": [
    {
     "data": {
      "text/plain": [
       "'calories'"
      ]
     },
     "execution_count": 8,
     "metadata": {},
     "output_type": "execute_result"
    }
   ],
   "source": [
    "sr.name"
   ]
  },
  {
   "cell_type": "code",
   "execution_count": 9,
   "id": "c8c98ea9d11412fd",
   "metadata": {
    "ExecuteTime": {
     "end_time": "2025-10-19T15:38:07.731889Z",
     "start_time": "2025-10-19T15:38:07.724949Z"
    }
   },
   "outputs": [
    {
     "data": {
      "text/plain": [
       "np.int64(10)"
      ]
     },
     "execution_count": 9,
     "metadata": {},
     "output_type": "execute_result"
    }
   ],
   "source": [
    "# Indexing\n",
    "\n",
    "sr[0]"
   ]
  },
  {
   "cell_type": "code",
   "execution_count": 10,
   "id": "96e36159bac8dfaf",
   "metadata": {
    "ExecuteTime": {
     "end_time": "2025-10-19T15:38:07.782935Z",
     "start_time": "2025-10-19T15:38:07.774029Z"
    }
   },
   "outputs": [
    {
     "data": {
      "text/plain": [
       "0    10\n",
       "1    20\n",
       "Name: calories, dtype: int64"
      ]
     },
     "execution_count": 10,
     "metadata": {},
     "output_type": "execute_result"
    }
   ],
   "source": [
    "sr[0:2]"
   ]
  },
  {
   "cell_type": "code",
   "execution_count": 11,
   "id": "150cae82d7f2aa5f",
   "metadata": {
    "ExecuteTime": {
     "end_time": "2025-10-19T15:38:07.813378Z",
     "start_time": "2025-10-19T15:38:07.806828Z"
    }
   },
   "outputs": [
    {
     "data": {
      "text/plain": [
       "np.int64(40)"
      ]
     },
     "execution_count": 11,
     "metadata": {},
     "output_type": "execute_result"
    }
   ],
   "source": [
    "sr[3]"
   ]
  },
  {
   "cell_type": "code",
   "execution_count": 12,
   "id": "a87d28b7b9a2aed3",
   "metadata": {
    "ExecuteTime": {
     "end_time": "2025-10-19T15:38:07.840757Z",
     "start_time": "2025-10-19T15:38:07.834281Z"
    }
   },
   "outputs": [
    {
     "data": {
      "text/plain": [
       "np.int64(40)"
      ]
     },
     "execution_count": 12,
     "metadata": {},
     "output_type": "execute_result"
    }
   ],
   "source": [
    "# iloc -> location based indexing\n",
    "\n",
    "sr.iloc[3]"
   ]
  },
  {
   "cell_type": "code",
   "execution_count": 13,
   "id": "70236d589f446c0c",
   "metadata": {
    "ExecuteTime": {
     "end_time": "2025-10-19T15:38:07.868343Z",
     "start_time": "2025-10-19T15:38:07.858913Z"
    }
   },
   "outputs": [
    {
     "data": {
      "text/plain": [
       "1    20\n",
       "3    40\n",
       "4    50\n",
       "Name: calories, dtype: int64"
      ]
     },
     "execution_count": 13,
     "metadata": {},
     "output_type": "execute_result"
    }
   ],
   "source": [
    "sr.iloc[[1, 3, 4]]"
   ]
  },
  {
   "cell_type": "code",
   "execution_count": 14,
   "id": "4be006053af13b97",
   "metadata": {
    "ExecuteTime": {
     "end_time": "2025-10-19T15:38:07.890457Z",
     "start_time": "2025-10-19T15:38:07.885444Z"
    }
   },
   "outputs": [],
   "source": [
    "index = [\"apple\", \"banana\", \"grapes\", \"orange\", \"strawberry\"]"
   ]
  },
  {
   "cell_type": "code",
   "execution_count": 15,
   "id": "6c305a384e8d4d05",
   "metadata": {
    "ExecuteTime": {
     "end_time": "2025-10-19T15:38:07.926857Z",
     "start_time": "2025-10-19T15:38:07.912981Z"
    }
   },
   "outputs": [
    {
     "data": {
      "text/plain": [
       "apple         10\n",
       "banana        20\n",
       "grapes        30\n",
       "orange        40\n",
       "strawberry    50\n",
       "Name: calories, dtype: int64"
      ]
     },
     "execution_count": 15,
     "metadata": {},
     "output_type": "execute_result"
    }
   ],
   "source": [
    "sr.index = index\n",
    "sr"
   ]
  },
  {
   "cell_type": "code",
   "execution_count": 16,
   "id": "4db2a25d442bc5fd",
   "metadata": {
    "ExecuteTime": {
     "end_time": "2025-10-19T15:38:07.949106Z",
     "start_time": "2025-10-19T15:38:07.942180Z"
    }
   },
   "outputs": [
    {
     "data": {
      "text/plain": [
       "np.int64(30)"
      ]
     },
     "execution_count": 16,
     "metadata": {},
     "output_type": "execute_result"
    }
   ],
   "source": [
    "sr[\"grapes\"]"
   ]
  },
  {
   "cell_type": "code",
   "execution_count": 17,
   "id": "4caba1d20549e9dc",
   "metadata": {
    "ExecuteTime": {
     "end_time": "2025-10-19T15:38:07.977400Z",
     "start_time": "2025-10-19T15:38:07.970960Z"
    }
   },
   "outputs": [
    {
     "data": {
      "text/plain": [
       "np.int64(30)"
      ]
     },
     "execution_count": 17,
     "metadata": {},
     "output_type": "execute_result"
    }
   ],
   "source": [
    "# sr.iloc['grapes']   # will throw error, because iloc will only work with number based indexes\n",
    "sr.iloc[2]"
   ]
  },
  {
   "cell_type": "code",
   "execution_count": 18,
   "id": "3656774a65168123",
   "metadata": {
    "ExecuteTime": {
     "end_time": "2025-10-19T15:38:08.027204Z",
     "start_time": "2025-10-19T15:38:08.020580Z"
    }
   },
   "outputs": [
    {
     "data": {
      "text/plain": [
       "np.int64(30)"
      ]
     },
     "execution_count": 18,
     "metadata": {},
     "output_type": "execute_result"
    }
   ],
   "source": [
    "# loc -> label based indexing\n",
    "\n",
    "sr.loc[\"grapes\"]"
   ]
  },
  {
   "cell_type": "code",
   "execution_count": 19,
   "id": "aca36d85a4f95dc0",
   "metadata": {
    "ExecuteTime": {
     "end_time": "2025-10-19T15:38:08.066566Z",
     "start_time": "2025-10-19T15:38:08.057346Z"
    }
   },
   "outputs": [
    {
     "data": {
      "text/plain": [
       "apple     10\n",
       "banana    20\n",
       "Name: calories, dtype: int64"
      ]
     },
     "execution_count": 19,
     "metadata": {},
     "output_type": "execute_result"
    }
   ],
   "source": [
    "# In label based indexing both start and stop values are included in output\n",
    "sr.loc[[\"apple\", \"banana\"]]"
   ]
  },
  {
   "cell_type": "code",
   "execution_count": 20,
   "id": "c24269baa3d407cf",
   "metadata": {
    "ExecuteTime": {
     "end_time": "2025-10-19T15:38:08.096132Z",
     "start_time": "2025-10-19T15:38:08.086367Z"
    }
   },
   "outputs": [
    {
     "data": {
      "text/plain": [
       "apple     10\n",
       "banana    20\n",
       "grapes    30\n",
       "orange    40\n",
       "Name: calories, dtype: int64"
      ]
     },
     "execution_count": 20,
     "metadata": {},
     "output_type": "execute_result"
    }
   ],
   "source": [
    "sr[\"apple\":\"orange\"]"
   ]
  },
  {
   "cell_type": "code",
   "execution_count": 21,
   "id": "b987a6cffca5c8cd",
   "metadata": {
    "ExecuteTime": {
     "end_time": "2025-10-19T15:38:08.122822Z",
     "start_time": "2025-10-19T15:38:08.114624Z"
    }
   },
   "outputs": [
    {
     "data": {
      "text/plain": [
       "apple         10\n",
       "banana        20\n",
       "grapes        30\n",
       "orange        40\n",
       "strawberry    50\n",
       "Name: calories, dtype: int64"
      ]
     },
     "execution_count": 21,
     "metadata": {},
     "output_type": "execute_result"
    }
   ],
   "source": [
    "sr"
   ]
  }
 ],
 "metadata": {
  "kernelspec": {
   "display_name": "practice",
   "language": "python",
   "name": "python3"
  },
  "language_info": {
   "codemirror_mode": {
    "name": "ipython",
    "version": 3
   },
   "file_extension": ".py",
   "mimetype": "text/x-python",
   "name": "python",
   "nbconvert_exporter": "python",
   "pygments_lexer": "ipython3",
   "version": "3.13.5"
  }
 },
 "nbformat": 4,
 "nbformat_minor": 5
}
