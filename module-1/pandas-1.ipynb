{
 "cells": [
  {
   "cell_type": "markdown",
   "id": "b11d961518172d81",
   "metadata": {},
   "source": [
    "# What is Pandas?\n",
    "\n",
    "Pandas is a powerful open-source Python library used for data manipulation, analysis, and cleaning. It provides two primary data structures:\n",
    "\n",
    "1. **Series**: One-dimensional labeled array.\n",
    "2. **DataFrame**: Two-dimensional labeled data structure (like a table in a database or an Excel spreadsheet).\n",
    "\n",
    "It is widely used in data science and analytics for tasks like:\n",
    "\n",
    "1. Importing data from various file formats (CSV, Excel, SQL, etc.)\n",
    "2. Cleaning and transforming data\n",
    "3. Grouping and summarizing\n",
    "4. Merging and joining datasets\n",
    "5. Time series analysis\n",
    "\n",
    "---\n",
    "\n",
    "# What is NumPy?\n",
    "\n",
    "NumPy (Numerical Python) is a foundational Python library for numerical computing. It provides:\n",
    "\n",
    "1. **ndarray**: N-dimensional array object\n",
    "2. Fast operations on arrays, including element-wise operations, linear algebra, statistical operations, etc.\n",
    "\n",
    "It’s known for speed and efficiency, especially with large arrays and matrices.\n",
    "\n",
    "---\n",
    "\n",
    "## **Key Differences Between Pandas and NumPy**\n",
    "\n",
    "| Feature                   | **NumPy**                                       | **Pandas**                                          |\n",
    "|---------------------------|--------------------------------------------------|-----------------------------------------------------|\n",
    "| **Main Data Structure**   | `ndarray` (multi-dimensional array)             | `Series` (1D), `DataFrame` (2D)                     |\n",
    "| **Use Case**              | Numerical computations                          | Data analysis and manipulation                      |\n",
    "| **Data Types Supported**  | Homogeneous (all elements must be same type)    | Heterogeneous (each column can be a different type) |\n",
    "| **Indexing**              | Integer-based indexing                          | Label-based and integer indexing                    |\n",
    "| **Ease of Use**           | Low-level; requires more code for data handling | High-level; easier data wrangling and analysis      |\n",
    "| **Speed**                 | Faster for numerical operations                 | Slightly slower due to overhead                     |\n",
    "| **Missing Data Support**  | Limited                                          | Built-in support (e.g., `NaN` handling)             |\n",
    "\n",
    "---\n",
    "\n",
    "### ***When to Use What?***\n",
    "\n",
    "- **Use NumPy for**: Fast numerical operations, matrix algebra, or when working with homogeneous numeric data.\n",
    "- **Use Pandas for**: Real-world data analysis involving labeled, heterogeneous, or missing data.\n",
    "\n",
    "---\n",
    "\n",
    "## **The Primary Data Structures in Pandas Are:**\n",
    "\n",
    "### 👉 Series\n",
    "\n",
    "- A one-dimensional labeled array.\n",
    "- Can hold any data type (integers, strings, floats, Python objects, etc.).\n",
    "- Has both values and an index.\n",
    "    ```python\n",
    "    import pandas as pd\n",
    "\n",
    "    s = pd.Series([10, 20, 30], index=['a', 'b', 'c'])\n",
    "    print(s)\n",
    "    ```\n",
    "\n",
    "### 👉 DataFrame\n",
    "\n",
    "- A two-dimensional labeled data structure (like a table with rows and columns).\n",
    "- Can contain different data types in different columns.\n",
    "- Has both row and column indexing.\n",
    "    ```python\n",
    "    import pandas as pd\n",
    "\n",
    "    data = {\n",
    "        'Name': ['Alice', 'Bob', 'Charlie'],\n",
    "        'Age': [25, 30, 35]\n",
    "    }\n",
    "    df = pd.DataFrame(data)\n",
    "    print(df)\n",
    "    ```"
   ]
  },
  {
   "cell_type": "code",
   "execution_count": 87,
   "id": "9edab7cb0ae36dd9",
   "metadata": {
    "ExecuteTime": {
     "end_time": "2025-10-21T19:22:34.008894Z",
     "start_time": "2025-10-21T19:22:34.002568Z"
    }
   },
   "outputs": [],
   "source": [
    "import numpy as np\n",
    "import pandas as pd"
   ]
  },
  {
   "cell_type": "code",
   "execution_count": 88,
   "id": "c8e090b237dc7b1c",
   "metadata": {
    "ExecuteTime": {
     "end_time": "2025-10-21T19:22:34.046328Z",
     "start_time": "2025-10-21T19:22:34.037906Z"
    }
   },
   "outputs": [
    {
     "name": "stdout",
     "output_type": "stream",
     "text": [
      "Series: 0    10\n",
      "1    20\n",
      "2    30\n",
      "3    40\n",
      "4    50\n",
      "5    60\n",
      "dtype: int64\n",
      "Type of Series: int64\n",
      "Shape of Series: (6,)\n",
      "Values of Series: [10 20 30 40 50 60]\n",
      "Index of Series: RangeIndex(start=0, stop=6, step=1)\n",
      "Name of Series: None\n",
      "Name of Series after assigning: Calories\n"
     ]
    }
   ],
   "source": [
    "# Create Series\n",
    "\n",
    "sr = pd.Series([10, 20, 30, 40, 50, 60])\n",
    "print(\"Series:\", sr)\n",
    "print(\"Type of Series:\", sr.dtype)\n",
    "print(\"Shape of Series:\", sr.shape)\n",
    "print(\"Values of Series:\", sr.values)\n",
    "print(\"Index of Series:\", sr.index)\n",
    "print(\"Name of Series:\", sr.name)\n",
    "\n",
    "# Assign a name to series\n",
    "sr.name = \"Calories\"\n",
    "print(\"Name of Series after assigning:\", sr.name)"
   ]
  },
  {
   "cell_type": "markdown",
   "id": "7359d373b77e0c6f",
   "metadata": {},
   "source": "# Indexing"
  },
  {
   "cell_type": "code",
   "execution_count": 89,
   "id": "d23a48dedad60466",
   "metadata": {
    "ExecuteTime": {
     "end_time": "2025-10-21T19:22:34.099847Z",
     "start_time": "2025-10-21T19:22:34.093404Z"
    }
   },
   "outputs": [
    {
     "name": "stdout",
     "output_type": "stream",
     "text": [
      "First element in Series: 10\n",
      "Last element in Series: 60\n",
      "2nd to 4th element in Series: [30 40]\n",
      "Reverse the Series: [60 50 40 30 20 10]\n"
     ]
    }
   ],
   "source": [
    "print(\"First element in Series:\", sr[0])\n",
    "print(\"Last element in Series:\", sr.iloc[-1])\n",
    "print(\"2nd to 4th element in Series:\", sr[2:4].values)  # 4th element is excluded\n",
    "# NOTE: Without `values` it will return both index and value.\n",
    "print(\"Reverse the Series:\", sr[::-1].values)"
   ]
  },
  {
   "cell_type": "markdown",
   "id": "8dee9d4db0fb161f",
   "metadata": {},
   "source": "# location based indexing (iloc)"
  },
  {
   "cell_type": "code",
   "execution_count": 90,
   "id": "f67235948c403d44",
   "metadata": {
    "ExecuteTime": {
     "end_time": "2025-10-21T19:22:34.137348Z",
     "start_time": "2025-10-21T19:22:34.129510Z"
    }
   },
   "outputs": [
    {
     "name": "stdout",
     "output_type": "stream",
     "text": [
      "First element in Series: 10\n",
      "Last element in Series: 60\n",
      "2nd to 4th element in Series [30 40]\n",
      "Reverse the Series: 5    60\n",
      "4    50\n",
      "3    40\n",
      "2    30\n",
      "1    20\n",
      "0    10\n",
      "Name: Calories, dtype: int64\n",
      "Get 1st, 3rd and 5th elements: [20 40 60]\n"
     ]
    }
   ],
   "source": [
    "print(\"First element in Series:\", sr.iloc[0])\n",
    "print(\"Last element in Series:\", sr.iloc[-1])\n",
    "print(\"2nd to 4th element in Series\", sr.iloc[2:4].values)\n",
    "print(\"Reverse the Series:\", sr.iloc[::-1])\n",
    "\n",
    "# Access different indexes at once\n",
    "print(\"Get 1st, 3rd and 5th elements:\", sr.iloc[[1, 3, 5]].values)"
   ]
  },
  {
   "cell_type": "markdown",
   "id": "e5caa83306da3b42",
   "metadata": {},
   "source": "# Add Index"
  },
  {
   "cell_type": "code",
   "execution_count": 91,
   "id": "fbea903ef4742257",
   "metadata": {
    "ExecuteTime": {
     "end_time": "2025-10-21T19:22:34.170792Z",
     "start_time": "2025-10-21T19:22:34.163687Z"
    }
   },
   "outputs": [
    {
     "name": "stdout",
     "output_type": "stream",
     "text": [
      "Series with index values: apple         10\n",
      "banana        20\n",
      "grapes        30\n",
      "orange        40\n",
      "strawberry    50\n",
      "watermelon    60\n",
      "Name: Calories, dtype: int64\n"
     ]
    }
   ],
   "source": [
    "index = [\"apple\", \"banana\", \"grapes\", \"orange\", \"strawberry\", \"watermelon\"]\n",
    "\n",
    "# Replace default index (0, 1, ....) with custom index values\n",
    "sr.index = index\n",
    "print(\"Series with index values:\", sr)"
   ]
  },
  {
   "cell_type": "code",
   "execution_count": 92,
   "id": "178770aa98be97d4",
   "metadata": {
    "ExecuteTime": {
     "end_time": "2025-10-21T19:22:34.218464Z",
     "start_time": "2025-10-21T19:22:34.211059Z"
    }
   },
   "outputs": [
    {
     "name": "stdout",
     "output_type": "stream",
     "text": [
      "Access element with index: 30\n",
      "\n",
      "Access element with label: 30\n",
      "\n",
      "Access multiple elements using labels: apple     10\n",
      "banana    20\n",
      "Name: Calories, dtype: int64\n"
     ]
    }
   ],
   "source": [
    "# sr.iloc['grapes']   # will throw error, because iloc will only work with number based indexes\n",
    "print(\"Access element with index:\", sr.iloc[2])\n",
    "print(\"\\nAccess element with label:\", sr.loc[\"grapes\"])\n",
    "print(\"\\nAccess multiple elements using labels:\", sr.loc[[\"apple\", \"banana\"]])"
   ]
  },
  {
   "cell_type": "markdown",
   "id": "36913c24f1546b18",
   "metadata": {},
   "source": "# Slicing after adding index"
  },
  {
   "cell_type": "code",
   "execution_count": 93,
   "id": "480ed8da0c69f2f3",
   "metadata": {
    "ExecuteTime": {
     "end_time": "2025-10-21T19:22:34.275249Z",
     "start_time": "2025-10-21T19:22:34.267123Z"
    }
   },
   "outputs": [
    {
     "name": "stdout",
     "output_type": "stream",
     "text": [
      "First element: apple    10\n",
      "Name: Calories, dtype: int64\n",
      "\n",
      "Last element: 60\n",
      "\n",
      "Elements from index 1 to 3: [20 30]\n",
      "\n",
      "Reverse the elements: watermelon    60\n",
      "strawberry    50\n",
      "orange        40\n",
      "grapes        30\n",
      "banana        20\n",
      "apple         10\n",
      "Name: Calories, dtype: int64\n"
     ]
    }
   ],
   "source": [
    "# Slicing using index\n",
    "print(\"First element:\", sr[:1])\n",
    "print(\"\\nLast element:\", sr.iloc[-1:].values[0])\n",
    "print(\"\\nElements from index 1 to 3:\", sr[1:3].values)\n",
    "print(\"\\nReverse the elements:\", sr[::-1])"
   ]
  },
  {
   "cell_type": "code",
   "execution_count": 94,
   "id": "94d2ab7ce1e4cd72",
   "metadata": {
    "ExecuteTime": {
     "end_time": "2025-10-21T19:22:34.331003Z",
     "start_time": "2025-10-21T19:22:34.320983Z"
    }
   },
   "outputs": [
    {
     "name": "stdout",
     "output_type": "stream",
     "text": [
      "First element: apple    10\n",
      "Name: Calories, dtype: int64\n",
      "\n",
      "Last element: watermelon    60\n",
      "Name: Calories, dtype: int64\n",
      "\n",
      "Elements from index 1 to 3: [20 30]\n",
      "\n",
      "Reverse the elements: watermelon    60\n",
      "strawberry    50\n",
      "orange        40\n",
      "grapes        30\n",
      "banana        20\n",
      "apple         10\n",
      "Name: Calories, dtype: int64\n"
     ]
    }
   ],
   "source": [
    "# Slicing using iloc\n",
    "print(\"First element:\", sr.iloc[:1])\n",
    "print(\"\\nLast element:\", sr.iloc[-1:])\n",
    "print(\"\\nElements from index 1 to 3:\", sr.iloc[1:3].values)\n",
    "print(\"\\nReverse the elements:\", sr.iloc[::-1])"
   ]
  },
  {
   "cell_type": "code",
   "execution_count": 95,
   "id": "6ab0f8ab9cf7af39",
   "metadata": {
    "ExecuteTime": {
     "end_time": "2025-10-21T19:22:34.398386Z",
     "start_time": "2025-10-21T19:22:34.390415Z"
    }
   },
   "outputs": [
    {
     "name": "stdout",
     "output_type": "stream",
     "text": [
      "Access apple 10\n",
      "\n",
      "Access multiple elements: apple         10\n",
      "strawberry    50\n",
      "Name: Calories, dtype: int64\n",
      "\n",
      "From apple to orange: apple     10\n",
      "banana    20\n",
      "grapes    30\n",
      "orange    40\n",
      "Name: Calories, dtype: int64\n"
     ]
    }
   ],
   "source": [
    "# slicing using loc (label based slicing)\n",
    "print(\"Access apple\", sr.loc[\"apple\"])\n",
    "print(\"\\nAccess multiple elements:\", sr.loc[[\"apple\", \"strawberry\"]])\n",
    "\n",
    "# In label based slicing the start and stop values are included in output.\n",
    "print(\"\\nFrom apple to orange:\", sr.loc[\"apple\":\"orange\"])"
   ]
  },
  {
   "cell_type": "markdown",
   "id": "8737b39c87c691cc",
   "metadata": {},
   "source": "# Create Series using Dict"
  },
  {
   "cell_type": "code",
   "execution_count": 96,
   "id": "6ff7761e3c13ff11",
   "metadata": {
    "ExecuteTime": {
     "end_time": "2025-10-21T19:22:34.438846Z",
     "start_time": "2025-10-21T19:22:34.428748Z"
    }
   },
   "outputs": [
    {
     "data": {
      "text/plain": [
       "Avocado         2.0\n",
       "Guava           2.6\n",
       "Blackberries    2.0\n",
       "Oranges         0.9\n",
       "Banana          1.1\n",
       "Apples          0.3\n",
       "Kiwi            1.1\n",
       "Pomegranate     1.7\n",
       "Mango           0.8\n",
       "Cherries        1.0\n",
       "Name: protein, dtype: float64"
      ]
     },
     "execution_count": 96,
     "metadata": {},
     "output_type": "execute_result"
    }
   ],
   "source": [
    "fruit_protein = {\n",
    "    \"Avocado\": 2.0,  # grams of protein\n",
    "    \"Guava\": 2.6,\n",
    "    \"Blackberries\": 2.0,\n",
    "    \"Oranges\": 0.9,\n",
    "    \"Banana\": 1.1,\n",
    "    \"Apples\": 0.3,\n",
    "    \"Kiwi\": 1.1,\n",
    "    \"Pomegranate\": 1.7,\n",
    "    \"Mango\": 0.8,\n",
    "    \"Cherries\": 1.0,\n",
    "}\n",
    "\n",
    "ser = pd.Series(fruit_protein, name=\"protein\")\n",
    "ser"
   ]
  },
  {
   "cell_type": "markdown",
   "id": "44203e6b80baa324",
   "metadata": {},
   "source": "# Conditional selection"
  },
  {
   "cell_type": "code",
   "execution_count": 97,
   "id": "35fed35b0914a1f1",
   "metadata": {
    "ExecuteTime": {
     "end_time": "2025-10-21T19:22:34.471567Z",
     "start_time": "2025-10-21T19:22:34.463400Z"
    }
   },
   "outputs": [
    {
     "name": "stdout",
     "output_type": "stream",
     "text": [
      "Get masked series of proteins greater than and equals to 1.1: Avocado          True\n",
      "Guava            True\n",
      "Blackberries     True\n",
      "Oranges         False\n",
      "Banana           True\n",
      "Apples          False\n",
      "Kiwi             True\n",
      "Pomegranate      True\n",
      "Mango           False\n",
      "Cherries        False\n",
      "Name: protein, dtype: bool\n",
      "\n",
      "Get the actual series of proteins greater than and equals to 1.1: Avocado         2.0\n",
      "Guava           2.6\n",
      "Blackberries    2.0\n",
      "Banana          1.1\n",
      "Kiwi            1.1\n",
      "Pomegranate     1.7\n",
      "Name: protein, dtype: float64\n"
     ]
    }
   ],
   "source": [
    "# Get proteins that are greater than equals to 1.1\n",
    "\n",
    "# Pandas will provide masked series with boolean values (True and False)\n",
    "print(\"Get masked series of proteins greater than and equals to 1.1:\", ser >= 1.1)\n",
    "print(\"\\nGet the actual series of proteins greater than and equals to 1.1:\", ser[ser >= 1.1])"
   ]
  },
  {
   "cell_type": "markdown",
   "id": "aff17a908462f7ad",
   "metadata": {},
   "source": "# Logical Operator"
  },
  {
   "cell_type": "code",
   "execution_count": 98,
   "id": "4a91333c9af72555",
   "metadata": {
    "ExecuteTime": {
     "end_time": "2025-10-21T19:22:34.507646Z",
     "start_time": "2025-10-21T19:22:34.499757Z"
    }
   },
   "outputs": [
    {
     "name": "stdout",
     "output_type": "stream",
     "text": [
      "Masked series: Avocado         False\n",
      "Guava           False\n",
      "Blackberries    False\n",
      "Oranges          True\n",
      "Banana           True\n",
      "Apples          False\n",
      "Kiwi             True\n",
      "Pomegranate      True\n",
      "Mango            True\n",
      "Cherries         True\n",
      "Name: protein, dtype: bool\n",
      "\n",
      "Actual Series: Oranges        0.9\n",
      "Banana         1.1\n",
      "Kiwi           1.1\n",
      "Pomegranate    1.7\n",
      "Mango          0.8\n",
      "Cherries       1.0\n",
      "Name: protein, dtype: float64\n"
     ]
    }
   ],
   "source": [
    "# AND ( & ) operator\n",
    "\n",
    "# Get proteins that are greater than 0.5 and less than 2\n",
    "condition = (ser > 0.5) & (ser < 2)\n",
    "print(\"Masked series:\", condition)\n",
    "print(\"\\nActual Series:\", ser[condition])"
   ]
  },
  {
   "cell_type": "code",
   "execution_count": 99,
   "id": "578801c55f54177b",
   "metadata": {
    "ExecuteTime": {
     "end_time": "2025-10-21T19:22:34.538769Z",
     "start_time": "2025-10-21T19:22:34.530164Z"
    }
   },
   "outputs": [
    {
     "name": "stdout",
     "output_type": "stream",
     "text": [
      "Masked series: Avocado         True\n",
      "Guava           True\n",
      "Blackberries    True\n",
      "Oranges         True\n",
      "Banana          True\n",
      "Apples          True\n",
      "Kiwi            True\n",
      "Pomegranate     True\n",
      "Mango           True\n",
      "Cherries        True\n",
      "Name: protein, dtype: bool\n",
      "\n",
      "Actual Series: Avocado         2.0\n",
      "Guava           2.6\n",
      "Blackberries    2.0\n",
      "Oranges         0.9\n",
      "Banana          1.1\n",
      "Apples          0.3\n",
      "Kiwi            1.1\n",
      "Pomegranate     1.7\n",
      "Mango           0.8\n",
      "Cherries        1.0\n",
      "Name: protein, dtype: float64\n"
     ]
    }
   ],
   "source": [
    "# OR ( | ) operator\n",
    "\n",
    "# Get proteins that are greater than 0.5 or less than equals to 2\n",
    "condition = (ser > 0.5) | (ser <= 2)\n",
    "print(\"Masked series:\", condition)\n",
    "print(\"\\nActual Series:\", ser[condition])"
   ]
  },
  {
   "cell_type": "code",
   "execution_count": 100,
   "id": "61d85252ae921c64",
   "metadata": {
    "ExecuteTime": {
     "end_time": "2025-10-21T19:22:34.573320Z",
     "start_time": "2025-10-21T19:22:34.564697Z"
    }
   },
   "outputs": [
    {
     "name": "stdout",
     "output_type": "stream",
     "text": [
      "Masked series: Avocado         False\n",
      "Guava           False\n",
      "Blackberries    False\n",
      "Oranges          True\n",
      "Banana          False\n",
      "Apples           True\n",
      "Kiwi            False\n",
      "Pomegranate     False\n",
      "Mango            True\n",
      "Cherries         True\n",
      "Name: protein, dtype: bool\n",
      "\n",
      "Actual Series: Oranges     0.9\n",
      "Apples      0.3\n",
      "Mango       0.8\n",
      "Cherries    1.0\n",
      "Name: protein, dtype: float64\n"
     ]
    }
   ],
   "source": [
    "# not ( ~ ) operator\n",
    "\n",
    "# Get proteins that are not greater than 1\n",
    "condition = ~(ser > 1)\n",
    "print(\"Masked series:\", condition)\n",
    "print(\"\\nActual Series:\", ser[condition])"
   ]
  },
  {
   "cell_type": "markdown",
   "id": "dffb4fed4698917a",
   "metadata": {},
   "source": "# Modifying Series"
  },
  {
   "cell_type": "code",
   "execution_count": 101,
   "id": "3f65652d035771f5",
   "metadata": {
    "ExecuteTime": {
     "end_time": "2025-10-21T19:22:34.615171Z",
     "start_time": "2025-10-21T19:22:34.605923Z"
    }
   },
   "outputs": [
    {
     "data": {
      "text/plain": [
       "Avocado         2.0\n",
       "Guava           2.6\n",
       "Blackberries    2.0\n",
       "Oranges         0.9\n",
       "Banana          1.1\n",
       "Apples          0.3\n",
       "Kiwi            1.1\n",
       "Pomegranate     1.7\n",
       "Mango           2.8\n",
       "Cherries        1.0\n",
       "Name: protein, dtype: float64"
      ]
     },
     "execution_count": 101,
     "metadata": {},
     "output_type": "execute_result"
    }
   ],
   "source": [
    "# Update protein of Mango to 2.8\n",
    "\n",
    "ser[\"Mango\"] = 2.8\n",
    "\n",
    "ser"
   ]
  },
  {
   "cell_type": "code",
   "execution_count": 103,
   "id": "ec3f93409cc5c8e6",
   "metadata": {
    "ExecuteTime": {
     "end_time": "2025-10-21T19:23:35.988182Z",
     "start_time": "2025-10-21T19:23:35.980721Z"
    }
   },
   "outputs": [
    {
     "data": {
      "text/plain": [
       "np.int64(3)"
      ]
     },
     "execution_count": 103,
     "metadata": {},
     "output_type": "execute_result"
    }
   ],
   "source": [
    "# Bonus\n",
    "\n",
    "ser = pd.Series([\"a\", np.nan, 1, -np.nan, 2])\n",
    "ser.notnull().sum()"
   ]
  },
  {
   "cell_type": "code",
   "execution_count": null,
   "id": "279cbde33927a50f",
   "metadata": {},
   "outputs": [],
   "source": []
  }
 ],
 "metadata": {
  "kernelspec": {
   "display_name": "practice",
   "language": "python",
   "name": "python3"
  },
  "language_info": {
   "codemirror_mode": {
    "name": "ipython",
    "version": 3
   },
   "file_extension": ".py",
   "mimetype": "text/x-python",
   "name": "python",
   "nbconvert_exporter": "python",
   "pygments_lexer": "ipython3",
   "version": "3.13.5"
  }
 },
 "nbformat": 4,
 "nbformat_minor": 5
}
