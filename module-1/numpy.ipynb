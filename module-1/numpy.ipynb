{
 "cells": [
  {
   "cell_type": "code",
   "execution_count": 1,
   "metadata": {
    "ExecuteTime": {
     "end_time": "2025-10-19T15:43:48.409677Z",
     "start_time": "2025-10-19T15:43:48.402784Z"
    },
    "id": "v1WdItRQFZ4e"
   },
   "outputs": [],
   "source": [
    "# from google.colab import drive\n",
    "\n",
    "# drive.mount(\"/content/drive\", force_remount=True)\n",
    "# !ruff format \"/content/drive/MyDrive/Colab Notebooks/numpy/numpy-1.ipynb\" --line-length 120"
   ]
  },
  {
   "cell_type": "code",
   "execution_count": 2,
   "metadata": {
    "ExecuteTime": {
     "end_time": "2025-10-19T15:43:48.560612Z",
     "start_time": "2025-10-19T15:43:48.446003Z"
    },
    "id": "6OAgklufA4dY"
   },
   "outputs": [],
   "source": [
    "import time\n",
    "\n",
    "import numpy as np"
   ]
  },
  {
   "cell_type": "markdown",
   "metadata": {
    "id": "OXqHfY5SDFC6"
   },
   "source": [
    "# Speed Comparision b/w Python List and NumPy Arrays"
   ]
  },
  {
   "cell_type": "code",
   "execution_count": 3,
   "metadata": {
    "ExecuteTime": {
     "end_time": "2025-10-19T15:43:49.823009Z",
     "start_time": "2025-10-19T15:43:48.577515Z"
    },
    "colab": {
     "base_uri": "https://localhost:8080/"
    },
    "id": "nN-XNMvbBG95",
    "outputId": "339f6bb2-8618-4af4-ca56-810ae05b57cb"
   },
   "outputs": [
    {
     "name": "stdout",
     "output_type": "stream",
     "text": [
      "Time taken for Python list:  1.225168199998734\n"
     ]
    }
   ],
   "source": [
    "# Using Python built-in List\n",
    "\n",
    "speed_li = [1, 2, 3, 4, 5, 6, 7, 8, 9, 10] * 10_00_000\n",
    "speed_li_len = len(speed_li)\n",
    "\n",
    "start = time.perf_counter()\n",
    "for i in range(speed_li_len):\n",
    "    speed_li[i] = speed_li[i] * 2\n",
    "end = time.perf_counter()\n",
    "\n",
    "print(\"Time taken for Python list: \", end - start)"
   ]
  },
  {
   "cell_type": "code",
   "execution_count": 4,
   "metadata": {
    "ExecuteTime": {
     "end_time": "2025-10-19T15:43:50.500990Z",
     "start_time": "2025-10-19T15:43:49.841214Z"
    },
    "colab": {
     "base_uri": "https://localhost:8080/"
    },
    "id": "vVwW3FNRB4wQ",
    "outputId": "5ebb2191-7d7c-4f00-e91c-60b30cb61d17"
   },
   "outputs": [
    {
     "name": "stdout",
     "output_type": "stream",
     "text": [
      "Time taken for NumPy Arrays:  0.020963899998605484\n"
     ]
    }
   ],
   "source": [
    "# Using NumPy\n",
    "\n",
    "speed_li = [1, 2, 3, 4, 5, 6, 7, 8, 9, 10] * 10_00_000\n",
    "numpy_li = np.array(speed_li)\n",
    "\n",
    "start = time.perf_counter()\n",
    "result_li = numpy_li * 2\n",
    "end = time.perf_counter()\n",
    "\n",
    "print(\"Time taken for NumPy Arrays: \", end - start)"
   ]
  },
  {
   "cell_type": "markdown",
   "metadata": {
    "id": "YF4haA65DQfW"
   },
   "source": [
    "# Memory Usage b/w Python List and NumPy Arrays"
   ]
  },
  {
   "cell_type": "code",
   "execution_count": 5,
   "metadata": {
    "ExecuteTime": {
     "end_time": "2025-10-19T15:43:50.549536Z",
     "start_time": "2025-10-19T15:43:50.543200Z"
    },
    "colab": {
     "base_uri": "https://localhost:8080/"
    },
    "id": "EoNtVUxDDTzr",
    "outputId": "12ca0a06-9045-480f-d5b6-7dbb145b1588"
   },
   "outputs": [
    {
     "name": "stdout",
     "output_type": "stream",
     "text": [
      "Size of Python List:  920\n",
      "Size of NumPy array:  800\n"
     ]
    }
   ],
   "source": [
    "import sys\n",
    "\n",
    "memory_li = [i for i in range(100)]\n",
    "\n",
    "memory_numpy = np.array(memory_li)\n",
    "\n",
    "print(\"Size of Python List: \", sys.getsizeof(memory_li))\n",
    "print(\"Size of NumPy array: \", memory_numpy.nbytes)\n",
    "# print(\"Size of NumPy array: \", sys.getsizeof(memory_numpy))"
   ]
  },
  {
   "cell_type": "markdown",
   "metadata": {
    "id": "2lRS85ETG7so"
   },
   "source": [
    "# DataTypes b/w Python List and NumPy"
   ]
  },
  {
   "cell_type": "code",
   "execution_count": 6,
   "metadata": {
    "ExecuteTime": {
     "end_time": "2025-10-19T15:43:50.607497Z",
     "start_time": "2025-10-19T15:43:50.600555Z"
    },
    "colab": {
     "base_uri": "https://localhost:8080/"
    },
    "id": "-Aimh4mJD5pG",
    "outputId": "d83fae91-21c4-497b-c549-2e8fa4f295bf"
   },
   "outputs": [
    {
     "name": "stdout",
     "output_type": "stream",
     "text": [
      "Python List with different types:  [123, True, 'abc', 4.5]\n",
      "NumPy Array with different types:  ['123' 'True' 'abc' '4.5']\n"
     ]
    }
   ],
   "source": [
    "types_li = [123, True, \"abc\", 4.5]\n",
    "print(\"Python List with different types: \", types_li)\n",
    "\n",
    "types_numpy = np.array(types_li)\n",
    "print(\"NumPy Array with different types: \", types_numpy)"
   ]
  },
  {
   "cell_type": "markdown",
   "metadata": {
    "id": "8urOmYuGFF8k"
   },
   "source": [
    "# Difference b/w Python List & NumPy Arrays\n",
    "    **Feature**        |  **Python**     |  **NumPy**\n",
    "    --------------------------------------------------------------    \n",
    "    Speed              |  Slow           | Fast ( optimized in C )\n",
    "    Data Types         |  Mixed allowed  | Same data types only\n",
    "    Memory Efficiency  |  Less efficient | More efficient\n",
    "    Math Operations    |  Manual loop    | Direct (vectorized)\n",
    "    Built-in functions |  Limited        | More powerful tools"
   ]
  },
  {
   "cell_type": "markdown",
   "metadata": {
    "id": "R0gHVJxXI4_y"
   },
   "source": [
    "# Linear Algebra (Scalar, Vector, Matrix, Tensor)\n",
    "*Scalar*: Single value, for e.g, 30 (Zero dimension)\n",
    "\n",
    "*Vector*: 1 D-Array, for e.g, [1, 2, 3] (1 dimension)\n",
    "\n",
    "*Matrix*: 2 or 3 D-Array, for e.g, [[1, 2, 3], [4, 5, 6]] (2 dimension)\n",
    "\n",
    "*Tensor*: >3 D-Array, (greater than 3 dimensions)"
   ]
  },
  {
   "cell_type": "code",
   "execution_count": 7,
   "metadata": {
    "ExecuteTime": {
     "end_time": "2025-10-19T15:43:50.666050Z",
     "start_time": "2025-10-19T15:43:50.660721Z"
    },
    "colab": {
     "base_uri": "https://localhost:8080/"
    },
    "id": "3WaPt1n7KC9L",
    "outputId": "949127b9-d1fe-41fb-c6fe-a7e0e2abda06"
   },
   "outputs": [
    {
     "name": "stdout",
     "output_type": "stream",
     "text": [
      "Shape of Array: ()\n",
      "Dimensions of Array: 0\n"
     ]
    }
   ],
   "source": [
    "# Scalar\n",
    "\n",
    "scalar_np = np.array(30)\n",
    "print(\"Shape of Array:\", scalar_np.shape)\n",
    "print(\"Dimensions of Array:\", scalar_np.ndim)"
   ]
  },
  {
   "cell_type": "code",
   "execution_count": 8,
   "metadata": {
    "ExecuteTime": {
     "end_time": "2025-10-19T15:43:50.722043Z",
     "start_time": "2025-10-19T15:43:50.717143Z"
    },
    "colab": {
     "base_uri": "https://localhost:8080/"
    },
    "id": "3KqGp84vKV1H",
    "outputId": "e5037850-8314-4468-9c70-afc0a9b728a8"
   },
   "outputs": [
    {
     "name": "stdout",
     "output_type": "stream",
     "text": [
      "Shape of Array: (5,)\n",
      "Dimensions of Array: 1\n"
     ]
    }
   ],
   "source": [
    "# Vector\n",
    "\n",
    "vector_np = np.array([1, 2, 3, 4, 5])\n",
    "print(\"Shape of Array:\", vector_np.shape)\n",
    "print(\"Dimensions of Array:\", vector_np.ndim)"
   ]
  },
  {
   "cell_type": "code",
   "execution_count": 9,
   "metadata": {
    "ExecuteTime": {
     "end_time": "2025-10-19T15:43:50.772079Z",
     "start_time": "2025-10-19T15:43:50.766429Z"
    },
    "colab": {
     "base_uri": "https://localhost:8080/"
    },
    "id": "FE4SpTydKzqJ",
    "outputId": "f8a08496-d694-4254-930b-403054c1ce40"
   },
   "outputs": [
    {
     "name": "stdout",
     "output_type": "stream",
     "text": [
      "Shape of Array: (3, 2)\n",
      "Dimensions of Array: 2\n"
     ]
    }
   ],
   "source": [
    "# Matix\n",
    "\n",
    "matrix_np = np.array([[1, 2], [3, 4], [5, 6]])\n",
    "print(\"Shape of Array:\", matrix_np.shape)\n",
    "print(\"Dimensions of Array:\", matrix_np.ndim)"
   ]
  },
  {
   "cell_type": "markdown",
   "metadata": {
    "id": "xSz87XwbMHYW"
   },
   "source": [
    "# Creating Arrays in NumPy"
   ]
  },
  {
   "cell_type": "code",
   "execution_count": 10,
   "metadata": {
    "ExecuteTime": {
     "end_time": "2025-10-19T15:43:50.817976Z",
     "start_time": "2025-10-19T15:43:50.813152Z"
    },
    "colab": {
     "base_uri": "https://localhost:8080/"
    },
    "id": "gTQgqG4nMK3J",
    "outputId": "91503579-2810-4762-ba1c-027141b839d8"
   },
   "outputs": [
    {
     "name": "stdout",
     "output_type": "stream",
     "text": [
      "[0, 1, 2, 3, 4, 5, 6, 7, 8, 9]\n"
     ]
    }
   ],
   "source": [
    "# In Python using range\n",
    "\n",
    "range_py = list(range(10))  # range(start, stop, step) e.g. range(1, 11, 1)\n",
    "print(range_py)"
   ]
  },
  {
   "cell_type": "code",
   "execution_count": 11,
   "metadata": {
    "ExecuteTime": {
     "end_time": "2025-10-19T15:43:50.870195Z",
     "start_time": "2025-10-19T15:43:50.864867Z"
    },
    "colab": {
     "base_uri": "https://localhost:8080/"
    },
    "id": "FOLyAvvPMVWQ",
    "outputId": "4cd878aa-f3b2-4397-83ac-f7358598d766"
   },
   "outputs": [
    {
     "name": "stdout",
     "output_type": "stream",
     "text": [
      "[0 1 2 3 4 5 6 7 8 9]\n"
     ]
    }
   ],
   "source": [
    "# In NumPy using arange\n",
    "\n",
    "ranage_numpy = np.arange(10)  # arange(start, stop, step) e.g. arange(1, 11, 1)\n",
    "print(ranage_numpy)"
   ]
  },
  {
   "cell_type": "code",
   "execution_count": 12,
   "metadata": {
    "ExecuteTime": {
     "end_time": "2025-10-19T15:43:50.919452Z",
     "start_time": "2025-10-19T15:43:50.914158Z"
    },
    "colab": {
     "base_uri": "https://localhost:8080/"
    },
    "id": "dz6GHY__NBPD",
    "outputId": "4a21152f-b372-4805-c44a-99527971e0f8"
   },
   "outputs": [
    {
     "name": "stdout",
     "output_type": "stream",
     "text": [
      "[0.   0.25 0.5  0.75 1.  ]\n"
     ]
    }
   ],
   "source": [
    "# Create evenly spaced numbers between given values\n",
    "\n",
    "even_spaced_no = np.linspace(0, 1, 5)  # create 5 number between 0 and 1\n",
    "print(even_spaced_no)"
   ]
  },
  {
   "cell_type": "code",
   "execution_count": 13,
   "metadata": {
    "ExecuteTime": {
     "end_time": "2025-10-19T15:43:50.965174Z",
     "start_time": "2025-10-19T15:43:50.960315Z"
    },
    "colab": {
     "base_uri": "https://localhost:8080/"
    },
    "id": "sfvV-cI-OA6j",
    "outputId": "1a859cab-a93d-4170-d7ab-d6c718b137f2"
   },
   "outputs": [
    {
     "name": "stdout",
     "output_type": "stream",
     "text": [
      "[  10.           31.6227766   100.          316.22776602 1000.        ]\n"
     ]
    }
   ],
   "source": [
    "# Logarithmic Scale Array\n",
    "\n",
    "log_array = np.logspace(1, 3, 5)  # start, end, points ==> 10^1, 10^3, 5 points\n",
    "print(log_array)"
   ]
  },
  {
   "cell_type": "code",
   "execution_count": 14,
   "metadata": {
    "ExecuteTime": {
     "end_time": "2025-10-19T15:43:51.019628Z",
     "start_time": "2025-10-19T15:43:51.014964Z"
    },
    "colab": {
     "base_uri": "https://localhost:8080/"
    },
    "id": "dfl1U1kXPPFH",
    "outputId": "f25378e8-0dd1-4ebe-b803-0d56e86d0fb2"
   },
   "outputs": [
    {
     "name": "stdout",
     "output_type": "stream",
     "text": [
      "Single Dimension: [0. 0. 0. 0. 0. 0. 0. 0. 0. 0.]\n",
      "Multi Dimension: [[0 0 0]\n",
      " [0 0 0]]\n"
     ]
    }
   ],
   "source": [
    "# Array of Zeros (0)\n",
    "\n",
    "zeros_array = np.zeros(10)  # creates an array with 10 zeros\n",
    "print(\"Single Dimension:\", zeros_array)\n",
    "\n",
    "# Multi-dimension zeros\n",
    "mul_zeros = np.zeros([2, 3], dtype=np.int32)  # 2 rows 3 columns of Zeros with type 32 bit integer\n",
    "print(\"Multi Dimension:\", mul_zeros)"
   ]
  },
  {
   "cell_type": "code",
   "execution_count": 15,
   "metadata": {
    "ExecuteTime": {
     "end_time": "2025-10-19T15:43:51.037590Z",
     "start_time": "2025-10-19T15:43:51.032590Z"
    },
    "colab": {
     "base_uri": "https://localhost:8080/"
    },
    "id": "Sebmqr9BP8Bp",
    "outputId": "b0862647-e0d4-4a8e-b988-081a9aa7232d"
   },
   "outputs": [
    {
     "name": "stdout",
     "output_type": "stream",
     "text": [
      "Single Dimension: [1 1 1 1 1]\n",
      "Multi Dimension: [[1. 1. 1.]\n",
      " [1. 1. 1.]]\n"
     ]
    }
   ],
   "source": [
    "# Array of Ones (1)\n",
    "\n",
    "ones_array = np.ones(5, dtype=int)  # Create an array with 5 ones of type int\n",
    "print(\"Single Dimension:\", ones_array)\n",
    "\n",
    "# Multi-dimension ones\n",
    "mul_ones = np.ones([2, 3])  # 2 rows 3 columns of ones\n",
    "print(\"Multi Dimension:\", mul_ones)"
   ]
  },
  {
   "cell_type": "code",
   "execution_count": 16,
   "metadata": {
    "ExecuteTime": {
     "end_time": "2025-10-19T15:43:51.110757Z",
     "start_time": "2025-10-19T15:43:51.105645Z"
    },
    "colab": {
     "base_uri": "https://localhost:8080/"
    },
    "id": "LiSUHU3iSUs1",
    "outputId": "f535a077-1297-4b2e-e983-a521a9dc64a5"
   },
   "outputs": [
    {
     "name": "stdout",
     "output_type": "stream",
     "text": [
      "Single Dimension: [2 2 2 2 2]\n",
      "Multi Dimension: [[7 7]\n",
      " [7 7]\n",
      " [7 7]\n",
      " [7 7]]\n"
     ]
    }
   ],
   "source": [
    "# Array of custom values\n",
    "\n",
    "cust_array = np.full(5, 2)  # Create an array with 5 two's\n",
    "print(\"Single Dimension:\", cust_array)\n",
    "\n",
    "# Multi-dimension array\n",
    "mul_array = np.full([4, 2], 7.1, dtype=np.int32)  # 4 rows 2 columns of array with number 7 of type 32 bit integer\n",
    "\n",
    "# NOTE: The mul_array contains integer 7 even though I gave 7.1 (float). NumPy converted float to int32 because of dtype\n",
    "print(\"Multi Dimension:\", mul_array)"
   ]
  },
  {
   "cell_type": "code",
   "execution_count": 17,
   "metadata": {
    "ExecuteTime": {
     "end_time": "2025-10-19T15:43:51.129149Z",
     "start_time": "2025-10-19T15:43:51.123707Z"
    },
    "colab": {
     "base_uri": "https://localhost:8080/"
    },
    "id": "qFqLG-EcS-NA",
    "outputId": "fa43bd4d-f3f6-4acf-b04b-41a46e91ee05"
   },
   "outputs": [
    {
     "name": "stdout",
     "output_type": "stream",
     "text": [
      "single dimension: <built-in function empty>\n",
      "Multi Dimension: [[1. 1. 1.]\n",
      " [1. 1. 1.]]\n"
     ]
    }
   ],
   "source": [
    "# Empty Array\n",
    "\n",
    "empty_arr = np.empty  # Uninitialized Array\n",
    "print(\"single dimension:\", empty_arr)\n",
    "\n",
    "# Multi dimension\n",
    "mul_empty = np.empty([2, 3])  # Uninitialized Array with 2 rows and 3 columns\n",
    "\n",
    "# NOTE: the mul_empty will contains zeros (0), but it is uninitialized array only\n",
    "print(\"Multi Dimension:\", mul_empty)"
   ]
  },
  {
   "cell_type": "markdown",
   "metadata": {},
   "source": "# Random Values"
  },
  {
   "cell_type": "code",
   "execution_count": 18,
   "metadata": {
    "ExecuteTime": {
     "end_time": "2025-10-19T15:43:51.209873Z",
     "start_time": "2025-10-19T15:43:51.190455Z"
    },
    "colab": {
     "base_uri": "https://localhost:8080/"
    },
    "id": "fysX7wWEUbQB",
    "outputId": "66b4ae71-989b-40ed-9c8e-9083597e4390"
   },
   "outputs": [
    {
     "name": "stdout",
     "output_type": "stream",
     "text": [
      "Single Dimension: [0.81370467 0.45668135]\n",
      "Multi dimension: [[0.84890558 0.55943565 0.28788838 0.18305816]\n",
      " [0.93331254 0.15794391 0.7962862  0.81803745]\n",
      " [0.64956372 0.86733745 0.77056678 0.23385865]]\n",
      "\n",
      "Single Dimension: 7\n",
      "Random value b/w given range: 56\n",
      "Multi Dimension: [[4 8 6]\n",
      " [9 7 6]]\n"
     ]
    }
   ],
   "source": [
    "single_rand = np.random.rand(2)  # Two random float values\n",
    "print(\"Single Dimension:\", single_rand)\n",
    "\n",
    "mul_rand = np.random.rand(3, 4)  # 3 rows 4 columns of random values\n",
    "print(\"Multi dimension:\", mul_rand)\n",
    "\n",
    "# Random Integer values\n",
    "print()\n",
    "rand_int = np.random.randint(10)  # This will generate only one value between 0 to given number\n",
    "print(\"Single Dimension:\", rand_int)\n",
    "range_rand_int = np.random.randint(2, 99)\n",
    "print(\"Random value b/w given range:\", range_rand_int)\n",
    "mul_rand_int = np.random.randint(2, 10, size=(2, 3))  # 2 rows 3 columns random value b/w 2 and 10\n",
    "print(\"Multi Dimension:\", mul_rand_int)"
   ]
  },
  {
   "cell_type": "code",
   "execution_count": 19,
   "metadata": {
    "ExecuteTime": {
     "end_time": "2025-10-19T15:43:51.253139Z",
     "start_time": "2025-10-19T15:43:51.247477Z"
    },
    "colab": {
     "base_uri": "https://localhost:8080/"
    },
    "id": "gSVnNV4ZVy5F",
    "outputId": "0b56db94-0385-4234-976a-a066e92a0be9"
   },
   "outputs": [
    {
     "name": "stdout",
     "output_type": "stream",
     "text": [
      "Single random float: -0.46442637524273944\n",
      "1D array: [-0.26147629 -0.44210466 -0.4797686  -0.40255389  1.11825219]\n",
      "2D array: [[-1.67427274  0.04355084]\n",
      " [ 0.06184435  1.57408801]\n",
      " [ 0.38300087  1.05458164]]\n"
     ]
    }
   ],
   "source": [
    "# Standard Normal Distribution Random value\n",
    "\"\"\"\n",
    "    numpy.random.randn(d0, d1, ..., dn)\n",
    "\n",
    "    Mean (Average)\n",
    "        The mean is simply the average of all numbers.\n",
    "        Add up all the numbers and divide by how many there are.\n",
    "        Example: For the numbers 4, 8, 6, 5, 3, 7, the mean is ( 4 + 8 + 6 + 5 + 3 + 7 ) / 6 = 5.5.\n",
    "\n",
    "    Variance\n",
    "        Variance shows how spread out the numbers are from the mean.\n",
    "        To find it, look at how far each number is from the mean, square each difference, then average those squared differences.\n",
    "        Higher variance means numbers are more spread out, while low variance means they are closer together.\n",
    "\n",
    "    Standard Deviation\n",
    "        Standard deviation is simply the square root of the variance.\n",
    "        It tells you, on average, how far each number is from the mean—but in the same units as the numbers (not squared).\n",
    "        Smaller standard deviation means the numbers are close to the mean; bigger means they’re more spread out.\n",
    "\n",
    "    Simple Example\n",
    "      For the values 4, 8, 6, 5, 3, 7:\n",
    "        - Mean = 5.5\n",
    "        - Variance = 2.92 (the average of squared distances from the mean)\n",
    "        - Standard deviation = 1.71 (the square root of 2.92).\n",
    "\n",
    "    So, these three terms help describe the “center” (mean) and the “spread” (variance, standard deviation) of a set of numbers in a simple, meaningful way\n",
    "\"\"\"\n",
    "\n",
    "# If no arguments are provided, it returns a single random float sampled from the standard normal distribution\n",
    "x = np.random.randn()  # Single random float\n",
    "print(\"Single random float:\", x)\n",
    "\n",
    "# If you provide integers as arguments, it creates an array of the given shape filled with random values from the standard normal distribution\n",
    "y = np.random.randn(5)  # 1D array (5 random numbers)\n",
    "print(\"1D array:\", y)\n",
    "\n",
    "z = np.random.randn(3, 2)  # 2D array (3 rows, 2 columns)\n",
    "print(\"2D array:\", z)\n",
    "\n",
    "# Each of these will draw values from the standard normal distribution (mean = 0, variance = 1)"
   ]
  },
  {
   "cell_type": "code",
   "execution_count": 20,
   "metadata": {
    "ExecuteTime": {
     "end_time": "2025-10-19T15:43:51.295045Z",
     "start_time": "2025-10-19T15:43:51.289574Z"
    },
    "colab": {
     "base_uri": "https://localhost:8080/"
    },
    "id": "EbZOCS4PBaRS",
    "outputId": "56d4bb2d-8d4d-4fac-d3d8-68f581a00afd"
   },
   "outputs": [
    {
     "name": "stdout",
     "output_type": "stream",
     "text": [
      "Custom Mean: [[ 5.68621829 10.60455339  0.01272848  0.28193862]\n",
      " [ 3.36416411  2.39977583  6.06612875  1.7481847 ]]\n"
     ]
    }
   ],
   "source": [
    "# Custom Mean and Standard Deviation\n",
    "# values = sigma * np.random.randn(shape) + mu\n",
    "# Key Points\n",
    "#     All numbers are generated independently.\n",
    "#     The distribution is always \"bell-shaped\" (Gaussian), centered at 0, unless scaled as shown above\n",
    "\n",
    "cust_mean = 2.5 * np.random.randn(2, 4) + 3  # creates a 2x4 array with mean 3 and std deviation 2.5\n",
    "print(\"Custom Mean:\", cust_mean)"
   ]
  },
  {
   "cell_type": "markdown",
   "metadata": {
    "id": "iVi0w0NAdKEC"
   },
   "source": [
    "# NumPy Data Types and Type Casting\n",
    "    DataType |        Description         | Example Values\n",
    "    --------- ---------------------------- ----------------\n",
    "    int32    |   32-bit integer           | 1, 2, 3\n",
    "    int64    |   64-bit integer (default) | 100, 2500\n",
    "    float32  |   32-bit float             | 1.0, 3.14\n",
    "    float64  |   64-bit float (default)   | 1.00000001\n",
    "    bool     |   Boolean (True / False)   | True, False\n",
    "    complex  |   Complex Numbers          | 1+2j, 3-4j\n",
    "    str      |   Unicode String           | 'hi', '123'\n",
    "\n",
    "NumPy arrays always have a single data type for all elements, so when mixed types are present, NumPy finds a type that can represent all elements safely—this is called \"type upcasting\" or \"type promotion\".\n",
    "\n",
    "**Precedence Rules (Type Hierarchy)**\n",
    "\n",
    "    - If all elements are integers (like ``), the array uses the smallest integer type that fits the values (usually int64 or int32).\n",
    "    - If even one element is a float (like [1, 2, 3.5]), NumPy promotes everything to float (e.g., float64), because integer types cannot represent the decimal part.\n",
    "    - If any element is a string (like [1, 2, 3, \"hello\"]), all values are converted to strings, since numeric types cannot hold text but strings can represent any value.\n",
    "    - If there's a mix of more complex types (like a number and a Python object), NumPy uses the most general type, possibly object.\n",
    "\n",
    "**Reason**\n",
    "\n",
    "This system ensures that every value in the array can be represented correctly, even though it sometimes requires \"widening\" the type and possibly losing precision for some original data. The main idea: the \"widest\" or \"most general\" type takes precedence, with the order typically being integer < float < string/object.\n",
    "\n",
    "**So**: floats win over ints, and strings win over both. That’s why adding one float makes the whole array float, and one string makes the entire array strings"
   ]
  },
  {
   "cell_type": "code",
   "execution_count": 21,
   "metadata": {
    "ExecuteTime": {
     "end_time": "2025-10-19T15:43:51.375002Z",
     "start_time": "2025-10-19T15:43:51.334785Z"
    },
    "colab": {
     "base_uri": "https://localhost:8080/"
    },
    "id": "PeMUBcu6mFB0",
    "outputId": "b8170d28-4b40-4d78-b1d0-72bcb2187700"
   },
   "outputs": [
    {
     "name": "stdout",
     "output_type": "stream",
     "text": [
      "Boolean Array: [ True False  True False]\n",
      "Data Type: bool\n",
      "\n",
      "Integer Array: [1 2 3 4 5]\n",
      "Data Type: int64\n",
      "\n",
      "Float Array: [1.   2.5  3.14 4.   5.1 ]\n",
      "Data Type: float64\n",
      "\n",
      "Exponential Array: [1.e-09 1.e+08 1.e-07]\n",
      "Data Type: float64\n",
      "\n",
      "Complex Array: [1.+2.j 3.+4.j 5.+6.j]\n",
      "Data Type: complex128\n",
      "\n",
      "String Array: ['a' 'ball' 'c' 'dog']\n",
      "Data Type: <U4\n"
     ]
    }
   ],
   "source": [
    "# Default types (Based on the values NumPy will decide the type)\n",
    "\n",
    "# Boolean values\n",
    "bool_arr = np.array([True, False, True, False])\n",
    "print(\"Boolean Array:\", bool_arr)\n",
    "print(\"Data Type:\", bool_arr.dtype)\n",
    "\n",
    "# Integer values\n",
    "int_arr = np.array([1, 2, 3, 4, 5])  # As all the values are integers NumPy will use int64 which is default for integers\n",
    "print(\"\\nInteger Array:\", int_arr)\n",
    "print(\"Data Type:\", int_arr.dtype)\n",
    "\n",
    "# Float values\n",
    "float_arr = np.array(\n",
    "    [1.0, 2.5, 3.14, 4.0, 5.10]\n",
    ")  # As all the values are floats NumPy will use float66 bit which is default for floats\n",
    "print(\"\\nFloat Array:\", float_arr)\n",
    "print(\"Data Type:\", float_arr.dtype)\n",
    "\n",
    "# exponential values\n",
    "#   - The letter \"e\" or \"E\" to represent \"times 10 to the power of,\" such as 1e3 or 1E3 for 1000[strictly speaking, e and E work interchangeably].\n",
    "#   - The base is always 10; you don't typically change this number in scientific notation.\n",
    "#   - The exponent can be positive (large numbers) or negative (small numbers).\n",
    "\n",
    "# The notation \"1e-9\" means \"1 times 10 to the power of -9.\" It is a way to write very small numbers using scientific notation. Specifically, 1e-9 equals 0.000000001 (one billionth)\n",
    "# A positive exponent (like 1e + 9) means the number is large. You move the decimal point to the right by that many places. For example, 1e+3 = 1×10^3 = 1000.\n",
    "# A negative exponent (like 1e − 9) means the number is very small, less than 1. You move the decimal point to the left by that many places. For example, 1e−3=1×10^−3=0.001.\n",
    "exp_arr = np.array([1e-9, 1e8, 1e-7])  # As all the values are exponential NumPy will use float64 type\n",
    "print(\"\\nExponential Array:\", exp_arr)\n",
    "print(\"Data Type:\", exp_arr.dtype)\n",
    "\n",
    "# complex values\n",
    "complex_arr = np.array([1 + 2j, 3 + 4j, 5 + 6j])  # As all the values are complex NumPy will use complex128 type\n",
    "print(\"\\nComplex Array:\", complex_arr)\n",
    "print(\"Data Type:\", complex_arr.dtype)\n",
    "\n",
    "# str values\n",
    "str_arr = np.array([\"a\", \"ball\", \"c\", \"dog\"])  # As all the values are strings NumPy will use unicode type\n",
    "print(\"\\nString Array:\", str_arr)\n",
    "print(\"Data Type:\", str_arr.dtype)"
   ]
  },
  {
   "cell_type": "code",
   "execution_count": 22,
   "metadata": {
    "ExecuteTime": {
     "end_time": "2025-10-19T15:43:51.414676Z",
     "start_time": "2025-10-19T15:43:51.406607Z"
    },
    "colab": {
     "base_uri": "https://localhost:8080/"
    },
    "id": "m0ZAddypdPCa",
    "outputId": "62d0f997-dcc7-4c9c-ce51-0d41f63325be"
   },
   "outputs": [
    {
     "name": "stdout",
     "output_type": "stream",
     "text": [
      "Boolean Array: [ True False]\n",
      "Data Type: bool\n",
      "\n",
      "***** Integer wins over booleans *****\n",
      "Booleans converted to Integers: [0 9 1 0]\n",
      "Data Type: int64\n",
      "\n",
      "***** Floats wins over Integers and booleans *****\n",
      "Booleans and Integers converted to Floats: [0. 2. 1. 5. 9. 1. 0.]\n",
      "Data Type: float64\n",
      "\n",
      "***** Strings wins over Floats, Integers and Booleans *****\n",
      "Strings wins over Floats, Integers and Booleans: ['3.14' '786' 'True' '143' 'Hi' 'False' '999.9']\n",
      "Data Type: <U32\n"
     ]
    }
   ],
   "source": [
    "# Just Booleans\n",
    "arr_data = np.array([True, False])\n",
    "print(\"Boolean Array:\", arr_data)\n",
    "print(\"Data Type:\", arr_data.dtype)\n",
    "\n",
    "# Integer wins over booleans\n",
    "print(\"\\n***** Integer wins over booleans *****\")\n",
    "arr_data = np.array([False, 9, True, False])  # All booleans are converted to integers because of single int value\n",
    "print(\"Booleans converted to Integers:\", arr_data)\n",
    "print(\"Data Type:\", arr_data.dtype)\n",
    "\n",
    "# Floats wins over Integers and booleans\n",
    "print(\"\\n***** Floats wins over Integers and booleans *****\")\n",
    "arr_data = np.array(\n",
    "    [False, 2, True, 5, 9, 1.0, False]\n",
    ")  # All bools and ints are converted to floats because of single float value\n",
    "print(\"Booleans and Integers converted to Floats:\", arr_data)\n",
    "print(\"Data Type:\", arr_data.dtype)\n",
    "\n",
    "# Strings wins over Floats, Integers and Booleans\n",
    "print(\"\\n***** Strings wins over Floats, Integers and Booleans *****\")\n",
    "arr_data = np.array(\n",
    "    [3.14, 786, True, 143, \"Hi\", False, 999.9]\n",
    ")  # All bools, ints and floats are converted to str because of single str value\n",
    "print(\"Strings wins over Floats, Integers and Booleans:\", arr_data)\n",
    "print(\"Data Type:\", arr_data.dtype)"
   ]
  },
  {
   "cell_type": "code",
   "execution_count": 23,
   "metadata": {
    "ExecuteTime": {
     "end_time": "2025-10-19T15:43:51.436147Z",
     "start_time": "2025-10-19T15:43:51.426630Z"
    },
    "colab": {
     "base_uri": "https://localhost:8080/"
    },
    "id": "LkYhHOzcdjUR",
    "outputId": "543ce16c-8325-4f0d-ae28-efe1dc34a5ad"
   },
   "outputs": [
    {
     "name": "stdout",
     "output_type": "stream",
     "text": [
      "Integers are converted to floats: [1. 2. 3. 4. 5.]\n",
      "Data Type: float64\n",
      "\n",
      "Integers are converted to bools: [ True  True False  True False  True]\n",
      "Data Type: bool\n",
      "\n",
      "Strings are converted to integers: [1 2 3 4 5]\n",
      "Data Type: int32\n",
      "\n",
      "Strings are converted to floats: [ 3.14  5.5  10.1 ]\n",
      "Data Type: float32\n",
      "\n",
      "Floats are converted to integers: [ 3  5 10]\n",
      "Data Type: int32\n"
     ]
    }
   ],
   "source": [
    "# Manual convertion\n",
    "\n",
    "# Convert all integer to floats\n",
    "arr = np.array([1, 2, 3, 4, 5], dtype=np.float64)  # Manually asking numpy to convert values to float64 bit\n",
    "print(\"Integers are converted to floats:\", arr)\n",
    "print(\"Data Type:\", arr.dtype)\n",
    "\n",
    "# Convert all integer to bools\n",
    "arr = np.array([1, 2, 0, 4, 0, -1], dtype=np.bool_)  # Manually asking numpy to convert values to bool\n",
    "print(\"\\nIntegers are converted to bools:\", arr)\n",
    "print(\"Data Type:\", arr.dtype)\n",
    "\n",
    "# Convert all numbers in string format to integers\n",
    "arr = np.array([\"1\", \"2\", \"3\", \"4\", \"5\"], dtype=np.int32)  # Manually asking numpy to convert values to int32\n",
    "print(\"\\nStrings are converted to integers:\", arr)\n",
    "print(\"Data Type:\", arr.dtype)\n",
    "\n",
    "# Convert all numbers in string format to floats\n",
    "arr = np.array([\"3.14\", \"5.5\", \"10.1\"], dtype=np.float32)  # Manually convert values to float32 type\n",
    "print(\"\\nStrings are converted to floats:\", arr)\n",
    "print(\"Data Type:\", arr.dtype)\n",
    "\n",
    "# Convert float like strings to integers\n",
    "arr_int = arr.astype(np.int32)\n",
    "print(\"\\nFloats are converted to integers:\", arr_int)\n",
    "print(\"Data Type:\", arr_int.dtype)"
   ]
  },
  {
   "cell_type": "code",
   "execution_count": 24,
   "metadata": {
    "ExecuteTime": {
     "end_time": "2025-10-19T15:43:51.497094Z",
     "start_time": "2025-10-19T15:43:51.493405Z"
    },
    "colab": {
     "base_uri": "https://localhost:8080/"
    },
    "id": "oLNI7wjF6oo3",
    "outputId": "ef7e8d37-e4cf-4e57-e4c7-ed04409f62be"
   },
   "outputs": [
    {
     "name": "stdout",
     "output_type": "stream",
     "text": [
      "Error: invalid literal for int() with base 10: '3.14'\n"
     ]
    }
   ],
   "source": [
    "# Type casting errors\n",
    "try:\n",
    "    arr = np.array([\"3.14\", \"5.5\", \"10.1\"], dtype=np.int32)  # Trying to convert string like floats to int\n",
    "except ValueError as e:\n",
    "    print(\"Error:\", e)"
   ]
  },
  {
   "cell_type": "code",
   "execution_count": 25,
   "metadata": {
    "ExecuteTime": {
     "end_time": "2025-10-19T15:43:51.533055Z",
     "start_time": "2025-10-19T15:43:51.527528Z"
    },
    "colab": {
     "base_uri": "https://localhost:8080/"
    },
    "id": "VNUInd2V9pzK",
    "outputId": "271468c0-0379-4aeb-c231-f6614d3298e0"
   },
   "outputs": [
    {
     "name": "stdout",
     "output_type": "stream",
     "text": [
      "Error: invalid literal for int() with base 10: 'hi'\n"
     ]
    }
   ],
   "source": [
    "# Type casting errors\n",
    "\n",
    "try:\n",
    "    arr = np.array([\"1\", \"hi\", \"123\"], dtype=np.int32)  # Trying to convert strings to int\n",
    "except ValueError as e:\n",
    "    print(\"Error:\", e)"
   ]
  },
  {
   "cell_type": "markdown",
   "metadata": {},
   "source": [
    "# Insert new elements in existing array"
   ]
  },
  {
   "cell_type": "code",
   "execution_count": 26,
   "metadata": {
    "ExecuteTime": {
     "end_time": "2025-10-19T15:43:51.550553Z",
     "start_time": "2025-10-19T15:43:51.543424Z"
    }
   },
   "outputs": [
    {
     "name": "stdout",
     "output_type": "stream",
     "text": [
      "Original Array: [1 2 3 4 5]\n",
      "Array after appending new elements: [1 2 3 4 5 6 7 8]\n",
      "Array after inserting new elements at index 2: [ 1  2 10 11  3  4  5]\n",
      "Array after inserting new elements at index 1 and 3: [ 1 20  2  3 30  4  5]\n",
      "Concatenated Array: [1 2 3 4 5 6 7 8]\n"
     ]
    }
   ],
   "source": [
    "arr = np.array([1, 2, 3, 4, 5])\n",
    "print(\"Original Array:\", arr)\n",
    "\n",
    "# Append new elements at the end of the array\n",
    "new_arr = np.append(arr, [6, 7, 8])\n",
    "print(\"Array after appending new elements:\", new_arr)\n",
    "\n",
    "# Insert new elements in existing array\n",
    "new_arr = np.insert(arr, 2, [10, 11])  # Insert 10 and 11 at index 2\n",
    "print(\"Array after inserting new elements at index 2:\", new_arr)\n",
    "\n",
    "# Insert new elements in existing array\n",
    "new_arr = np.insert(arr, [1, 3], [20, 30])  # Insert 20 at index 1 and 30 at index 3\n",
    "print(\"Array after inserting new elements at index 1 and 3:\", new_arr)\n",
    "\n",
    "# Concatenate two arrays\n",
    "arr2 = np.array([6, 7, 8])\n",
    "concat_arr = np.concatenate((arr, arr2))\n",
    "print(\"Concatenated Array:\", concat_arr)\n",
    "\n",
    "# Note: The original array remains unchanged after append, insert, and concatenate operations. These operations return new arrays with the modifications.s"
   ]
  },
  {
   "cell_type": "markdown",
   "metadata": {},
   "source": [
    "# Delete elements in existing array"
   ]
  },
  {
   "cell_type": "code",
   "execution_count": 27,
   "metadata": {
    "ExecuteTime": {
     "end_time": "2025-10-19T15:43:51.590117Z",
     "start_time": "2025-10-19T15:43:51.583971Z"
    }
   },
   "outputs": [
    {
     "name": "stdout",
     "output_type": "stream",
     "text": [
      "Original Array: [1 2 3 4 5]\n",
      "Array after deleting element at index 2: [1 2 4 5]\n",
      "Array after deleting elements at index 1 and 3: [1 3 5]\n",
      "Array after removing odd numbers: [2 4]\n"
     ]
    }
   ],
   "source": [
    "arr = np.array([1, 2, 3, 4, 5])\n",
    "print(\"Original Array:\", arr)\n",
    "\n",
    "# Remove elements from array\n",
    "new_arr = np.delete(arr, 2)  # Remove element at index 2\n",
    "print(\"Array after deleting element at index 2:\", new_arr)\n",
    "\n",
    "# Remove multiple elements from array\n",
    "new_arr = np.delete(arr, [1, 3])  # Remove elements at index 1 and 3\n",
    "print(\"Array after deleting elements at index 1 and 3:\", new_arr)\n",
    "\n",
    "# Remove elements based on condition\n",
    "new_arr = arr[arr % 2 == 0]  # Keep only even numbers\n",
    "print(\"Array after removing odd numbers:\", new_arr)\n",
    "\n",
    "# Note: The original array remains unchanged after delete operations. These operations return new arrays with the modifications."
   ]
  },
  {
   "cell_type": "markdown",
   "metadata": {
    "id": "AZXYopRf-7Ip"
   },
   "source": [
    "# Important NumPy Array attributes"
   ]
  },
  {
   "cell_type": "code",
   "execution_count": 28,
   "metadata": {
    "ExecuteTime": {
     "end_time": "2025-10-19T15:43:51.646638Z",
     "start_time": "2025-10-19T15:43:51.641040Z"
    },
    "colab": {
     "base_uri": "https://localhost:8080/"
    },
    "id": "-18nfp1f_CsR",
    "outputId": "63d41877-ba4a-4587-f47e-910bd7c60b9e"
   },
   "outputs": [
    {
     "name": "stdout",
     "output_type": "stream",
     "text": [
      "Array Dimension: 2\n",
      "Array Shape: (4, 3)\n",
      "Elements in array: 12\n",
      "Memory of each element in bytes: 8\n",
      "Sum of all elements: 45\n",
      "Minimum value in array: 0\n",
      "Maximum value in array: 9\n",
      "Average value in array: 3.75\n",
      "Standard deviation in array: 3.112474899497183\n"
     ]
    }
   ],
   "source": [
    "arr = np.array([[1, 2, 3], [4, 5, 6], [7, 8, 9], [0, 0, 0]])\n",
    "\n",
    "# Find dimension of array\n",
    "print(\"Array Dimension:\", arr.ndim)  # also use np.ndim(arr)\n",
    "\n",
    "# Find shape of array (no.of rows and columns)\n",
    "print(\"Array Shape:\", arr.shape)  # also use np.shape(arr)\n",
    "\n",
    "# Find no.of elements in the array\n",
    "print(\"Elements in array:\", arr.size)  # also use np.size(arr)\n",
    "\n",
    "# Find how much bytes of memory each element in the array takes\n",
    "print(\"Memory of each element in bytes:\", arr.itemsize)  # also use np.itemsize(arr)\n",
    "\n",
    "# Sum of all elements in array\n",
    "print(\"Sum of all elements:\", arr.sum())  # also use np.sum(arr)\n",
    "\n",
    "# Find minimum value in array\n",
    "print(\"Minimum value in array:\", arr.min())  # also use np.min(arr)\n",
    "\n",
    "# Find maximum value in array\n",
    "print(\"Maximum value in array:\", arr.max())  # also use np.max(arr)\n",
    "\n",
    "# Find average value in array\n",
    "print(\"Average value in array:\", arr.mean())  # also use np.mean(arr)\n",
    "\n",
    "# Find standard deviation in array\n",
    "print(\"Standard deviation in array:\", arr.std())"
   ]
  },
  {
   "cell_type": "markdown",
   "metadata": {
    "id": "GZ_tY-3KBM3u"
   },
   "source": [
    "# Array ReShaping"
   ]
  },
  {
   "cell_type": "code",
   "execution_count": 29,
   "metadata": {
    "ExecuteTime": {
     "end_time": "2025-10-19T15:43:51.664417Z",
     "start_time": "2025-10-19T15:43:51.657987Z"
    },
    "colab": {
     "base_uri": "https://localhost:8080/"
    },
    "id": "eP9fsNmoBQZ9",
    "outputId": "ee38e254-2761-4077-d8c1-3002a2ee1b61"
   },
   "outputs": [
    {
     "name": "stdout",
     "output_type": "stream",
     "text": [
      "Array values: [1 2 3 4 5 6 7 8]\n",
      "Original shape: (8,)\n",
      "\n",
      "Reshaped array: [[1 2]\n",
      " [3 4]\n",
      " [5 6]\n",
      " [7 8]]\n",
      "Reshaped shape: (4, 2)\n",
      "\n",
      "Reshaped array: [[[1 2]\n",
      "  [3 4]]\n",
      "\n",
      " [[5 6]\n",
      "  [7 8]]]\n",
      "Reshaped shape: (2, 2, 2)\n",
      "\n",
      "Flattened array: [1 2 3 4 5 6 7 8]\n",
      "Flattened shape: (8,)\n",
      "\n",
      "Flattened array using ravel: [1 2 3 4 5 6 7 8]\n",
      "Flattened shape using ravel: (8,)\n"
     ]
    }
   ],
   "source": [
    "# Reshaping\n",
    "arr = np.array([1, 2, 3, 4, 5, 6, 7, 8])\n",
    "print(\"Array values:\", arr)\n",
    "print(\"Original shape:\", arr.shape)\n",
    "\n",
    "# After reshaping\n",
    "arr_reshape = arr.reshape(4, 2)  # converts into 4 rows and 2 columns\n",
    "print(\"\\nReshaped array:\", arr_reshape)\n",
    "print(\"Reshaped shape:\", arr_reshape.shape)\n",
    "\n",
    "arr_reshape = arr.reshape(2, 2, 2)  # converts into 2 rows and 2 columns\n",
    "print(\"\\nReshaped array:\", arr_reshape)\n",
    "print(\"Reshaped shape:\", arr_reshape.shape)\n",
    "\n",
    "# Flatten the reshaped array\n",
    "arr_flatten = arr_reshape.flatten()\n",
    "print(\"\\nFlattened array:\", arr_flatten)\n",
    "print(\"Flattened shape:\", arr_flatten.shape)\n",
    "\n",
    "# Flatten array using ravel\n",
    "arr_ravel = arr_reshape.ravel()\n",
    "print(\"\\nFlattened array using ravel:\", arr_ravel)\n",
    "print(\"Flattened shape using ravel:\", arr_ravel.shape)"
   ]
  },
  {
   "cell_type": "markdown",
   "metadata": {},
   "source": "# Difference b/w flatten and ravel"
  },
  {
   "cell_type": "code",
   "execution_count": 30,
   "metadata": {
    "ExecuteTime": {
     "end_time": "2025-10-19T15:43:51.724195Z",
     "start_time": "2025-10-19T15:43:51.718380Z"
    },
    "colab": {
     "base_uri": "https://localhost:8080/"
    },
    "id": "1k7rqUA0CHPs",
    "outputId": "9eec7506-d32d-4a64-e4b4-55c6f6e1fc4b"
   },
   "outputs": [
    {
     "name": "stdout",
     "output_type": "stream",
     "text": [
      "Original array: [[[1 2]\n",
      "  [3 4]]\n",
      "\n",
      " [[5 6]\n",
      "  [7 8]]]\n",
      "Original shape: (2, 2, 2)\n",
      "\n",
      "Ravel array: [1 2 3 4 5 6 7 8]\n",
      "Ravel shape: (8,)\n",
      "\n",
      "Modified ravel array: [111   2   3   4   5   6   7   8]\n",
      "Modified original array: [[[111   2]\n",
      "  [  3   4]]\n",
      "\n",
      " [[  5   6]\n",
      "  [  7   8]]]\n"
     ]
    }
   ],
   "source": [
    "# Difference between flatten and ravel\n",
    "# RAVEL: Changes made to ravel array will also reflect in original array\n",
    "x = np.array([[[1, 2], [3, 4]], [[5, 6], [7, 8]]])\n",
    "print(\"Original array:\", x)\n",
    "print(\"Original shape:\", x.shape)\n",
    "\n",
    "y = x.ravel()\n",
    "print(\"\\nRavel array:\", y)\n",
    "print(\"Ravel shape:\", y.shape)\n",
    "\n",
    "# Modifying ravel array\n",
    "y[0] = 111\n",
    "print(\"\\nModified ravel array:\", y)\n",
    "print(\"Modified original array:\", x)"
   ]
  },
  {
   "cell_type": "code",
   "execution_count": 31,
   "metadata": {
    "ExecuteTime": {
     "end_time": "2025-10-19T15:43:51.765042Z",
     "start_time": "2025-10-19T15:43:51.759782Z"
    },
    "colab": {
     "base_uri": "https://localhost:8080/"
    },
    "id": "s0aiWao_FGnd",
    "outputId": "2fa33fbc-7507-48f7-89bf-c5b0ad81770c"
   },
   "outputs": [
    {
     "name": "stdout",
     "output_type": "stream",
     "text": [
      "Original array: [[[1 2]\n",
      "  [3 4]]\n",
      "\n",
      " [[5 6]\n",
      "  [7 8]]]\n",
      "Original shape: (2, 2, 2)\n",
      "\n",
      "Flattened array: [1 2 3 4 5 6 7 8]\n",
      "Flattened shape: (8,)\n",
      "\n",
      "Modified flatten array: [111   2   3   4   5   6   7   8]\n",
      "Modified original array: [[[1 2]\n",
      "  [3 4]]\n",
      "\n",
      " [[5 6]\n",
      "  [7 8]]]\n"
     ]
    }
   ],
   "source": [
    "# FLATTEN: Flatten will do deep copy of array, any changes to flatten array will not effect origin array\n",
    "x = np.array([[[1, 2], [3, 4]], [[5, 6], [7, 8]]])\n",
    "print(\"Original array:\", x)\n",
    "print(\"Original shape:\", x.shape)\n",
    "\n",
    "y = x.flatten()\n",
    "print(\"\\nFlattened array:\", y)\n",
    "print(\"Flattened shape:\", y.shape)\n",
    "\n",
    "# Modifying flatten array\n",
    "y[0] = 111\n",
    "print(\"\\nModified flatten array:\", y)\n",
    "print(\"Modified original array:\", x)"
   ]
  },
  {
   "cell_type": "markdown",
   "metadata": {
    "id": "KahUP_H_X-5g"
   },
   "source": [
    "# Arithmetic Operations on Arrays\n",
    "\n",
    "NumPy allows to perform Mathamatical operations on entire array element by element wise without having to loop over the arrays"
   ]
  },
  {
   "cell_type": "code",
   "execution_count": 32,
   "metadata": {
    "ExecuteTime": {
     "end_time": "2025-10-19T15:43:51.782981Z",
     "start_time": "2025-10-19T15:43:51.776154Z"
    },
    "colab": {
     "base_uri": "https://localhost:8080/"
    },
    "id": "Ocneb45VYFOK",
    "outputId": "168a5bc2-7e0e-472a-90f1-9b6f18727885"
   },
   "outputs": [
    {
     "name": "stdout",
     "output_type": "stream",
     "text": [
      "Array addition: [ 8 10 12]\n",
      "Array subtraction: [6 6 6]\n",
      "Array multiplication: [ 7 16 27]\n",
      "Array division: [7. 4. 3.]\n",
      "Array division with integer result: [7 4 3]\n",
      "Array modulus: [1 2 3]\n",
      "Array exponential: [    1   256 19683]\n"
     ]
    }
   ],
   "source": [
    "a = np.array([1, 2, 3])\n",
    "b = np.array([7, 8, 9])\n",
    "\n",
    "# Addition\n",
    "arr_add = a + b  # 1 + 7, 2 + 8, 3 + 9\n",
    "print(\"Array addition:\", arr_add)\n",
    "\n",
    "# Subtraction\n",
    "arr_sub = b - a  # 7 - 1, 8 - 2, 9 - 3\n",
    "print(\"Array subtraction:\", arr_sub)\n",
    "\n",
    "# Multiplication\n",
    "arr_mul = a * b\n",
    "print(\"Array multiplication:\", arr_mul)\n",
    "\n",
    "# Division\n",
    "arr_div = b / a\n",
    "print(\"Array division:\", arr_div)\n",
    "\n",
    "# Division with result in integer format\n",
    "arr_div_int = b // a\n",
    "print(\"Array division with integer result:\", arr_div_int)\n",
    "\n",
    "# Modulus\n",
    "arr_mod = a % b\n",
    "print(\"Array modulus:\", arr_mod)\n",
    "\n",
    "# Exponential\n",
    "arr_exp = a**b\n",
    "print(\"Array exponential:\", arr_exp)"
   ]
  },
  {
   "cell_type": "code",
   "execution_count": 33,
   "metadata": {
    "ExecuteTime": {
     "end_time": "2025-10-19T15:43:51.823316Z",
     "start_time": "2025-10-19T15:43:51.817271Z"
    },
    "colab": {
     "base_uri": "https://localhost:8080/"
    },
    "id": "5YmweZsvb4jr",
    "outputId": "79bee62e-b5dd-4560-89f3-869595447ae2"
   },
   "outputs": [
    {
     "name": "stdout",
     "output_type": "stream",
     "text": [
      "Original array: [1 2 3 4 5]\n",
      "Addition: [ 6  7  8  9 10]\n",
      "Subtraction: [-1  0  1  2  3]\n",
      "Multiplication: [ 3  6  9 12 15]\n",
      "Division: [0.5 1.  1.5 2.  2.5]\n"
     ]
    }
   ],
   "source": [
    "# Arithmetic Operations on single array\n",
    "arr = np.array([1, 2, 3, 4, 5])\n",
    "print(\"Original array:\", arr)\n",
    "\n",
    "# Addition\n",
    "arr_add = arr + 5\n",
    "print(\"Addition:\", arr_add)\n",
    "\n",
    "# Subtraction\n",
    "arr_sub = arr - 2\n",
    "print(\"Subtraction:\", arr_sub)\n",
    "\n",
    "# Multiplication\n",
    "arr_mul = arr * 3\n",
    "print(\"Multiplication:\", arr_mul)\n",
    "\n",
    "# Division\n",
    "arr_div = arr / 2\n",
    "print(\"Division:\", arr_div)"
   ]
  },
  {
   "cell_type": "code",
   "execution_count": 34,
   "metadata": {
    "ExecuteTime": {
     "end_time": "2025-10-19T15:43:51.859249Z",
     "start_time": "2025-10-19T15:43:51.852277Z"
    },
    "colab": {
     "base_uri": "https://localhost:8080/"
    },
    "id": "hrs3vjzDYtTQ",
    "outputId": "b4dde80c-bd26-4deb-b715-d4f92c42dc5f"
   },
   "outputs": [
    {
     "name": "stdout",
     "output_type": "stream",
     "text": [
      "Original array: [ 1.   5.5  9.9 17. ]\n",
      "Square root: [1.         2.34520788 3.14642654 4.12310563]\n",
      "Exponential: [2.71828183e+00 2.44691932e+02 1.99303704e+04 2.41549528e+07]\n",
      "Logarithmic: [0.         1.70474809 2.29253476 2.83321334]\n",
      "Sin: [ 0.84147098 -0.70554033 -0.45753589 -0.96139749]\n",
      "Absolute value: [ 1.   5.5  9.9 17. ]\n"
     ]
    }
   ],
   "source": [
    "# Universal functions\n",
    "\n",
    "arr = np.array([1, 5.5, 9.9, 17])\n",
    "print(\"Original array:\", arr)\n",
    "\n",
    "# Square root\n",
    "arr_sqrt = np.sqrt(arr)\n",
    "print(\"Square root:\", arr_sqrt)\n",
    "\n",
    "# Exponential\n",
    "arr_exp = np.exp(arr)\n",
    "print(\"Exponential:\", arr_exp)\n",
    "\n",
    "# Logarithmic\n",
    "arr_log = np.log(arr)\n",
    "print(\"Logarithmic:\", arr_log)\n",
    "\n",
    "# Sin\n",
    "arr_sign = np.sin(arr)\n",
    "print(\"Sin:\", arr_sign)\n",
    "\n",
    "# Absolute value\n",
    "arr_abs = np.abs(arr)\n",
    "print(\"Absolute value:\", arr_abs)"
   ]
  },
  {
   "cell_type": "markdown",
   "metadata": {
    "id": "RjFj0rmncbDy"
   },
   "source": [
    "# Indexing & Slicing"
   ]
  },
  {
   "cell_type": "code",
   "execution_count": 35,
   "metadata": {
    "ExecuteTime": {
     "end_time": "2025-10-19T15:43:51.925689Z",
     "start_time": "2025-10-19T15:43:51.918654Z"
    },
    "colab": {
     "base_uri": "https://localhost:8080/"
    },
    "id": "Xx-ktpeVa9J8",
    "outputId": "bec21122-1409-4200-8701-be454c0aadab"
   },
   "outputs": [
    {
     "name": "stdout",
     "output_type": "stream",
     "text": [
      "Original array: [1 2 3 4 5]\n",
      "\n",
      "***** Indexing *****\n",
      "First element arr[0]: 1\n",
      "Second element arr[1]: 2\n",
      "Last element arr[-1]: 5\n",
      "Last element using len arr[len(arr) - 1]: 5\n",
      "\n",
      "***** Slicing *****\n",
      "First 3 elements arr[:3]: [1 2 3]\n",
      "Exclude first 2 elements arr[2:]: [3 4 5]\n",
      "Middle elements arr[1:4]: [2 3 4]\n",
      "Last 3 elements arr[-3::1]: [3 4 5]\n",
      "Reverse array arr[::-1]: [5 4 3 2 1]\n"
     ]
    }
   ],
   "source": [
    "# Indexing\n",
    "arr = np.array([1, 2, 3, 4, 5])\n",
    "print(\"Original array:\", arr)\n",
    "\n",
    "\"\"\"\n",
    "array[start:stop:step]\n",
    "  start: index to start from (inclusive)\n",
    "  stop: index to stop at (exclusive)\n",
    "  step: how many elements to skip\n",
    "From the beginning to the end with a step of 1\n",
    "\n",
    "    arr[0:len(arr):1]\n",
    "            (or)\n",
    "    arr[0::1]\n",
    "            (or)\n",
    "    arr[:]\n",
    "            (or)\n",
    "    arr[::]\n",
    "\"\"\"\n",
    "\n",
    "print(\"\\n***** Indexing *****\")\n",
    "print(\"First element arr[0]:\", arr[0])\n",
    "print(\"Second element arr[1]:\", arr[1])\n",
    "print(\"Last element arr[-1]:\", arr[-1])\n",
    "print(\"Last element using len arr[len(arr) - 1]:\", arr[len(arr) - 1])\n",
    "\n",
    "# Slicing [start, stop, step]\n",
    "print(\"\\n***** Slicing *****\")\n",
    "print(\"First 3 elements arr[:3]:\", arr[:3])  # Means all the elements from index 0 to 3\n",
    "print(\"Exclude first 2 elements arr[2:]:\", arr[2:])  # Means all the elements from index 2 to end\n",
    "print(\"Middle elements arr[1:4]:\", arr[1:4])  # Means all the elements from index 1 to 4\n",
    "print(\"Last 3 elements arr[-3::1]:\", arr[-3::1])\n",
    "print(\"Reverse array arr[::-1]:\", arr[::-1])"
   ]
  },
  {
   "cell_type": "code",
   "execution_count": 36,
   "metadata": {
    "ExecuteTime": {
     "end_time": "2025-10-19T15:43:51.978756Z",
     "start_time": "2025-10-19T15:43:51.971105Z"
    },
    "colab": {
     "base_uri": "https://localhost:8080/"
    },
    "id": "qgxsa6qBdYmK",
    "outputId": "b80e279d-2df6-4506-da66-684e11cfd858"
   },
   "outputs": [
    {
     "name": "stdout",
     "output_type": "stream",
     "text": [
      "Original array: [[ 0  1  2  3  4  5  6  7  8  9]\n",
      " [30 31 32 33 34 35 36 37 38 39]\n",
      " [90 91 92 93 94 95 96 97 98 99]]\n",
      "\n",
      "***** Indexing *****\n",
      "First row arr[0]: [0 1 2 3 4 5 6 7 8 9]\n",
      "First element of first row: 0\n",
      "Last element in the last row: 99\n",
      "\n",
      "***** Slicing *****\n",
      "First 2 rows: [[ 0  1  2  3  4  5  6  7  8  9]\n",
      " [30 31 32 33 34 35 36 37 38 39]]\n",
      "Last 2 columns from last 2 rows: [[31 32 33 34 35 36 37 38 39]\n",
      " [91 92 93 94 95 96 97 98 99]]\n",
      "Last columns in each row: [ 9 39 99]\n",
      "Reverse all columns: [[ 9  8  7  6  5  4  3  2  1  0]\n",
      " [39 38 37 36 35 34 33 32 31 30]\n",
      " [99 98 97 96 95 94 93 92 91 90]]\n",
      "Reverse all rows: [[90 91 92 93 94 95 96 97 98 99]\n",
      " [30 31 32 33 34 35 36 37 38 39]\n",
      " [ 0  1  2  3  4  5  6  7  8  9]]\n",
      "Reverse both rows and columns: [[99 98 97 96 95 94 93 92 91 90]\n",
      " [39 38 37 36 35 34 33 32 31 30]\n",
      " [ 9  8  7  6  5  4  3  2  1  0]]\n",
      "Get first 5 columns of all rows: [[ 0  1  2  3  4]\n",
      " [30 31 32 33 34]\n",
      " [90 91 92 93 94]]\n",
      "Get every other column of all rows: [[ 0  2  4  6  8]\n",
      " [30 32 34 36 38]\n",
      " [90 92 94 96 98]]\n",
      "\n",
      "***** Index Arrays *****\n",
      "First and last rows using np.take: [[ 0  1  2  3  4  5  6  7  8  9]\n",
      " [90 91 92 93 94 95 96 97 98 99]]\n",
      "First and last columns using np.take: [[ 0  2]\n",
      " [30 32]\n",
      " [90 92]]\n"
     ]
    }
   ],
   "source": [
    "# Multi-Dimension array\n",
    "one = np.arange(0, 10, 1)\n",
    "two = np.arange(30, 40, 1)\n",
    "three = np.arange(90, 100, 1)\n",
    "arr = np.array([one, two, three])\n",
    "print(\"Original array:\", arr)\n",
    "\n",
    "# Indexing\n",
    "print(\"\\n***** Indexing *****\")\n",
    "print(\"First row arr[0]:\", arr[0])\n",
    "print(\"First element of first row:\", arr[0][0])\n",
    "print(\"Last element in the last row:\", arr[-1][-1])\n",
    "\n",
    "# Slicing\n",
    "print(\"\\n***** Slicing *****\")\n",
    "print(\"First 2 rows:\", arr[:2])\n",
    "print(\"Last 2 columns from last 2 rows:\", arr[1:, 1:])  # [[5, 6], [8, 9]]\n",
    "print(\"Last columns in each row:\", arr[:, -1])\n",
    "print(\"Reverse all columns:\", arr[:, ::-1])\n",
    "print(\"Reverse all rows:\", arr[::-1, :])\n",
    "print(\"Reverse both rows and columns:\", arr[::-1, ::-1])\n",
    "print(\"Get first 5 columns of all rows:\", arr[:, 0:5])\n",
    "print(\"Get every other column of all rows:\", arr[:, ::2])\n",
    "\n",
    "# Index Arrays\n",
    "index = [0, 2]\n",
    "# np.take is built in function to perform indexing and slicing\n",
    "print(\"\\n***** Index Arrays *****\")\n",
    "print(\"First and last rows using np.take:\", np.take(arr, index, axis=0))\n",
    "print(\"First and last columns using np.take:\", np.take(arr, index, axis=1))"
   ]
  },
  {
   "cell_type": "code",
   "execution_count": 37,
   "metadata": {
    "ExecuteTime": {
     "end_time": "2025-10-19T15:43:51.994648Z",
     "start_time": "2025-10-19T15:43:51.989712Z"
    },
    "colab": {
     "base_uri": "https://localhost:8080/"
    },
    "id": "Jm61Hv2Tdkbb",
    "outputId": "1c511c03-5546-4cfa-a6e0-bff4f222cb20"
   },
   "outputs": [
    {
     "name": "stdout",
     "output_type": "stream",
     "text": [
      "Given array: [[ 1  2  3  4]\n",
      " [ 5  6  7  8]\n",
      " [ 9 10 11 12]]\n",
      "\n",
      "***** 1. Given a 2D array how would you extract the second row only? *****\n",
      "Using indexing: [5 6 7 8]\n",
      "Using slicing: [5 6 7 8]\n",
      "\n",
      "***** 2. Using the same array, how would you extract the third column? *****\n",
      "Using indexing: 7\n",
      "Using slicing: 7\n",
      "[[ 1  3]\n",
      " [ 9 11]]\n"
     ]
    }
   ],
   "source": [
    "# Some questions on Slicing and Indexing\n",
    "arr = np.array([[1, 2, 3, 4], [5, 6, 7, 8], [9, 10, 11, 12]])\n",
    "print(\"Given array:\", arr)\n",
    "\n",
    "# 1. Given a 2D array how would you extract the second row only?\n",
    "print(\"\\n***** 1. Given a 2D array how would you extract the second row only? *****\")\n",
    "print(\"Using indexing:\", arr[1])\n",
    "print(\"Using slicing:\", arr[1:2][0])\n",
    "\n",
    "# 2. Using the same array, how would you extract the third column?\n",
    "print(\"\\n***** 2. Using the same array, how would you extract the third column? *****\")\n",
    "print(\"Using indexing:\", arr[1][2])\n",
    "print(\"Using slicing:\", arr[1:2, 2:3][0][0])\n",
    "\n",
    "print(arr[::2, ::2])"
   ]
  },
  {
   "cell_type": "markdown",
   "metadata": {
    "id": "JzQYpRcLXx_U"
   },
   "source": [
    "# Iterating NumPy Arrays"
   ]
  },
  {
   "cell_type": "code",
   "execution_count": 38,
   "metadata": {
    "ExecuteTime": {
     "end_time": "2025-10-19T15:43:52.087718Z",
     "start_time": "2025-10-19T15:43:52.081912Z"
    },
    "colab": {
     "base_uri": "https://localhost:8080/"
    },
    "id": "MCHPuzP3Skkr",
    "outputId": "9d524005-ad6d-4929-fa9f-18a77cd942c5"
   },
   "outputs": [
    {
     "name": "stdout",
     "output_type": "stream",
     "text": [
      "Original array: [[1 2 3]\n",
      " [4 5 6]\n",
      " [7 8 9]]\n",
      "\n",
      "***** Iterating over rows using nditer *****\n",
      "1 2 3 4 5 6 7 8 9 \n",
      "\n",
      "***** Iterating over rows using ndenumerate *****\n",
      "Index (0, 0) has value 1\n",
      "Index (0, 1) has value 2\n",
      "Index (0, 2) has value 3\n",
      "Index (1, 0) has value 4\n",
      "Index (1, 1) has value 5\n",
      "Index (1, 2) has value 6\n",
      "Index (2, 0) has value 7\n",
      "Index (2, 1) has value 8\n",
      "Index (2, 2) has value 9\n",
      "\n",
      "***** Traditional loop *****\n",
      "1, 2, 3, \n",
      "4, 5, 6, \n",
      "7, 8, 9, \n"
     ]
    }
   ],
   "source": [
    "arr = np.array([[1, 2, 3], [4, 5, 6], [7, 8, 9]])\n",
    "print(\"Original array:\", arr)\n",
    "\n",
    "# Iterating over rows\n",
    "print(\"\\n***** Iterating over rows using nditer *****\")\n",
    "for x in np.nditer(arr):\n",
    "    print(x, end=\" \")\n",
    "\n",
    "# Iterating over array also get indexs\n",
    "print(\"\\n\\n***** Iterating over rows using ndenumerate *****\")\n",
    "for idx, x in np.ndenumerate(arr):\n",
    "    print(f\"Index {idx} has value {x}\")\n",
    "\n",
    "# Traditional loop\n",
    "print(\"\\n***** Traditional loop *****\")\n",
    "for row in arr:\n",
    "    for col in row:\n",
    "        print(col, end=\", \")\n",
    "    print()"
   ]
  },
  {
   "cell_type": "markdown",
   "metadata": {
    "id": "_gIVCH6FZqQh"
   },
   "source": [
    "# Views vs Copies"
   ]
  },
  {
   "cell_type": "code",
   "execution_count": 39,
   "metadata": {
    "ExecuteTime": {
     "end_time": "2025-10-19T15:43:52.125150Z",
     "start_time": "2025-10-19T15:43:52.118694Z"
    },
    "colab": {
     "base_uri": "https://localhost:8080/"
    },
    "id": "_G67L3jWYceq",
    "outputId": "7a63270f-38c4-4ca6-9819-1092c8d97f3b"
   },
   "outputs": [
    {
     "name": "stdout",
     "output_type": "stream",
     "text": [
      "Original array: [1 2 3 4 5]\n",
      "\n",
      "Copy of array: [99  2  3  4  5]\n",
      "Original array: [1 2 3 4 5]\n",
      "\n",
      "View of array: [99  2  3  4  5]\n",
      "Original array: [99  2  3  4  5]\n",
      "\n",
      "Original array: [99  2  3  4  5]\n",
      "View of array: [99  2  3  4  5]\n"
     ]
    }
   ],
   "source": [
    "arr = np.array([1, 2, 3, 4, 5])\n",
    "print(\"Original array:\", arr)\n",
    "\n",
    "# Copy (Original array will not get effected)\n",
    "arr_copy = arr.copy()\n",
    "arr_copy[0] = 99\n",
    "print(\"\\nCopy of array:\", arr_copy)\n",
    "print(\"Original array:\", arr)\n",
    "\n",
    "# View (Will change the original array)\n",
    "arr_view = arr.view()\n",
    "arr_view[0] = 99\n",
    "print(\"\\nView of array:\", arr_view)\n",
    "print(\"Original array:\", arr)\n",
    "\n",
    "\n",
    "# View 2 (Will change the original array)\n",
    "arr = np.array([1, 2, 3, 4, 5])\n",
    "arr_view = arr[::]\n",
    "arr_view[0] = 99\n",
    "print(\"\\nOriginal array:\", arr)\n",
    "print(\"View of array:\", arr_view)"
   ]
  },
  {
   "cell_type": "markdown",
   "metadata": {
    "id": "yThAdezXb-fd"
   },
   "source": [
    "# Transpose"
   ]
  },
  {
   "cell_type": "code",
   "execution_count": 40,
   "metadata": {
    "ExecuteTime": {
     "end_time": "2025-10-19T15:43:52.141484Z",
     "start_time": "2025-10-19T15:43:52.134043Z"
    },
    "colab": {
     "base_uri": "https://localhost:8080/"
    },
    "id": "7X9J3dqDb2kc",
    "outputId": "32879878-8c4d-47af-b1a8-47baabf751b8"
   },
   "outputs": [
    {
     "name": "stdout",
     "output_type": "stream",
     "text": [
      "Original array: [[1 2 3]\n",
      " [4 5 6]\n",
      " [7 8 9]]\n",
      "\n",
      "***** Array Transpose *****\n",
      "Transpose of array: [[1 4 7]\n",
      " [2 5 8]\n",
      " [3 6 9]]\n",
      "\n",
      "***** Swap Array *****\n",
      "Original array: [[[1 2]\n",
      "  [3 4]\n",
      "  [5 6]]]\n",
      "Original shape: (1, 3, 2)\n",
      "\n",
      "***** Swap axis 0 (zero) with axis 1 *****\n",
      "Swapped array: [[[1 2]]\n",
      "\n",
      " [[3 4]]\n",
      "\n",
      " [[5 6]]]\n",
      "Swapped shape: (3, 1, 2)\n",
      "\n",
      "***** Swap axis 0 (zero) with axis 2 *****\n",
      "Swapped 2 array: [[[1]\n",
      "  [3]\n",
      "  [5]]\n",
      "\n",
      " [[2]\n",
      "  [4]\n",
      "  [6]]]\n",
      "Swapped 2 shape: (2, 3, 1)\n",
      "\n",
      "***** Swap axis 1 with axis 2 *****\n",
      "Swapped 3 array: [[[1 3 5]\n",
      "  [2 4 6]]]\n",
      "Swapped 3 shape: (1, 2, 3)\n"
     ]
    }
   ],
   "source": [
    "arr = np.array([[1, 2, 3], [4, 5, 6], [7, 8, 9]])\n",
    "print(\"Original array:\", arr)\n",
    "\n",
    "# Transpose (flips rows to columns and \"Visa Versa\")\n",
    "arr_transpose = arr.transpose()\n",
    "print(\"\\n***** Array Transpose *****\")\n",
    "print(\"Transpose of array:\", arr_transpose)\n",
    "\n",
    "# Swap axis\n",
    "arr = np.array([[[1, 2], [3, 4], [5, 6]]])\n",
    "print(\"\\n***** Swap Array *****\")\n",
    "print(\"Original array:\", arr)\n",
    "print(\"Original shape:\", arr.shape)\n",
    "\n",
    "# Swap axis 0 (zero) with axis 1\n",
    "arr_swap = np.swapaxes(arr, 0, 1)\n",
    "print(\"\\n***** Swap axis 0 (zero) with axis 1 *****\")\n",
    "print(\"Swapped array:\", arr_swap)\n",
    "print(\"Swapped shape:\", arr_swap.shape)\n",
    "\n",
    "# Swap axis 0 (zero) with axis 2\n",
    "arr_swap = np.swapaxes(arr, 0, 2)\n",
    "print(\"\\n***** Swap axis 0 (zero) with axis 2 *****\")\n",
    "print(\"Swapped 2 array:\", arr_swap)\n",
    "print(\"Swapped 2 shape:\", arr_swap.shape)\n",
    "\n",
    "# Swap axis 1 with axis 2\n",
    "arr_swap = np.swapaxes(arr, 1, 2)\n",
    "print(\"\\n***** Swap axis 1 with axis 2 *****\")\n",
    "print(\"Swapped 3 array:\", arr_swap)\n",
    "print(\"Swapped 3 shape:\", arr_swap.shape)"
   ]
  },
  {
   "cell_type": "markdown",
   "metadata": {
    "id": "fMcuvcPXfS_x"
   },
   "source": [
    "# Concatenation"
   ]
  },
  {
   "cell_type": "code",
   "execution_count": 41,
   "metadata": {
    "ExecuteTime": {
     "end_time": "2025-10-19T15:43:52.175903Z",
     "start_time": "2025-10-19T15:43:52.168731Z"
    },
    "colab": {
     "base_uri": "https://localhost:8080/"
    },
    "id": "JxejXTLCcv93",
    "outputId": "9ab8912d-b79c-4179-d0ac-07438a62bbdb"
   },
   "outputs": [
    {
     "name": "stdout",
     "output_type": "stream",
     "text": [
      "Array a: [1 2]\n",
      "Array b: [3 4]\n",
      "\n",
      "***** Concatenate *****\n",
      "Concatenated array: [1 2 3 4]\n",
      "\n",
      "***** Vertical stack concatenation *****\n",
      "Vertical stack concatenation: [[1 2]\n",
      " [3 4]]\n",
      "\n",
      "***** Horizontal stack concatenation *****\n",
      "Horizontal stack concatenation: [1 2 3 4]\n"
     ]
    }
   ],
   "source": [
    "a = np.array([1, 2])\n",
    "b = np.array([3, 4])\n",
    "print(\"Array a:\", a)\n",
    "print(\"Array b:\", b)\n",
    "\n",
    "# Concatenate\n",
    "arr_concat = np.concatenate((a, b))\n",
    "print(\"\\n***** Concatenate *****\")\n",
    "print(\"Concatenated array:\", arr_concat)\n",
    "\n",
    "# Vertical stack concatenation\n",
    "arr_vstack = np.vstack((a, b))  # np.stack((a, b), axis = 0)\n",
    "print(\"\\n***** Vertical stack concatenation *****\")\n",
    "print(\"Vertical stack concatenation:\", arr_vstack)\n",
    "\n",
    "# Horizontal stack concatenation\n",
    "arr_hstack = np.hstack((a, b))  # np.stack((a, b), axis = 1)\n",
    "print(\"\\n***** Horizontal stack concatenation *****\")\n",
    "print(\"Horizontal stack concatenation:\", arr_hstack)"
   ]
  },
  {
   "cell_type": "code",
   "execution_count": 42,
   "metadata": {
    "ExecuteTime": {
     "end_time": "2025-10-19T15:43:52.241542Z",
     "start_time": "2025-10-19T15:43:52.234366Z"
    }
   },
   "outputs": [
    {
     "name": "stdout",
     "output_type": "stream",
     "text": [
      "Array Concatenation: [[1 2]\n",
      " [3 4]\n",
      " [5 6]\n",
      " [7 8]]\n",
      "Array V-stack: [[1 2]\n",
      " [3 4]\n",
      " [5 6]\n",
      " [7 8]]\n",
      "Array H-stack: [[1 2 5 6]\n",
      " [3 4 7 8]]\n"
     ]
    }
   ],
   "source": [
    "# Concat arrays\n",
    "x = np.array([[1, 2], [3, 4]])\n",
    "y = np.array([[5, 6], [7, 8]])\n",
    "\n",
    "# Array Concatenation\n",
    "concat = np.concatenate((x, y))\n",
    "print(\"Array Concatenation:\", concat)\n",
    "\n",
    "# V-Stack Array\n",
    "arr_v = np.vstack((x, y))\n",
    "print(\"Array V-stack:\", arr_v)\n",
    "\n",
    "# H-Stack Array\n",
    "arr_h = np.hstack((x, y))\n",
    "print(\"Array H-stack:\", arr_h)\n",
    "\n",
    "# Flatten Array\n",
    "# arr_flat = np.flatiter(arr_h)\n",
    "# print(\"Array Flat:\", arr_flat)"
   ]
  },
  {
   "cell_type": "markdown",
   "metadata": {
    "id": "0HeGT-ynhIls"
   },
   "source": [
    "# Split Arrays"
   ]
  },
  {
   "cell_type": "code",
   "execution_count": 43,
   "metadata": {
    "ExecuteTime": {
     "end_time": "2025-10-19T15:43:52.305746Z",
     "start_time": "2025-10-19T15:43:52.298203Z"
    },
    "colab": {
     "base_uri": "https://localhost:8080/"
    },
    "id": "cklYECuPfvf9",
    "outputId": "d276cb6b-66f6-4d53-9828-48dc84959941"
   },
   "outputs": [
    {
     "name": "stdout",
     "output_type": "stream",
     "text": [
      "Original array: [[1 2]\n",
      " [3 4]\n",
      " [5 6]\n",
      " [7 8]]\n",
      "\n",
      "***** Split Array into 2 *****\n",
      "Split array: [array([[1, 2],\n",
      "       [3, 4]]), array([[5, 6],\n",
      "       [7, 8]])]\n",
      "\n",
      "***** Split Array into 4 *****\n",
      "Split array: [array([[1, 2]]), array([[3, 4]]), array([[5, 6]]), array([[7, 8]])]\n",
      "\n",
      "***** Horizontal split into 2 *****\n",
      "Horizontal Split array: [array([[1],\n",
      "       [3],\n",
      "       [5],\n",
      "       [7]]), array([[2],\n",
      "       [4],\n",
      "       [6],\n",
      "       [8]])]\n",
      "\n",
      "***** Vertical split into 4 *****\n",
      "Vertical Split array: [array([[1, 2]]), array([[3, 4]]), array([[5, 6]]), array([[7, 8]])]\n",
      "\n",
      "***** Vertical split into 2 *****\n",
      "Vertical Split array: [array([[1, 2],\n",
      "       [3, 4]]), array([[5, 6],\n",
      "       [7, 8]])]\n"
     ]
    }
   ],
   "source": [
    "arr = np.array([[1, 2], [3, 4], [5, 6], [7, 8]])\n",
    "print(\"Original array:\", arr)\n",
    "\n",
    "# Split Array into 2\n",
    "print(\"\\n***** Split Array into 2 *****\")\n",
    "arr_split = np.split(arr, 2)\n",
    "print(\"Split array:\", arr_split)\n",
    "\n",
    "# Split Array into 4\n",
    "print(\"\\n***** Split Array into 4 *****\")\n",
    "arr_split = np.split(arr, 4)\n",
    "print(\"Split array:\", arr_split)\n",
    "\n",
    "# Horizontal split into 2\n",
    "print(\"\\n***** Horizontal split into 2 *****\")\n",
    "arr_split = np.hsplit(arr, 2)  # As the array has only 2 columns, it is only possible to split into 2\n",
    "print(\"Horizontal Split array:\", arr_split)\n",
    "\n",
    "# Horizontal split into 4\n",
    "# print(\"\\n***** Horizontal split into 4 *****\")\n",
    "# arr_split = np.hsplit(arr, 4)\n",
    "# print(\"Horizontal Split array:\", arr_split)\n",
    "\n",
    "# Vertical split into 4\n",
    "print(\"\\n***** Vertical split into 4 *****\")\n",
    "arr_split = np.vsplit(arr, 4)\n",
    "print(\"Vertical Split array:\", arr_split)\n",
    "\n",
    "# Vertical split into 2\n",
    "print(\"\\n***** Vertical split into 2 *****\")\n",
    "arr_split = np.vsplit(arr, 2)\n",
    "print(\"Vertical Split array:\", arr_split)"
   ]
  },
  {
   "cell_type": "markdown",
   "metadata": {
    "id": "hHxpXlsgu2OO"
   },
   "source": [
    "# Repeating and tailing"
   ]
  },
  {
   "cell_type": "code",
   "execution_count": 44,
   "metadata": {
    "ExecuteTime": {
     "end_time": "2025-10-19T15:43:52.325486Z",
     "start_time": "2025-10-19T15:43:52.318090Z"
    },
    "colab": {
     "base_uri": "https://localhost:8080/"
    },
    "id": "fE5kVRcBop2G",
    "outputId": "09d37f3f-765c-4890-844e-2bd9f7fde2e2"
   },
   "outputs": [
    {
     "name": "stdout",
     "output_type": "stream",
     "text": [
      "***** Repeating and Tailing ****\n",
      "Original array: [1 2 3]\n",
      "\n",
      "Repeating Array\n",
      "Repeating Array: [1 1 2 2 3 3]\n",
      "\n",
      "Tailing Array\n",
      "Tailing Array: [1 2 3 1 2 3]\n"
     ]
    }
   ],
   "source": [
    "print(\"***** Repeating and Tailing ****\")\n",
    "arr = np.array([1, 2, 3])\n",
    "print(\"Original array:\", arr)\n",
    "\n",
    "print(\"\\nRepeating Array\")\n",
    "arr_rep = np.repeat(arr, 2)  # Repeat arr 2 times\n",
    "print(\"Repeating Array:\", arr_rep)\n",
    "\n",
    "print(\"\\nTailing Array\")\n",
    "arr_tail = np.tile(arr, 2)\n",
    "print(\"Tailing Array:\", arr_tail)"
   ]
  },
  {
   "cell_type": "markdown",
   "metadata": {},
   "source": [
    "# Aggregate Functions"
   ]
  },
  {
   "cell_type": "code",
   "execution_count": 45,
   "metadata": {
    "ExecuteTime": {
     "end_time": "2025-10-19T15:43:52.383449Z",
     "start_time": "2025-10-19T15:43:52.375708Z"
    },
    "id": "xMwjAo-7_zL5"
   },
   "outputs": [
    {
     "name": "stdout",
     "output_type": "stream",
     "text": [
      "***** Aggregate Functions *****\n",
      "Original array: [1 2 3]\n",
      "\n",
      "Sum of array: 6\n",
      "\n",
      "Mean of array: 2.0\n",
      "\n",
      "Median of array: 2.0\n",
      "\n",
      "Standard deviation (std) of array: 0.816496580927726\n",
      "\n",
      "Variance of array: 0.6666666666666666\n",
      "\n",
      "Minimum of array: 1\n",
      "\n",
      "Maximum of array: 3\n"
     ]
    }
   ],
   "source": [
    "print(\"***** Aggregate Functions *****\")\n",
    "arr = np.array([1, 2, 3])\n",
    "print(\"Original array:\", arr)\n",
    "\n",
    "# Sum of array\n",
    "arr_sum = np.sum(arr)\n",
    "print(\"\\nSum of array:\", arr_sum)\n",
    "\n",
    "# Mean of array\n",
    "arr_mean = np.mean(arr)\n",
    "print(\"\\nMean of array:\", arr_mean)\n",
    "\n",
    "# Median of array\n",
    "arr_median = np.median(arr)\n",
    "print(\"\\nMedian of array:\", arr_median)\n",
    "\n",
    "# Standard deviation\n",
    "arr_std = np.std(arr)\n",
    "print(\"\\nStandard deviation (std) of array:\", arr_std)\n",
    "\n",
    "# variant\n",
    "arr_var = np.var(arr)\n",
    "print(\"\\nVariance of array:\", arr_var)\n",
    "\n",
    "# Minimum number in array\n",
    "arr_min = np.min(arr)\n",
    "print(\"\\nMinimum of array:\", arr_min)\n",
    "\n",
    "# Maximum number in array\n",
    "arr_max = np.max(arr)\n",
    "print(\"\\nMaximum of array:\", arr_max)"
   ]
  },
  {
   "cell_type": "code",
   "execution_count": 46,
   "metadata": {
    "ExecuteTime": {
     "end_time": "2025-10-19T15:43:52.422785Z",
     "start_time": "2025-10-19T15:43:52.417196Z"
    }
   },
   "outputs": [
    {
     "name": "stdout",
     "output_type": "stream",
     "text": [
      "***** Aggregate Functions in 2D array *****\n",
      "Original array: [[1 2]\n",
      " [3 4]\n",
      " [5 6]\n",
      " [7 8]]\n",
      "\n",
      "Sum of array in x-axis: [16 20]\n",
      "\n",
      "Sum of array in y-axis: [ 3  7 11 15]\n"
     ]
    }
   ],
   "source": [
    "print(\"***** Aggregate Functions in 2D array *****\")\n",
    "arr = np.array([[1, 2], [3, 4], [5, 6], [7, 8]])\n",
    "print(\"Original array:\", arr)\n",
    "\n",
    "# Sum of array in x-axis\n",
    "arr_sum = np.sum(arr, axis=0)\n",
    "print(\"\\nSum of array in x-axis:\", arr_sum)\n",
    "\n",
    "# Sum of array in y-axis\n",
    "arr_sum = np.sum(arr, axis=1)\n",
    "print(\"\\nSum of array in y-axis:\", arr_sum)"
   ]
  },
  {
   "cell_type": "markdown",
   "metadata": {},
   "source": [
    "# Cumulative Operations"
   ]
  },
  {
   "cell_type": "code",
   "execution_count": 47,
   "metadata": {
    "ExecuteTime": {
     "end_time": "2025-10-19T15:43:52.481296Z",
     "start_time": "2025-10-19T15:43:52.476741Z"
    }
   },
   "outputs": [
    {
     "name": "stdout",
     "output_type": "stream",
     "text": [
      "Original array: [1 2 3]\n",
      "\n",
      "Running sum: [1 3 6]\n",
      "\n",
      "Running product: [1 2 6]\n"
     ]
    }
   ],
   "source": [
    "arr = np.array([1, 2, 3])\n",
    "print(\"Original array:\", arr)\n",
    "\n",
    "# Running sum\n",
    "arr_sum = np.cumsum(arr)\n",
    "print(\"\\nRunning sum:\", arr_sum)\n",
    "\n",
    "# Running prod\n",
    "arr_prod = np.cumprod(arr)\n",
    "print(\"\\nRunning product:\", arr_prod)"
   ]
  },
  {
   "cell_type": "markdown",
   "metadata": {},
   "source": [
    "# Conditional Based Operations"
   ]
  },
  {
   "cell_type": "code",
   "execution_count": 48,
   "metadata": {
    "ExecuteTime": {
     "end_time": "2025-10-19T15:43:52.529867Z",
     "start_time": "2025-10-19T15:43:52.523051Z"
    }
   },
   "outputs": [
    {
     "name": "stdout",
     "output_type": "stream",
     "text": [
      "Original array: [10  3 17  9  2 15  4  6 12  0 11]\n",
      "\n",
      "***** Where Condition *****\n",
      "Less than Where cond: ['high' 'low' 'high' 'high' 'low' 'high' 'low' 'high' 'high' 'low' 'high']\n",
      "\n",
      "Even or odd condition: ['even' 'odd' 'odd' 'odd' 'even' 'odd' 'even' 'even' 'even' 'even' 'odd']\n",
      "\n",
      "***** Arg Where condition *****\n",
      "Less than Arg Where cond: [[ 0]\n",
      " [ 2]\n",
      " [ 3]\n",
      " [ 5]\n",
      " [ 7]\n",
      " [ 8]\n",
      " [10]]\n",
      "\n",
      "***** Logical AND condition *****\n",
      "\n",
      "Logical AND condition: [ True False False  True False False  True  True  True False  True]\n"
     ]
    }
   ],
   "source": [
    "arr = np.array([10, 3, 17, 9, 2, 15, 4, 6, 12, 0, 11])\n",
    "print(\"Original array:\", arr)\n",
    "\n",
    "# Less than Where condition\n",
    "print(\"\\n***** Where Condition *****\")\n",
    "arr_where = np.where(\n",
    "    arr < 5, \"low\", \"high\"\n",
    ")  # No less than 5 will be shown as low and grater than 5 will be shown as high\n",
    "print(\"Less than Where cond:\", arr_where)\n",
    "\n",
    "# Even Numbers condition\n",
    "arr_even = np.where(arr % 2 == 0, \"even\", \"odd\")\n",
    "print(\"\\nEven or odd condition:\", arr_even)\n",
    "\n",
    "\n",
    "# Arg Where condition\n",
    "print(\"\\n***** Arg Where condition *****\")\n",
    "arr_where = np.argwhere(arr > 5)\n",
    "print(\"Less than Arg Where cond:\", arr_where)\n",
    "\n",
    "# Advance Conditions\n",
    "print(\"\\n***** Logical AND condition *****\")\n",
    "arr_logi = np.logical_and(arr > 3, arr < 13)\n",
    "print(\"\\nLogical AND condition:\", arr_logi)"
   ]
  },
  {
   "cell_type": "code",
   "execution_count": 49,
   "metadata": {
    "ExecuteTime": {
     "end_time": "2025-10-19T15:43:52.566591Z",
     "start_time": "2025-10-19T15:43:52.561063Z"
    }
   },
   "outputs": [
    {
     "name": "stdout",
     "output_type": "stream",
     "text": [
      "********** Multi dimension arr conditional operations **********\n",
      "Original array: [[1 2 3]\n",
      " [4 5 6]\n",
      " [7 8 9]]\n",
      "Less than Arg Where cond: [[1 2]\n",
      " [2 0]\n",
      " [2 1]\n",
      " [2 2]]\n",
      "\n",
      "Logical OR condition: [[ True  True  True]\n",
      " [ True  True  True]\n",
      " [ True  True  True]]\n",
      "\n",
      "Logical AND condition: [[False False False]\n",
      " [ True  True  True]\n",
      " [False False False]]\n"
     ]
    }
   ],
   "source": [
    "# Multi dimension arr conditional operations\n",
    "print(\"********** Multi dimension arr conditional operations **********\")\n",
    "arr = np.array([[1, 2, 3], [4, 5, 6], [7, 8, 9]])\n",
    "print(\"Original array:\", arr)\n",
    "\n",
    "# This will give row wise column index result, like 6 is in 1 row and 2 element [1, 2]\n",
    "arr_where = np.argwhere(arr > 5)\n",
    "print(\"Less than Arg Where cond:\", arr_where)\n",
    "\n",
    "# The logical OR consider all the elements in the entire row\n",
    "arr_logi_or = np.logical_or(arr > 3, arr < 7)\n",
    "print(\"\\nLogical OR condition:\", arr_logi_or)\n",
    "\n",
    "arr_logic_and = np.logical_and(arr > 3, arr < 7)\n",
    "print(\"\\nLogical AND condition:\", arr_logic_and)"
   ]
  },
  {
   "cell_type": "code",
   "execution_count": 50,
   "metadata": {
    "ExecuteTime": {
     "end_time": "2025-10-19T15:43:52.601759Z",
     "start_time": "2025-10-19T15:43:52.596482Z"
    }
   },
   "outputs": [
    {
     "name": "stdout",
     "output_type": "stream",
     "text": [
      "\n",
      "***** Fetch the values that satisfy the condition *******\n",
      "Original array: [1 2 3 4 5 6 7 8 9]\n",
      "\n",
      "Values greater than 5: [6 7 8 9]\n",
      "\n",
      "Values 3 > arr < 7: [4 5 6]\n"
     ]
    }
   ],
   "source": [
    "# Fetch the values that satisfy the condition\n",
    "print(\"\\n***** Fetch the values that satisfy the condition *******\")\n",
    "arr = np.array([1, 2, 3, 4, 5, 6, 7, 8, 9])\n",
    "print(\"Original array:\", arr)\n",
    "\n",
    "# Fetch values that are greater than 5\n",
    "mask = np.where(arr > 5)\n",
    "arr_gt_5 = arr[mask]\n",
    "print(\"\\nValues greater than 5:\", arr_gt_5)\n",
    "\n",
    "# Fetch values are greater than 3 and lesser than 7\n",
    "mask = np.logical_and(arr > 3, arr < 7)\n",
    "arr_gt_3 = arr[mask]\n",
    "print(\"\\nValues 3 > arr < 7:\", arr_gt_3)"
   ]
  },
  {
   "cell_type": "markdown",
   "metadata": {},
   "source": [
    "# Broadcasting\n",
    "In NumPy, broadcasting is the set of rules that allows arrays with different shapes to be used together in arithmetic operations. NumPy automatically `stretches` or `duplicates` the smaller array along certain dimensions to match the shape of the larger array, enabling element-wise operations without explicitly writing slow Python loops or creating large temporary arrays.\n",
    "\n",
    "### Broadcasting Rules\n",
    "**NOTE**: NumPy compares the shapes of the arrays from the end (right to left) and checks following rules:-\n",
    "1. *Check Dimensions*: Ensure the arrays have the same number of dimensions or expandable dimensions.\n",
    "2. *Dimension Padding*: If arrays have different numbers of dimensions the smaller array is left-padded with ones.\n",
    "3. *Shape Compatibility*: Two dimensions are compatible if they are equal or one of them is 1.\n",
    "\n",
    "If these conditions aren't met NumPy will raise a ValueError"
   ]
  },
  {
   "cell_type": "code",
   "execution_count": 51,
   "metadata": {
    "ExecuteTime": {
     "end_time": "2025-10-19T15:43:52.635720Z",
     "start_time": "2025-10-19T15:43:52.631508Z"
    }
   },
   "outputs": [
    {
     "name": "stdout",
     "output_type": "stream",
     "text": [
      "Addition: [15 25 35]\n"
     ]
    }
   ],
   "source": [
    "# Example 1: Broadcasting a Scalar to a 1D Array\n",
    "\n",
    "arr = np.array([10, 20, 30])\n",
    "scalar_arr = 5\n",
    "\n",
    "# The scalar_arr will be stretched to (1, 3) shape [5, 5, 5] and performs the operation\n",
    "res = arr + scalar_arr\n",
    "# [10, 20, 30] + [5, 5, 5] = [10+5, 20+5, 30+5] ==== [15, 25, 35]\n",
    "print(\"Addition:\", res)"
   ]
  },
  {
   "cell_type": "code",
   "execution_count": 52,
   "metadata": {
    "ExecuteTime": {
     "end_time": "2025-10-19T15:43:52.669468Z",
     "start_time": "2025-10-19T15:43:52.665256Z"
    }
   },
   "outputs": [
    {
     "name": "stdout",
     "output_type": "stream",
     "text": [
      "Addition: [[12 12 12]\n",
      " [11 11 11]\n",
      " [10 10 10]]\n"
     ]
    }
   ],
   "source": [
    "# Example 2: Broadcasting a 1D Array to a 2D Array\n",
    "\n",
    "a1 = np.array([10, 10, 10])\n",
    "a2 = np.array([[2, 2, 2], [1, 1, 1], [0, 0, 0]])\n",
    "\n",
    "res = a1 + a2\n",
    "# NumPy stretches `a1` to [[10, 10, 10], [10, 10, 10], [10, 10, 10]] and performs addition\n",
    "print(\"Addition:\", res)"
   ]
  },
  {
   "cell_type": "code",
   "execution_count": 53,
   "metadata": {
    "ExecuteTime": {
     "end_time": "2025-10-19T15:43:52.707773Z",
     "start_time": "2025-10-19T15:43:52.701045Z"
    }
   },
   "outputs": [
    {
     "data": {
      "text/plain": [
       "(3, 4)"
      ]
     },
     "execution_count": 53,
     "metadata": {},
     "output_type": "execute_result"
    }
   ],
   "source": [
    "np.broadcast_shapes((3, 1), (1, 4))"
   ]
  },
  {
   "cell_type": "code",
   "execution_count": null,
   "metadata": {
    "ExecuteTime": {
     "end_time": "2025-10-19T15:43:52.720859Z",
     "start_time": "2025-10-19T15:43:52.718864Z"
    }
   },
   "outputs": [],
   "source": []
  }
 ],
 "metadata": {
  "colab": {
   "collapsed_sections": [
    "R0gHVJxXI4_y"
   ],
   "provenance": []
  },
  "kernelspec": {
   "display_name": "practice",
   "language": "python",
   "name": "python3"
  },
  "language_info": {
   "codemirror_mode": {
    "name": "ipython",
    "version": 3
   },
   "file_extension": ".py",
   "mimetype": "text/x-python",
   "name": "python",
   "nbconvert_exporter": "python",
   "pygments_lexer": "ipython3",
   "version": "3.13.5"
  }
 },
 "nbformat": 4,
 "nbformat_minor": 0
}
