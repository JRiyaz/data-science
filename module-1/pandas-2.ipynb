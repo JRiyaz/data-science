{
 "cells": [
  {
   "cell_type": "markdown",
   "id": "39f7ae18b8451366",
   "metadata": {},
   "source": [
    "# DataFrames"
   ]
  },
  {
   "cell_type": "code",
   "execution_count": 1,
   "id": "2b083045f980b8b4",
   "metadata": {
    "ExecuteTime": {
     "end_time": "2025-10-21T19:46:42.778161Z",
     "start_time": "2025-10-21T19:46:42.773791Z"
    }
   },
   "outputs": [],
   "source": [
    "import numpy as np\n",
    "import pandas as pd"
   ]
  },
  {
   "cell_type": "code",
   "execution_count": 2,
   "id": "27419bf6f915c768",
   "metadata": {
    "ExecuteTime": {
     "end_time": "2025-10-21T19:46:42.832120Z",
     "start_time": "2025-10-21T19:46:42.802935Z"
    }
   },
   "outputs": [
    {
     "data": {
      "text/html": [
       "<div>\n",
       "<style scoped>\n",
       "    .dataframe tbody tr th:only-of-type {\n",
       "        vertical-align: middle;\n",
       "    }\n",
       "\n",
       "    .dataframe tbody tr th {\n",
       "        vertical-align: top;\n",
       "    }\n",
       "\n",
       "    .dataframe thead th {\n",
       "        text-align: right;\n",
       "    }\n",
       "</style>\n",
       "<table border=\"1\" class=\"dataframe\">\n",
       "  <thead>\n",
       "    <tr style=\"text-align: right;\">\n",
       "      <th></th>\n",
       "      <th>Name</th>\n",
       "      <th>Age</th>\n",
       "      <th>Department</th>\n",
       "      <th>Salary</th>\n",
       "    </tr>\n",
       "  </thead>\n",
       "  <tbody>\n",
       "    <tr>\n",
       "      <th>0</th>\n",
       "      <td>Alice</td>\n",
       "      <td>25.0</td>\n",
       "      <td>HR</td>\n",
       "      <td>50000.0</td>\n",
       "    </tr>\n",
       "    <tr>\n",
       "      <th>1</th>\n",
       "      <td>Bob</td>\n",
       "      <td>30.0</td>\n",
       "      <td>IT</td>\n",
       "      <td>60000.0</td>\n",
       "    </tr>\n",
       "    <tr>\n",
       "      <th>2</th>\n",
       "      <td>Charlie</td>\n",
       "      <td>35.0</td>\n",
       "      <td>Finance</td>\n",
       "      <td>70000.0</td>\n",
       "    </tr>\n",
       "    <tr>\n",
       "      <th>3</th>\n",
       "      <td>David</td>\n",
       "      <td>NaN</td>\n",
       "      <td>IT</td>\n",
       "      <td>62000.0</td>\n",
       "    </tr>\n",
       "    <tr>\n",
       "      <th>4</th>\n",
       "      <td>Eve</td>\n",
       "      <td>29.0</td>\n",
       "      <td>HR</td>\n",
       "      <td>NaN</td>\n",
       "    </tr>\n",
       "    <tr>\n",
       "      <th>5</th>\n",
       "      <td>Alice</td>\n",
       "      <td>25.0</td>\n",
       "      <td>HR</td>\n",
       "      <td>50000.0</td>\n",
       "    </tr>\n",
       "  </tbody>\n",
       "</table>\n",
       "</div>"
      ],
      "text/plain": [
       "      Name   Age Department   Salary\n",
       "0    Alice  25.0         HR  50000.0\n",
       "1      Bob  30.0         IT  60000.0\n",
       "2  Charlie  35.0    Finance  70000.0\n",
       "3    David   NaN         IT  62000.0\n",
       "4      Eve  29.0         HR      NaN\n",
       "5    Alice  25.0         HR  50000.0"
      ]
     },
     "execution_count": 2,
     "metadata": {},
     "output_type": "execute_result"
    }
   ],
   "source": [
    "# DataFrame:\n",
    "\n",
    "data = {\n",
    "    \"Name\": [\"Alice\", \"Bob\", \"Charlie\", \"David\", \"Eve\", \"Alice\"],\n",
    "    \"Age\": [25, 30, 35, np.nan, 29, 25],\n",
    "    \"Department\": [\"HR\", \"IT\", \"Finance\", \"IT\", \"HR\", \"HR\"],\n",
    "    \"Salary\": [50000, 60000, 70000, 62000, np.nan, 50000],\n",
    "}\n",
    "\n",
    "df = pd.DataFrame(data)\n",
    "df"
   ]
  },
  {
   "cell_type": "markdown",
   "id": "7f5c6639965f5f55",
   "metadata": {},
   "source": [
    "# Read data in DataFrame"
   ]
  },
  {
   "cell_type": "code",
   "execution_count": 3,
   "id": "5d13a0c1d7f9359c",
   "metadata": {
    "ExecuteTime": {
     "end_time": "2025-10-21T19:46:42.877811Z",
     "start_time": "2025-10-21T19:46:42.861848Z"
    }
   },
   "outputs": [
    {
     "name": "stdout",
     "output_type": "stream",
     "text": [
      "First two rows:\n"
     ]
    },
    {
     "data": {
      "text/html": [
       "<div>\n",
       "<style scoped>\n",
       "    .dataframe tbody tr th:only-of-type {\n",
       "        vertical-align: middle;\n",
       "    }\n",
       "\n",
       "    .dataframe tbody tr th {\n",
       "        vertical-align: top;\n",
       "    }\n",
       "\n",
       "    .dataframe thead th {\n",
       "        text-align: right;\n",
       "    }\n",
       "</style>\n",
       "<table border=\"1\" class=\"dataframe\">\n",
       "  <thead>\n",
       "    <tr style=\"text-align: right;\">\n",
       "      <th></th>\n",
       "      <th>Name</th>\n",
       "      <th>Age</th>\n",
       "      <th>Department</th>\n",
       "      <th>Salary</th>\n",
       "    </tr>\n",
       "  </thead>\n",
       "  <tbody>\n",
       "    <tr>\n",
       "      <th>0</th>\n",
       "      <td>Alice</td>\n",
       "      <td>25.0</td>\n",
       "      <td>HR</td>\n",
       "      <td>50000.0</td>\n",
       "    </tr>\n",
       "    <tr>\n",
       "      <th>1</th>\n",
       "      <td>Bob</td>\n",
       "      <td>30.0</td>\n",
       "      <td>IT</td>\n",
       "      <td>60000.0</td>\n",
       "    </tr>\n",
       "  </tbody>\n",
       "</table>\n",
       "</div>"
      ],
      "text/plain": [
       "    Name   Age Department   Salary\n",
       "0  Alice  25.0         HR  50000.0\n",
       "1    Bob  30.0         IT  60000.0"
      ]
     },
     "execution_count": 3,
     "metadata": {},
     "output_type": "execute_result"
    }
   ],
   "source": [
    "# Display the first n rows (default = 5) -> df.head()\n",
    "print(\"First two rows:\")\n",
    "df.head(2)"
   ]
  },
  {
   "cell_type": "code",
   "execution_count": 4,
   "id": "c67e5cef5ef9d858",
   "metadata": {
    "ExecuteTime": {
     "end_time": "2025-10-21T19:46:42.936272Z",
     "start_time": "2025-10-21T19:46:42.919010Z"
    }
   },
   "outputs": [
    {
     "name": "stdout",
     "output_type": "stream",
     "text": [
      "Display last 3 rows:\n"
     ]
    },
    {
     "data": {
      "text/html": [
       "<div>\n",
       "<style scoped>\n",
       "    .dataframe tbody tr th:only-of-type {\n",
       "        vertical-align: middle;\n",
       "    }\n",
       "\n",
       "    .dataframe tbody tr th {\n",
       "        vertical-align: top;\n",
       "    }\n",
       "\n",
       "    .dataframe thead th {\n",
       "        text-align: right;\n",
       "    }\n",
       "</style>\n",
       "<table border=\"1\" class=\"dataframe\">\n",
       "  <thead>\n",
       "    <tr style=\"text-align: right;\">\n",
       "      <th></th>\n",
       "      <th>Name</th>\n",
       "      <th>Age</th>\n",
       "      <th>Department</th>\n",
       "      <th>Salary</th>\n",
       "    </tr>\n",
       "  </thead>\n",
       "  <tbody>\n",
       "    <tr>\n",
       "      <th>3</th>\n",
       "      <td>David</td>\n",
       "      <td>NaN</td>\n",
       "      <td>IT</td>\n",
       "      <td>62000.0</td>\n",
       "    </tr>\n",
       "    <tr>\n",
       "      <th>4</th>\n",
       "      <td>Eve</td>\n",
       "      <td>29.0</td>\n",
       "      <td>HR</td>\n",
       "      <td>NaN</td>\n",
       "    </tr>\n",
       "    <tr>\n",
       "      <th>5</th>\n",
       "      <td>Alice</td>\n",
       "      <td>25.0</td>\n",
       "      <td>HR</td>\n",
       "      <td>50000.0</td>\n",
       "    </tr>\n",
       "  </tbody>\n",
       "</table>\n",
       "</div>"
      ],
      "text/plain": [
       "    Name   Age Department   Salary\n",
       "3  David   NaN         IT  62000.0\n",
       "4    Eve  29.0         HR      NaN\n",
       "5  Alice  25.0         HR  50000.0"
      ]
     },
     "execution_count": 4,
     "metadata": {},
     "output_type": "execute_result"
    }
   ],
   "source": [
    "# Displays the last n rows (default = 5) -> df.tail()\n",
    "print(\"Display last 3 rows:\")\n",
    "df.tail(3)"
   ]
  },
  {
   "cell_type": "markdown",
   "id": "9d78be379d1dfe73",
   "metadata": {},
   "source": [
    "# Indexing iloc"
   ]
  },
  {
   "cell_type": "code",
   "execution_count": 5,
   "id": "6ac50b30f203abf7",
   "metadata": {
    "ExecuteTime": {
     "end_time": "2025-10-21T19:46:42.984419Z",
     "start_time": "2025-10-21T19:46:42.975370Z"
    }
   },
   "outputs": [
    {
     "name": "stdout",
     "output_type": "stream",
     "text": [
      "First row:\n"
     ]
    },
    {
     "data": {
      "text/plain": [
       "Name            Alice\n",
       "Age              25.0\n",
       "Department         HR\n",
       "Salary        50000.0\n",
       "Name: 0, dtype: object"
      ]
     },
     "execution_count": 5,
     "metadata": {},
     "output_type": "execute_result"
    }
   ],
   "source": [
    "# First row in DataFrame\n",
    "print(\"First row:\")\n",
    "df.iloc[0]"
   ]
  },
  {
   "cell_type": "code",
   "execution_count": 6,
   "id": "14f8c7a1589d09ae",
   "metadata": {
    "ExecuteTime": {
     "end_time": "2025-10-21T19:46:43.067438Z",
     "start_time": "2025-10-21T19:46:43.055615Z"
    }
   },
   "outputs": [
    {
     "name": "stdout",
     "output_type": "stream",
     "text": [
      "From row 2 to 4 (last index is not included):\n"
     ]
    },
    {
     "data": {
      "text/html": [
       "<div>\n",
       "<style scoped>\n",
       "    .dataframe tbody tr th:only-of-type {\n",
       "        vertical-align: middle;\n",
       "    }\n",
       "\n",
       "    .dataframe tbody tr th {\n",
       "        vertical-align: top;\n",
       "    }\n",
       "\n",
       "    .dataframe thead th {\n",
       "        text-align: right;\n",
       "    }\n",
       "</style>\n",
       "<table border=\"1\" class=\"dataframe\">\n",
       "  <thead>\n",
       "    <tr style=\"text-align: right;\">\n",
       "      <th></th>\n",
       "      <th>Name</th>\n",
       "      <th>Age</th>\n",
       "      <th>Department</th>\n",
       "      <th>Salary</th>\n",
       "    </tr>\n",
       "  </thead>\n",
       "  <tbody>\n",
       "    <tr>\n",
       "      <th>2</th>\n",
       "      <td>Charlie</td>\n",
       "      <td>35.0</td>\n",
       "      <td>Finance</td>\n",
       "      <td>70000.0</td>\n",
       "    </tr>\n",
       "    <tr>\n",
       "      <th>3</th>\n",
       "      <td>David</td>\n",
       "      <td>NaN</td>\n",
       "      <td>IT</td>\n",
       "      <td>62000.0</td>\n",
       "    </tr>\n",
       "  </tbody>\n",
       "</table>\n",
       "</div>"
      ],
      "text/plain": [
       "      Name   Age Department   Salary\n",
       "2  Charlie  35.0    Finance  70000.0\n",
       "3    David   NaN         IT  62000.0"
      ]
     },
     "execution_count": 6,
     "metadata": {},
     "output_type": "execute_result"
    }
   ],
   "source": [
    "print(\"From row 2 to 4 (last index is not included):\")\n",
    "df.iloc[2:4]"
   ]
  },
  {
   "cell_type": "code",
   "execution_count": 7,
   "id": "f46e918b4d808796",
   "metadata": {
    "ExecuteTime": {
     "end_time": "2025-10-21T19:46:43.150654Z",
     "start_time": "2025-10-21T19:46:43.136906Z"
    }
   },
   "outputs": [
    {
     "name": "stdout",
     "output_type": "stream",
     "text": [
      "Reverse Dataframe:\n"
     ]
    },
    {
     "data": {
      "text/html": [
       "<div>\n",
       "<style scoped>\n",
       "    .dataframe tbody tr th:only-of-type {\n",
       "        vertical-align: middle;\n",
       "    }\n",
       "\n",
       "    .dataframe tbody tr th {\n",
       "        vertical-align: top;\n",
       "    }\n",
       "\n",
       "    .dataframe thead th {\n",
       "        text-align: right;\n",
       "    }\n",
       "</style>\n",
       "<table border=\"1\" class=\"dataframe\">\n",
       "  <thead>\n",
       "    <tr style=\"text-align: right;\">\n",
       "      <th></th>\n",
       "      <th>Name</th>\n",
       "      <th>Age</th>\n",
       "      <th>Department</th>\n",
       "      <th>Salary</th>\n",
       "    </tr>\n",
       "  </thead>\n",
       "  <tbody>\n",
       "    <tr>\n",
       "      <th>5</th>\n",
       "      <td>Alice</td>\n",
       "      <td>25.0</td>\n",
       "      <td>HR</td>\n",
       "      <td>50000.0</td>\n",
       "    </tr>\n",
       "    <tr>\n",
       "      <th>4</th>\n",
       "      <td>Eve</td>\n",
       "      <td>29.0</td>\n",
       "      <td>HR</td>\n",
       "      <td>NaN</td>\n",
       "    </tr>\n",
       "    <tr>\n",
       "      <th>3</th>\n",
       "      <td>David</td>\n",
       "      <td>NaN</td>\n",
       "      <td>IT</td>\n",
       "      <td>62000.0</td>\n",
       "    </tr>\n",
       "    <tr>\n",
       "      <th>2</th>\n",
       "      <td>Charlie</td>\n",
       "      <td>35.0</td>\n",
       "      <td>Finance</td>\n",
       "      <td>70000.0</td>\n",
       "    </tr>\n",
       "    <tr>\n",
       "      <th>1</th>\n",
       "      <td>Bob</td>\n",
       "      <td>30.0</td>\n",
       "      <td>IT</td>\n",
       "      <td>60000.0</td>\n",
       "    </tr>\n",
       "    <tr>\n",
       "      <th>0</th>\n",
       "      <td>Alice</td>\n",
       "      <td>25.0</td>\n",
       "      <td>HR</td>\n",
       "      <td>50000.0</td>\n",
       "    </tr>\n",
       "  </tbody>\n",
       "</table>\n",
       "</div>"
      ],
      "text/plain": [
       "      Name   Age Department   Salary\n",
       "5    Alice  25.0         HR  50000.0\n",
       "4      Eve  29.0         HR      NaN\n",
       "3    David   NaN         IT  62000.0\n",
       "2  Charlie  35.0    Finance  70000.0\n",
       "1      Bob  30.0         IT  60000.0\n",
       "0    Alice  25.0         HR  50000.0"
      ]
     },
     "execution_count": 7,
     "metadata": {},
     "output_type": "execute_result"
    }
   ],
   "source": [
    "# Reverse the dataframe\n",
    "print(\"Reverse Dataframe:\")\n",
    "df.iloc[::-1]"
   ]
  },
  {
   "cell_type": "code",
   "execution_count": 8,
   "id": "98ad05a73044b29d",
   "metadata": {
    "ExecuteTime": {
     "end_time": "2025-10-21T19:48:01.675420Z",
     "start_time": "2025-10-21T19:48:01.663856Z"
    }
   },
   "outputs": [
    {
     "name": "stdout",
     "output_type": "stream",
     "text": [
      "Rows and Columns:\n"
     ]
    },
    {
     "data": {
      "text/html": [
       "<div>\n",
       "<style scoped>\n",
       "    .dataframe tbody tr th:only-of-type {\n",
       "        vertical-align: middle;\n",
       "    }\n",
       "\n",
       "    .dataframe tbody tr th {\n",
       "        vertical-align: top;\n",
       "    }\n",
       "\n",
       "    .dataframe thead th {\n",
       "        text-align: right;\n",
       "    }\n",
       "</style>\n",
       "<table border=\"1\" class=\"dataframe\">\n",
       "  <thead>\n",
       "    <tr style=\"text-align: right;\">\n",
       "      <th></th>\n",
       "      <th>Name</th>\n",
       "      <th>Age</th>\n",
       "    </tr>\n",
       "  </thead>\n",
       "  <tbody>\n",
       "    <tr>\n",
       "      <th>1</th>\n",
       "      <td>Bob</td>\n",
       "      <td>30.0</td>\n",
       "    </tr>\n",
       "    <tr>\n",
       "      <th>2</th>\n",
       "      <td>Charlie</td>\n",
       "      <td>35.0</td>\n",
       "    </tr>\n",
       "  </tbody>\n",
       "</table>\n",
       "</div>"
      ],
      "text/plain": [
       "      Name   Age\n",
       "1      Bob  30.0\n",
       "2  Charlie  35.0"
      ]
     },
     "execution_count": 8,
     "metadata": {},
     "output_type": "execute_result"
    }
   ],
   "source": [
    "print(\"Rows and Columns:\")\n",
    "df.iloc[1:3, :2]  # rows, columns"
   ]
  },
  {
   "cell_type": "markdown",
   "id": "3f5501da74b19a24",
   "metadata": {},
   "source": [
    "# Indexing using loc"
   ]
  },
  {
   "cell_type": "code",
   "execution_count": 9,
   "id": "26bcb5d3c26ffcba",
   "metadata": {
    "ExecuteTime": {
     "end_time": "2025-10-21T19:46:43.201315Z",
     "start_time": "2025-10-21T19:46:43.189028Z"
    }
   },
   "outputs": [
    {
     "name": "stdout",
     "output_type": "stream",
     "text": [
      "First row using loc\n"
     ]
    },
    {
     "data": {
      "text/plain": [
       "Name            Alice\n",
       "Age              25.0\n",
       "Department         HR\n",
       "Salary        50000.0\n",
       "Name: 0, dtype: object"
      ]
     },
     "execution_count": 9,
     "metadata": {},
     "output_type": "execute_result"
    }
   ],
   "source": [
    "# First row\n",
    "print(\"First row using loc\")\n",
    "df.loc[0]"
   ]
  },
  {
   "cell_type": "code",
   "execution_count": 10,
   "id": "429f94e2f4776df9",
   "metadata": {
    "ExecuteTime": {
     "end_time": "2025-10-21T19:46:43.258885Z",
     "start_time": "2025-10-21T19:46:43.245856Z"
    }
   },
   "outputs": [
    {
     "name": "stdout",
     "output_type": "stream",
     "text": [
      "From index 3 to 5:\n"
     ]
    },
    {
     "data": {
      "text/html": [
       "<div>\n",
       "<style scoped>\n",
       "    .dataframe tbody tr th:only-of-type {\n",
       "        vertical-align: middle;\n",
       "    }\n",
       "\n",
       "    .dataframe tbody tr th {\n",
       "        vertical-align: top;\n",
       "    }\n",
       "\n",
       "    .dataframe thead th {\n",
       "        text-align: right;\n",
       "    }\n",
       "</style>\n",
       "<table border=\"1\" class=\"dataframe\">\n",
       "  <thead>\n",
       "    <tr style=\"text-align: right;\">\n",
       "      <th></th>\n",
       "      <th>Name</th>\n",
       "      <th>Age</th>\n",
       "      <th>Department</th>\n",
       "      <th>Salary</th>\n",
       "    </tr>\n",
       "  </thead>\n",
       "  <tbody>\n",
       "    <tr>\n",
       "      <th>3</th>\n",
       "      <td>David</td>\n",
       "      <td>NaN</td>\n",
       "      <td>IT</td>\n",
       "      <td>62000.0</td>\n",
       "    </tr>\n",
       "    <tr>\n",
       "      <th>4</th>\n",
       "      <td>Eve</td>\n",
       "      <td>29.0</td>\n",
       "      <td>HR</td>\n",
       "      <td>NaN</td>\n",
       "    </tr>\n",
       "    <tr>\n",
       "      <th>5</th>\n",
       "      <td>Alice</td>\n",
       "      <td>25.0</td>\n",
       "      <td>HR</td>\n",
       "      <td>50000.0</td>\n",
       "    </tr>\n",
       "  </tbody>\n",
       "</table>\n",
       "</div>"
      ],
      "text/plain": [
       "    Name   Age Department   Salary\n",
       "3  David   NaN         IT  62000.0\n",
       "4    Eve  29.0         HR      NaN\n",
       "5  Alice  25.0         HR  50000.0"
      ]
     },
     "execution_count": 10,
     "metadata": {},
     "output_type": "execute_result"
    }
   ],
   "source": [
    "# From index 3 to 5 (last index is not included)\n",
    "print(\"From index 3 to 5:\")\n",
    "df.loc[3:5]"
   ]
  },
  {
   "cell_type": "code",
   "execution_count": 11,
   "id": "bd520ca7f24f535f",
   "metadata": {
    "ExecuteTime": {
     "end_time": "2025-10-21T19:46:43.330089Z",
     "start_time": "2025-10-21T19:46:43.317503Z"
    }
   },
   "outputs": [
    {
     "name": "stdout",
     "output_type": "stream",
     "text": [
      "Fetch index 3 to 5 and display only `Name` and `salary`:\n"
     ]
    },
    {
     "data": {
      "text/html": [
       "<div>\n",
       "<style scoped>\n",
       "    .dataframe tbody tr th:only-of-type {\n",
       "        vertical-align: middle;\n",
       "    }\n",
       "\n",
       "    .dataframe tbody tr th {\n",
       "        vertical-align: top;\n",
       "    }\n",
       "\n",
       "    .dataframe thead th {\n",
       "        text-align: right;\n",
       "    }\n",
       "</style>\n",
       "<table border=\"1\" class=\"dataframe\">\n",
       "  <thead>\n",
       "    <tr style=\"text-align: right;\">\n",
       "      <th></th>\n",
       "      <th>Name</th>\n",
       "      <th>Salary</th>\n",
       "    </tr>\n",
       "  </thead>\n",
       "  <tbody>\n",
       "    <tr>\n",
       "      <th>3</th>\n",
       "      <td>David</td>\n",
       "      <td>62000.0</td>\n",
       "    </tr>\n",
       "    <tr>\n",
       "      <th>4</th>\n",
       "      <td>Eve</td>\n",
       "      <td>NaN</td>\n",
       "    </tr>\n",
       "    <tr>\n",
       "      <th>5</th>\n",
       "      <td>Alice</td>\n",
       "      <td>50000.0</td>\n",
       "    </tr>\n",
       "  </tbody>\n",
       "</table>\n",
       "</div>"
      ],
      "text/plain": [
       "    Name   Salary\n",
       "3  David  62000.0\n",
       "4    Eve      NaN\n",
       "5  Alice  50000.0"
      ]
     },
     "execution_count": 11,
     "metadata": {},
     "output_type": "execute_result"
    }
   ],
   "source": [
    "# Fetch index 3 to 5 and display only Name and salary\n",
    "print(\"Fetch index 3 to 5 and display only `Name` and `salary`:\")\n",
    "df.loc[3:5, [\"Name\", \"Salary\"]]"
   ]
  },
  {
   "cell_type": "markdown",
   "id": "f731720c43220056",
   "metadata": {},
   "source": [
    "# Without iloc and loc"
   ]
  },
  {
   "cell_type": "code",
   "execution_count": 12,
   "id": "f55882ec3306f30",
   "metadata": {
    "ExecuteTime": {
     "end_time": "2025-10-21T19:49:24.853697Z",
     "start_time": "2025-10-21T19:49:24.848909Z"
    }
   },
   "outputs": [
    {
     "name": "stdout",
     "output_type": "stream",
     "text": [
      "Access just one column:\n"
     ]
    },
    {
     "data": {
      "text/plain": [
       "0      Alice\n",
       "1        Bob\n",
       "2    Charlie\n",
       "3      David\n",
       "4        Eve\n",
       "5      Alice\n",
       "Name: Name, dtype: object"
      ]
     },
     "execution_count": 12,
     "metadata": {},
     "output_type": "execute_result"
    }
   ],
   "source": [
    "print(\"Access just one column:\")\n",
    "df[\"Name\"]"
   ]
  },
  {
   "cell_type": "code",
   "execution_count": 13,
   "id": "1339b42b9b2c9db0",
   "metadata": {
    "ExecuteTime": {
     "end_time": "2025-10-21T19:49:46.379729Z",
     "start_time": "2025-10-21T19:49:46.372320Z"
    }
   },
   "outputs": [
    {
     "name": "stdout",
     "output_type": "stream",
     "text": [
      "Access multiple columns:\n"
     ]
    },
    {
     "data": {
      "text/html": [
       "<div>\n",
       "<style scoped>\n",
       "    .dataframe tbody tr th:only-of-type {\n",
       "        vertical-align: middle;\n",
       "    }\n",
       "\n",
       "    .dataframe tbody tr th {\n",
       "        vertical-align: top;\n",
       "    }\n",
       "\n",
       "    .dataframe thead th {\n",
       "        text-align: right;\n",
       "    }\n",
       "</style>\n",
       "<table border=\"1\" class=\"dataframe\">\n",
       "  <thead>\n",
       "    <tr style=\"text-align: right;\">\n",
       "      <th></th>\n",
       "      <th>Name</th>\n",
       "      <th>Salary</th>\n",
       "    </tr>\n",
       "  </thead>\n",
       "  <tbody>\n",
       "    <tr>\n",
       "      <th>0</th>\n",
       "      <td>Alice</td>\n",
       "      <td>50000.0</td>\n",
       "    </tr>\n",
       "    <tr>\n",
       "      <th>1</th>\n",
       "      <td>Bob</td>\n",
       "      <td>60000.0</td>\n",
       "    </tr>\n",
       "    <tr>\n",
       "      <th>2</th>\n",
       "      <td>Charlie</td>\n",
       "      <td>70000.0</td>\n",
       "    </tr>\n",
       "    <tr>\n",
       "      <th>3</th>\n",
       "      <td>David</td>\n",
       "      <td>62000.0</td>\n",
       "    </tr>\n",
       "    <tr>\n",
       "      <th>4</th>\n",
       "      <td>Eve</td>\n",
       "      <td>NaN</td>\n",
       "    </tr>\n",
       "    <tr>\n",
       "      <th>5</th>\n",
       "      <td>Alice</td>\n",
       "      <td>50000.0</td>\n",
       "    </tr>\n",
       "  </tbody>\n",
       "</table>\n",
       "</div>"
      ],
      "text/plain": [
       "      Name   Salary\n",
       "0    Alice  50000.0\n",
       "1      Bob  60000.0\n",
       "2  Charlie  70000.0\n",
       "3    David  62000.0\n",
       "4      Eve      NaN\n",
       "5    Alice  50000.0"
      ]
     },
     "execution_count": 13,
     "metadata": {},
     "output_type": "execute_result"
    }
   ],
   "source": [
    "print(\"Access multiple columns:\")\n",
    "df[[\"Name\", \"Salary\"]]"
   ]
  },
  {
   "cell_type": "markdown",
   "id": "2a819516f5a9f187",
   "metadata": {},
   "source": [
    "# Drop Columns"
   ]
  },
  {
   "cell_type": "code",
   "execution_count": 14,
   "id": "e35b89becd9df48b",
   "metadata": {
    "ExecuteTime": {
     "end_time": "2025-10-21T19:55:46.994513Z",
     "start_time": "2025-10-21T19:55:46.983754Z"
    }
   },
   "outputs": [
    {
     "name": "stdout",
     "output_type": "stream",
     "text": [
      "Drop Age column temporarily:\n"
     ]
    },
    {
     "data": {
      "text/html": [
       "<div>\n",
       "<style scoped>\n",
       "    .dataframe tbody tr th:only-of-type {\n",
       "        vertical-align: middle;\n",
       "    }\n",
       "\n",
       "    .dataframe tbody tr th {\n",
       "        vertical-align: top;\n",
       "    }\n",
       "\n",
       "    .dataframe thead th {\n",
       "        text-align: right;\n",
       "    }\n",
       "</style>\n",
       "<table border=\"1\" class=\"dataframe\">\n",
       "  <thead>\n",
       "    <tr style=\"text-align: right;\">\n",
       "      <th></th>\n",
       "      <th>Name</th>\n",
       "      <th>Department</th>\n",
       "      <th>Salary</th>\n",
       "    </tr>\n",
       "  </thead>\n",
       "  <tbody>\n",
       "    <tr>\n",
       "      <th>0</th>\n",
       "      <td>Alice</td>\n",
       "      <td>HR</td>\n",
       "      <td>50000.0</td>\n",
       "    </tr>\n",
       "    <tr>\n",
       "      <th>1</th>\n",
       "      <td>Bob</td>\n",
       "      <td>IT</td>\n",
       "      <td>60000.0</td>\n",
       "    </tr>\n",
       "    <tr>\n",
       "      <th>2</th>\n",
       "      <td>Charlie</td>\n",
       "      <td>Finance</td>\n",
       "      <td>70000.0</td>\n",
       "    </tr>\n",
       "    <tr>\n",
       "      <th>3</th>\n",
       "      <td>David</td>\n",
       "      <td>IT</td>\n",
       "      <td>62000.0</td>\n",
       "    </tr>\n",
       "    <tr>\n",
       "      <th>4</th>\n",
       "      <td>Eve</td>\n",
       "      <td>HR</td>\n",
       "      <td>NaN</td>\n",
       "    </tr>\n",
       "    <tr>\n",
       "      <th>5</th>\n",
       "      <td>Alice</td>\n",
       "      <td>HR</td>\n",
       "      <td>50000.0</td>\n",
       "    </tr>\n",
       "  </tbody>\n",
       "</table>\n",
       "</div>"
      ],
      "text/plain": [
       "      Name Department   Salary\n",
       "0    Alice         HR  50000.0\n",
       "1      Bob         IT  60000.0\n",
       "2  Charlie    Finance  70000.0\n",
       "3    David         IT  62000.0\n",
       "4      Eve         HR      NaN\n",
       "5    Alice         HR  50000.0"
      ]
     },
     "execution_count": 14,
     "metadata": {},
     "output_type": "execute_result"
    }
   ],
   "source": [
    "# Drop Age column\n",
    "\n",
    "# NOTE: The axis for row is 0\n",
    "#       The axis for column is 1\n",
    "# So, the Age is a column, we must use pass axis = 1 to drop column ==> df.drop(column_name, axis, inplace)\n",
    "# Here inplace will perform the operation in the original DataFrame. The default value is `False` which means the changes will be temporary.\n",
    "\n",
    "print(\"Drop Age column temporarily:\")\n",
    "df.drop(\"Age\", axis=1)"
   ]
  },
  {
   "cell_type": "markdown",
   "id": "56a00ae1ff100a1b",
   "metadata": {},
   "source": [
    "# Other important functions and attributes"
   ]
  },
  {
   "cell_type": "code",
   "execution_count": 15,
   "id": "4dea6de782b24cb6",
   "metadata": {
    "ExecuteTime": {
     "end_time": "2025-10-21T19:56:50.929917Z",
     "start_time": "2025-10-21T19:56:50.926127Z"
    }
   },
   "outputs": [
    {
     "name": "stdout",
     "output_type": "stream",
     "text": [
      "Shape of the DataSet: (6, 4)\n"
     ]
    }
   ],
   "source": [
    "print(\"Shape of the DataSet:\", df.shape)"
   ]
  },
  {
   "cell_type": "code",
   "execution_count": 16,
   "id": "25e9fe465c96f312",
   "metadata": {
    "ExecuteTime": {
     "end_time": "2025-10-21T19:57:15.309880Z",
     "start_time": "2025-10-21T19:57:15.284967Z"
    }
   },
   "outputs": [
    {
     "name": "stdout",
     "output_type": "stream",
     "text": [
      "Information about the DataFrame:\n",
      "<class 'pandas.core.frame.DataFrame'>\n",
      "RangeIndex: 6 entries, 0 to 5\n",
      "Data columns (total 4 columns):\n",
      " #   Column      Non-Null Count  Dtype  \n",
      "---  ------      --------------  -----  \n",
      " 0   Name        6 non-null      object \n",
      " 1   Age         5 non-null      float64\n",
      " 2   Department  6 non-null      object \n",
      " 3   Salary      5 non-null      float64\n",
      "dtypes: float64(2), object(2)\n",
      "memory usage: 324.0+ bytes\n"
     ]
    }
   ],
   "source": [
    "print(\"Information about the DataFrame:\")\n",
    "# The columns are also known as features\n",
    "\n",
    "df.info()"
   ]
  },
  {
   "cell_type": "code",
   "execution_count": 17,
   "id": "de8a2cb994e84d60",
   "metadata": {
    "ExecuteTime": {
     "end_time": "2025-10-21T19:57:32.452952Z",
     "start_time": "2025-10-21T19:57:32.428986Z"
    }
   },
   "outputs": [
    {
     "name": "stdout",
     "output_type": "stream",
     "text": [
      "Statistical information of Dataset:\n"
     ]
    },
    {
     "data": {
      "text/html": [
       "<div>\n",
       "<style scoped>\n",
       "    .dataframe tbody tr th:only-of-type {\n",
       "        vertical-align: middle;\n",
       "    }\n",
       "\n",
       "    .dataframe tbody tr th {\n",
       "        vertical-align: top;\n",
       "    }\n",
       "\n",
       "    .dataframe thead th {\n",
       "        text-align: right;\n",
       "    }\n",
       "</style>\n",
       "<table border=\"1\" class=\"dataframe\">\n",
       "  <thead>\n",
       "    <tr style=\"text-align: right;\">\n",
       "      <th></th>\n",
       "      <th>Age</th>\n",
       "      <th>Salary</th>\n",
       "    </tr>\n",
       "  </thead>\n",
       "  <tbody>\n",
       "    <tr>\n",
       "      <th>count</th>\n",
       "      <td>5.000000</td>\n",
       "      <td>5.000000</td>\n",
       "    </tr>\n",
       "    <tr>\n",
       "      <th>mean</th>\n",
       "      <td>28.800000</td>\n",
       "      <td>58400.000000</td>\n",
       "    </tr>\n",
       "    <tr>\n",
       "      <th>std</th>\n",
       "      <td>4.147288</td>\n",
       "      <td>8532.291603</td>\n",
       "    </tr>\n",
       "    <tr>\n",
       "      <th>min</th>\n",
       "      <td>25.000000</td>\n",
       "      <td>50000.000000</td>\n",
       "    </tr>\n",
       "    <tr>\n",
       "      <th>25%</th>\n",
       "      <td>25.000000</td>\n",
       "      <td>50000.000000</td>\n",
       "    </tr>\n",
       "    <tr>\n",
       "      <th>50%</th>\n",
       "      <td>29.000000</td>\n",
       "      <td>60000.000000</td>\n",
       "    </tr>\n",
       "    <tr>\n",
       "      <th>75%</th>\n",
       "      <td>30.000000</td>\n",
       "      <td>62000.000000</td>\n",
       "    </tr>\n",
       "    <tr>\n",
       "      <th>max</th>\n",
       "      <td>35.000000</td>\n",
       "      <td>70000.000000</td>\n",
       "    </tr>\n",
       "  </tbody>\n",
       "</table>\n",
       "</div>"
      ],
      "text/plain": [
       "             Age        Salary\n",
       "count   5.000000      5.000000\n",
       "mean   28.800000  58400.000000\n",
       "std     4.147288   8532.291603\n",
       "min    25.000000  50000.000000\n",
       "25%    25.000000  50000.000000\n",
       "50%    29.000000  60000.000000\n",
       "75%    30.000000  62000.000000\n",
       "max    35.000000  70000.000000"
      ]
     },
     "execution_count": 17,
     "metadata": {},
     "output_type": "execute_result"
    }
   ],
   "source": [
    "# Statistical information of Dataset\n",
    "print(\"Statistical information of Dataset:\")\n",
    "df.describe()"
   ]
  },
  {
   "cell_type": "markdown",
   "id": "05580f29",
   "metadata": {},
   "source": [
    "# Broadcasting"
   ]
  },
  {
   "cell_type": "code",
   "execution_count": 18,
   "id": "1306900c",
   "metadata": {},
   "outputs": [
    {
     "name": "stdout",
     "output_type": "stream",
     "text": [
      "Increment Salary by 5000 for all employees:\n"
     ]
    },
    {
     "data": {
      "text/html": [
       "<div>\n",
       "<style scoped>\n",
       "    .dataframe tbody tr th:only-of-type {\n",
       "        vertical-align: middle;\n",
       "    }\n",
       "\n",
       "    .dataframe tbody tr th {\n",
       "        vertical-align: top;\n",
       "    }\n",
       "\n",
       "    .dataframe thead th {\n",
       "        text-align: right;\n",
       "    }\n",
       "</style>\n",
       "<table border=\"1\" class=\"dataframe\">\n",
       "  <thead>\n",
       "    <tr style=\"text-align: right;\">\n",
       "      <th></th>\n",
       "      <th>Name</th>\n",
       "      <th>Age</th>\n",
       "      <th>Department</th>\n",
       "      <th>Salary</th>\n",
       "    </tr>\n",
       "  </thead>\n",
       "  <tbody>\n",
       "    <tr>\n",
       "      <th>0</th>\n",
       "      <td>Alice</td>\n",
       "      <td>25.0</td>\n",
       "      <td>HR</td>\n",
       "      <td>55000.0</td>\n",
       "    </tr>\n",
       "    <tr>\n",
       "      <th>1</th>\n",
       "      <td>Bob</td>\n",
       "      <td>30.0</td>\n",
       "      <td>IT</td>\n",
       "      <td>65000.0</td>\n",
       "    </tr>\n",
       "    <tr>\n",
       "      <th>2</th>\n",
       "      <td>Charlie</td>\n",
       "      <td>35.0</td>\n",
       "      <td>Finance</td>\n",
       "      <td>75000.0</td>\n",
       "    </tr>\n",
       "    <tr>\n",
       "      <th>3</th>\n",
       "      <td>David</td>\n",
       "      <td>NaN</td>\n",
       "      <td>IT</td>\n",
       "      <td>67000.0</td>\n",
       "    </tr>\n",
       "    <tr>\n",
       "      <th>4</th>\n",
       "      <td>Eve</td>\n",
       "      <td>29.0</td>\n",
       "      <td>HR</td>\n",
       "      <td>NaN</td>\n",
       "    </tr>\n",
       "    <tr>\n",
       "      <th>5</th>\n",
       "      <td>Alice</td>\n",
       "      <td>25.0</td>\n",
       "      <td>HR</td>\n",
       "      <td>55000.0</td>\n",
       "    </tr>\n",
       "  </tbody>\n",
       "</table>\n",
       "</div>"
      ],
      "text/plain": [
       "      Name   Age Department   Salary\n",
       "0    Alice  25.0         HR  55000.0\n",
       "1      Bob  30.0         IT  65000.0\n",
       "2  Charlie  35.0    Finance  75000.0\n",
       "3    David   NaN         IT  67000.0\n",
       "4      Eve  29.0         HR      NaN\n",
       "5    Alice  25.0         HR  55000.0"
      ]
     },
     "execution_count": 18,
     "metadata": {},
     "output_type": "execute_result"
    }
   ],
   "source": [
    "# Increment Salary by 5000 for all employees\n",
    "print(\"Increment Salary by 5000 for all employees:\")\n",
    "df[\"Salary\"] = df[\"Salary\"] + 5000\n",
    "df"
   ]
  },
  {
   "cell_type": "markdown",
   "id": "0ee082a1",
   "metadata": {},
   "source": [
    "# Modify Dataset"
   ]
  },
  {
   "cell_type": "code",
   "execution_count": 19,
   "id": "408fcb86d9910914",
   "metadata": {},
   "outputs": [
    {
     "name": "stdout",
     "output_type": "stream",
     "text": [
      "Rename Department column to Dept:\n"
     ]
    },
    {
     "data": {
      "text/html": [
       "<div>\n",
       "<style scoped>\n",
       "    .dataframe tbody tr th:only-of-type {\n",
       "        vertical-align: middle;\n",
       "    }\n",
       "\n",
       "    .dataframe tbody tr th {\n",
       "        vertical-align: top;\n",
       "    }\n",
       "\n",
       "    .dataframe thead th {\n",
       "        text-align: right;\n",
       "    }\n",
       "</style>\n",
       "<table border=\"1\" class=\"dataframe\">\n",
       "  <thead>\n",
       "    <tr style=\"text-align: right;\">\n",
       "      <th></th>\n",
       "      <th>Name</th>\n",
       "      <th>Age</th>\n",
       "      <th>Dept</th>\n",
       "      <th>Salary</th>\n",
       "    </tr>\n",
       "  </thead>\n",
       "  <tbody>\n",
       "    <tr>\n",
       "      <th>0</th>\n",
       "      <td>Alice</td>\n",
       "      <td>25.0</td>\n",
       "      <td>HR</td>\n",
       "      <td>55000.0</td>\n",
       "    </tr>\n",
       "    <tr>\n",
       "      <th>1</th>\n",
       "      <td>Bob</td>\n",
       "      <td>30.0</td>\n",
       "      <td>IT</td>\n",
       "      <td>65000.0</td>\n",
       "    </tr>\n",
       "    <tr>\n",
       "      <th>2</th>\n",
       "      <td>Charlie</td>\n",
       "      <td>35.0</td>\n",
       "      <td>Finance</td>\n",
       "      <td>75000.0</td>\n",
       "    </tr>\n",
       "    <tr>\n",
       "      <th>3</th>\n",
       "      <td>David</td>\n",
       "      <td>NaN</td>\n",
       "      <td>IT</td>\n",
       "      <td>67000.0</td>\n",
       "    </tr>\n",
       "    <tr>\n",
       "      <th>4</th>\n",
       "      <td>Eve</td>\n",
       "      <td>29.0</td>\n",
       "      <td>HR</td>\n",
       "      <td>NaN</td>\n",
       "    </tr>\n",
       "    <tr>\n",
       "      <th>5</th>\n",
       "      <td>Alice</td>\n",
       "      <td>25.0</td>\n",
       "      <td>HR</td>\n",
       "      <td>55000.0</td>\n",
       "    </tr>\n",
       "  </tbody>\n",
       "</table>\n",
       "</div>"
      ],
      "text/plain": [
       "      Name   Age     Dept   Salary\n",
       "0    Alice  25.0       HR  55000.0\n",
       "1      Bob  30.0       IT  65000.0\n",
       "2  Charlie  35.0  Finance  75000.0\n",
       "3    David   NaN       IT  67000.0\n",
       "4      Eve  29.0       HR      NaN\n",
       "5    Alice  25.0       HR  55000.0"
      ]
     },
     "execution_count": 19,
     "metadata": {},
     "output_type": "execute_result"
    }
   ],
   "source": [
    "# Rename Department column to Dept\n",
    "print(\"Rename Department column to Dept:\")\n",
    "# Here inplace will make sure the changes are done in original DataFrame\n",
    "df.rename(columns={\"Department\": \"Dept\"}, inplace=True)\n",
    "df\n",
    "\n",
    "# Renaming multiple columns\n",
    "# df.rename(columns={\"Department\": \"Dept\", \"Salary\": \"CTC\"}, inplace=True)"
   ]
  },
  {
   "cell_type": "code",
   "execution_count": 20,
   "id": "15d46559",
   "metadata": {},
   "outputs": [
    {
     "name": "stdout",
     "output_type": "stream",
     "text": [
      "Replace `Charlie` with `Rose` in Name column:\n"
     ]
    },
    {
     "data": {
      "text/html": [
       "<div>\n",
       "<style scoped>\n",
       "    .dataframe tbody tr th:only-of-type {\n",
       "        vertical-align: middle;\n",
       "    }\n",
       "\n",
       "    .dataframe tbody tr th {\n",
       "        vertical-align: top;\n",
       "    }\n",
       "\n",
       "    .dataframe thead th {\n",
       "        text-align: right;\n",
       "    }\n",
       "</style>\n",
       "<table border=\"1\" class=\"dataframe\">\n",
       "  <thead>\n",
       "    <tr style=\"text-align: right;\">\n",
       "      <th></th>\n",
       "      <th>Name</th>\n",
       "      <th>Age</th>\n",
       "      <th>Dept</th>\n",
       "      <th>Salary</th>\n",
       "    </tr>\n",
       "  </thead>\n",
       "  <tbody>\n",
       "    <tr>\n",
       "      <th>0</th>\n",
       "      <td>Alice</td>\n",
       "      <td>25.0</td>\n",
       "      <td>HR</td>\n",
       "      <td>55000.0</td>\n",
       "    </tr>\n",
       "    <tr>\n",
       "      <th>1</th>\n",
       "      <td>Bob</td>\n",
       "      <td>30.0</td>\n",
       "      <td>IT</td>\n",
       "      <td>65000.0</td>\n",
       "    </tr>\n",
       "    <tr>\n",
       "      <th>2</th>\n",
       "      <td>Rose</td>\n",
       "      <td>35.0</td>\n",
       "      <td>Finance</td>\n",
       "      <td>75000.0</td>\n",
       "    </tr>\n",
       "    <tr>\n",
       "      <th>3</th>\n",
       "      <td>John</td>\n",
       "      <td>NaN</td>\n",
       "      <td>IT</td>\n",
       "      <td>67000.0</td>\n",
       "    </tr>\n",
       "    <tr>\n",
       "      <th>4</th>\n",
       "      <td>Eve</td>\n",
       "      <td>29.0</td>\n",
       "      <td>HR</td>\n",
       "      <td>NaN</td>\n",
       "    </tr>\n",
       "    <tr>\n",
       "      <th>5</th>\n",
       "      <td>Alice</td>\n",
       "      <td>25.0</td>\n",
       "      <td>HR</td>\n",
       "      <td>55000.0</td>\n",
       "    </tr>\n",
       "  </tbody>\n",
       "</table>\n",
       "</div>"
      ],
      "text/plain": [
       "    Name   Age     Dept   Salary\n",
       "0  Alice  25.0       HR  55000.0\n",
       "1    Bob  30.0       IT  65000.0\n",
       "2   Rose  35.0  Finance  75000.0\n",
       "3   John   NaN       IT  67000.0\n",
       "4    Eve  29.0       HR      NaN\n",
       "5  Alice  25.0       HR  55000.0"
      ]
     },
     "execution_count": 20,
     "metadata": {},
     "output_type": "execute_result"
    }
   ],
   "source": [
    "# Replace one value\n",
    "print(\"Replace `Charlie` with `Rose` in Name column:\")\n",
    "# df[\"Name\"].replace(\"Charlie\", \"Rose\", inplace=True) # Deprecated way\n",
    "# df[\"Name\"] = df[\"Name\"].replace(\"Charlie\", \"Rose\")\n",
    "\n",
    "# replace multiple values\n",
    "# df[\"Name\"].replace({\"Charlie\": \"Rose\", \"David\": \"John\"}, inplace=True) # Deprecated way\n",
    "df[\"Name\"] = df[\"Name\"].replace({\"Charlie\": \"Rose\", \"David\": \"John\"})\n",
    "df"
   ]
  },
  {
   "cell_type": "code",
   "execution_count": 21,
   "id": "7cd13450",
   "metadata": {},
   "outputs": [
    {
     "name": "stdout",
     "output_type": "stream",
     "text": [
      "Create new column Bonus as 10% of Salary:\n"
     ]
    },
    {
     "data": {
      "text/html": [
       "<div>\n",
       "<style scoped>\n",
       "    .dataframe tbody tr th:only-of-type {\n",
       "        vertical-align: middle;\n",
       "    }\n",
       "\n",
       "    .dataframe tbody tr th {\n",
       "        vertical-align: top;\n",
       "    }\n",
       "\n",
       "    .dataframe thead th {\n",
       "        text-align: right;\n",
       "    }\n",
       "</style>\n",
       "<table border=\"1\" class=\"dataframe\">\n",
       "  <thead>\n",
       "    <tr style=\"text-align: right;\">\n",
       "      <th></th>\n",
       "      <th>Name</th>\n",
       "      <th>Age</th>\n",
       "      <th>Dept</th>\n",
       "      <th>Salary</th>\n",
       "      <th>Bonus</th>\n",
       "    </tr>\n",
       "  </thead>\n",
       "  <tbody>\n",
       "    <tr>\n",
       "      <th>0</th>\n",
       "      <td>Alice</td>\n",
       "      <td>25.0</td>\n",
       "      <td>HR</td>\n",
       "      <td>55000.0</td>\n",
       "      <td>280500.0</td>\n",
       "    </tr>\n",
       "    <tr>\n",
       "      <th>1</th>\n",
       "      <td>Bob</td>\n",
       "      <td>30.0</td>\n",
       "      <td>IT</td>\n",
       "      <td>65000.0</td>\n",
       "      <td>331500.0</td>\n",
       "    </tr>\n",
       "    <tr>\n",
       "      <th>2</th>\n",
       "      <td>Rose</td>\n",
       "      <td>35.0</td>\n",
       "      <td>Finance</td>\n",
       "      <td>75000.0</td>\n",
       "      <td>382500.0</td>\n",
       "    </tr>\n",
       "    <tr>\n",
       "      <th>3</th>\n",
       "      <td>John</td>\n",
       "      <td>NaN</td>\n",
       "      <td>IT</td>\n",
       "      <td>67000.0</td>\n",
       "      <td>341700.0</td>\n",
       "    </tr>\n",
       "    <tr>\n",
       "      <th>4</th>\n",
       "      <td>Eve</td>\n",
       "      <td>29.0</td>\n",
       "      <td>HR</td>\n",
       "      <td>NaN</td>\n",
       "      <td>NaN</td>\n",
       "    </tr>\n",
       "    <tr>\n",
       "      <th>5</th>\n",
       "      <td>Alice</td>\n",
       "      <td>25.0</td>\n",
       "      <td>HR</td>\n",
       "      <td>55000.0</td>\n",
       "      <td>280500.0</td>\n",
       "    </tr>\n",
       "  </tbody>\n",
       "</table>\n",
       "</div>"
      ],
      "text/plain": [
       "    Name   Age     Dept   Salary     Bonus\n",
       "0  Alice  25.0       HR  55000.0  280500.0\n",
       "1    Bob  30.0       IT  65000.0  331500.0\n",
       "2   Rose  35.0  Finance  75000.0  382500.0\n",
       "3   John   NaN       IT  67000.0  341700.0\n",
       "4    Eve  29.0       HR      NaN       NaN\n",
       "5  Alice  25.0       HR  55000.0  280500.0"
      ]
     },
     "execution_count": 21,
     "metadata": {},
     "output_type": "execute_result"
    }
   ],
   "source": [
    "# Create new column Bonus as 10% of Salary\n",
    "print(\"Create new column Bonus as 10% of Salary:\")\n",
    "df[\"Bonus\"] = df[\"Salary\"] * 5.1\n",
    "df"
   ]
  },
  {
   "cell_type": "code",
   "execution_count": 22,
   "id": "9a4eb7c8",
   "metadata": {},
   "outputs": [
    {
     "name": "stdout",
     "output_type": "stream",
     "text": [
      "Unique values from Dept column:\n"
     ]
    },
    {
     "data": {
      "text/plain": [
       "array(['HR', 'IT', 'Finance'], dtype=object)"
      ]
     },
     "execution_count": 22,
     "metadata": {},
     "output_type": "execute_result"
    }
   ],
   "source": [
    "# Get unique values from Dept column\n",
    "print(\"Unique values from Dept column:\")\n",
    "df[\"Dept\"].unique()"
   ]
  },
  {
   "cell_type": "code",
   "execution_count": 23,
   "id": "b5521743",
   "metadata": {},
   "outputs": [
    {
     "name": "stdout",
     "output_type": "stream",
     "text": [
      "No.of employees in each Dept:\n"
     ]
    },
    {
     "data": {
      "text/plain": [
       "Dept\n",
       "HR         3\n",
       "IT         2\n",
       "Finance    1\n",
       "Name: count, dtype: int64"
      ]
     },
     "execution_count": 23,
     "metadata": {},
     "output_type": "execute_result"
    }
   ],
   "source": [
    "# Calculate no.of employees in each Dept\n",
    "print(\"No.of employees in each Dept:\")\n",
    "df[\"Dept\"].value_counts()"
   ]
  },
  {
   "cell_type": "code",
   "execution_count": 24,
   "id": "cc6f305f",
   "metadata": {},
   "outputs": [
    {
     "name": "stdout",
     "output_type": "stream",
     "text": [
      "Sum of all salaries:\n"
     ]
    },
    {
     "data": {
      "text/plain": [
       "np.float64(317000.0)"
      ]
     },
     "execution_count": 24,
     "metadata": {},
     "output_type": "execute_result"
    }
   ],
   "source": [
    "# Sum of all salaries\n",
    "print(\"Sum of all salaries:\")\n",
    "df[\"Salary\"].sum()"
   ]
  },
  {
   "cell_type": "code",
   "execution_count": 25,
   "id": "346b1efd",
   "metadata": {},
   "outputs": [
    {
     "name": "stdout",
     "output_type": "stream",
     "text": [
      "Remove nulls and calculate sum of salaries:\n"
     ]
    },
    {
     "data": {
      "text/plain": [
       "np.float64(317000.0)"
      ]
     },
     "execution_count": 25,
     "metadata": {},
     "output_type": "execute_result"
    }
   ],
   "source": [
    "# Remove nulls and calculate sum of salaries\n",
    "print(\"Remove nulls and calculate sum of salaries:\")\n",
    "df[\"Salary\"].dropna().sum()"
   ]
  },
  {
   "cell_type": "code",
   "execution_count": 26,
   "id": "bd633dff",
   "metadata": {},
   "outputs": [
    {
     "name": "stdout",
     "output_type": "stream",
     "text": [
      "Check for null values:\n"
     ]
    },
    {
     "data": {
      "text/plain": [
       "Name      0\n",
       "Age       1\n",
       "Dept      0\n",
       "Salary    1\n",
       "Bonus     1\n",
       "dtype: int64"
      ]
     },
     "execution_count": 26,
     "metadata": {},
     "output_type": "execute_result"
    }
   ],
   "source": [
    "# Check for null values\n",
    "print(\"Check for null values:\")\n",
    "df.isnull().sum()"
   ]
  },
  {
   "cell_type": "code",
   "execution_count": 27,
   "id": "6622f313",
   "metadata": {},
   "outputs": [
    {
     "name": "stdout",
     "output_type": "stream",
     "text": [
      "Drop rows which have null values:\n"
     ]
    },
    {
     "data": {
      "text/html": [
       "<div>\n",
       "<style scoped>\n",
       "    .dataframe tbody tr th:only-of-type {\n",
       "        vertical-align: middle;\n",
       "    }\n",
       "\n",
       "    .dataframe tbody tr th {\n",
       "        vertical-align: top;\n",
       "    }\n",
       "\n",
       "    .dataframe thead th {\n",
       "        text-align: right;\n",
       "    }\n",
       "</style>\n",
       "<table border=\"1\" class=\"dataframe\">\n",
       "  <thead>\n",
       "    <tr style=\"text-align: right;\">\n",
       "      <th></th>\n",
       "      <th>Name</th>\n",
       "      <th>Age</th>\n",
       "      <th>Dept</th>\n",
       "      <th>Salary</th>\n",
       "      <th>Bonus</th>\n",
       "    </tr>\n",
       "  </thead>\n",
       "  <tbody>\n",
       "    <tr>\n",
       "      <th>0</th>\n",
       "      <td>Alice</td>\n",
       "      <td>25.0</td>\n",
       "      <td>HR</td>\n",
       "      <td>55000.0</td>\n",
       "      <td>280500.0</td>\n",
       "    </tr>\n",
       "    <tr>\n",
       "      <th>1</th>\n",
       "      <td>Bob</td>\n",
       "      <td>30.0</td>\n",
       "      <td>IT</td>\n",
       "      <td>65000.0</td>\n",
       "      <td>331500.0</td>\n",
       "    </tr>\n",
       "    <tr>\n",
       "      <th>2</th>\n",
       "      <td>Rose</td>\n",
       "      <td>35.0</td>\n",
       "      <td>Finance</td>\n",
       "      <td>75000.0</td>\n",
       "      <td>382500.0</td>\n",
       "    </tr>\n",
       "    <tr>\n",
       "      <th>5</th>\n",
       "      <td>Alice</td>\n",
       "      <td>25.0</td>\n",
       "      <td>HR</td>\n",
       "      <td>55000.0</td>\n",
       "      <td>280500.0</td>\n",
       "    </tr>\n",
       "  </tbody>\n",
       "</table>\n",
       "</div>"
      ],
      "text/plain": [
       "    Name   Age     Dept   Salary     Bonus\n",
       "0  Alice  25.0       HR  55000.0  280500.0\n",
       "1    Bob  30.0       IT  65000.0  331500.0\n",
       "2   Rose  35.0  Finance  75000.0  382500.0\n",
       "5  Alice  25.0       HR  55000.0  280500.0"
      ]
     },
     "execution_count": 27,
     "metadata": {},
     "output_type": "execute_result"
    }
   ],
   "source": [
    "# Drop rows which have null values\n",
    "print(\"Drop rows which have null values:\")\n",
    "df.dropna()  # Rows which have null values. Optionally it takes how='all' or 'any' parameter. The default is 'any'\n",
    "\n",
    "# df.dropna(how=\"any\")"
   ]
  },
  {
   "cell_type": "code",
   "execution_count": 28,
   "id": "308297af",
   "metadata": {},
   "outputs": [
    {
     "name": "stdout",
     "output_type": "stream",
     "text": [
      "Drop rows where all values are null:\n"
     ]
    },
    {
     "data": {
      "text/html": [
       "<div>\n",
       "<style scoped>\n",
       "    .dataframe tbody tr th:only-of-type {\n",
       "        vertical-align: middle;\n",
       "    }\n",
       "\n",
       "    .dataframe tbody tr th {\n",
       "        vertical-align: top;\n",
       "    }\n",
       "\n",
       "    .dataframe thead th {\n",
       "        text-align: right;\n",
       "    }\n",
       "</style>\n",
       "<table border=\"1\" class=\"dataframe\">\n",
       "  <thead>\n",
       "    <tr style=\"text-align: right;\">\n",
       "      <th></th>\n",
       "      <th>Name</th>\n",
       "      <th>Age</th>\n",
       "      <th>Dept</th>\n",
       "      <th>Salary</th>\n",
       "      <th>Bonus</th>\n",
       "    </tr>\n",
       "  </thead>\n",
       "  <tbody>\n",
       "    <tr>\n",
       "      <th>0</th>\n",
       "      <td>Alice</td>\n",
       "      <td>25.0</td>\n",
       "      <td>HR</td>\n",
       "      <td>55000.0</td>\n",
       "      <td>280500.0</td>\n",
       "    </tr>\n",
       "    <tr>\n",
       "      <th>1</th>\n",
       "      <td>Bob</td>\n",
       "      <td>30.0</td>\n",
       "      <td>IT</td>\n",
       "      <td>65000.0</td>\n",
       "      <td>331500.0</td>\n",
       "    </tr>\n",
       "    <tr>\n",
       "      <th>2</th>\n",
       "      <td>Rose</td>\n",
       "      <td>35.0</td>\n",
       "      <td>Finance</td>\n",
       "      <td>75000.0</td>\n",
       "      <td>382500.0</td>\n",
       "    </tr>\n",
       "    <tr>\n",
       "      <th>3</th>\n",
       "      <td>John</td>\n",
       "      <td>NaN</td>\n",
       "      <td>IT</td>\n",
       "      <td>67000.0</td>\n",
       "      <td>341700.0</td>\n",
       "    </tr>\n",
       "    <tr>\n",
       "      <th>4</th>\n",
       "      <td>Eve</td>\n",
       "      <td>29.0</td>\n",
       "      <td>HR</td>\n",
       "      <td>NaN</td>\n",
       "      <td>NaN</td>\n",
       "    </tr>\n",
       "    <tr>\n",
       "      <th>5</th>\n",
       "      <td>Alice</td>\n",
       "      <td>25.0</td>\n",
       "      <td>HR</td>\n",
       "      <td>55000.0</td>\n",
       "      <td>280500.0</td>\n",
       "    </tr>\n",
       "  </tbody>\n",
       "</table>\n",
       "</div>"
      ],
      "text/plain": [
       "    Name   Age     Dept   Salary     Bonus\n",
       "0  Alice  25.0       HR  55000.0  280500.0\n",
       "1    Bob  30.0       IT  65000.0  331500.0\n",
       "2   Rose  35.0  Finance  75000.0  382500.0\n",
       "3   John   NaN       IT  67000.0  341700.0\n",
       "4    Eve  29.0       HR      NaN       NaN\n",
       "5  Alice  25.0       HR  55000.0  280500.0"
      ]
     },
     "execution_count": 28,
     "metadata": {},
     "output_type": "execute_result"
    }
   ],
   "source": [
    "# Drop rows where all values are null\n",
    "print(\"Drop rows where all values are null:\")\n",
    "df.dropna(how=\"all\")  # If all the columns have null values, then only drop that row"
   ]
  },
  {
   "cell_type": "code",
   "execution_count": 29,
   "id": "6aaf3e13",
   "metadata": {},
   "outputs": [
    {
     "name": "stdout",
     "output_type": "stream",
     "text": [
      "Replace null/missing values in age column with the mean of that column:\n"
     ]
    },
    {
     "data": {
      "text/plain": [
       "0    25.0\n",
       "1    30.0\n",
       "2    35.0\n",
       "3    28.8\n",
       "4    29.0\n",
       "5    25.0\n",
       "Name: Age, dtype: float64"
      ]
     },
     "execution_count": 29,
     "metadata": {},
     "output_type": "execute_result"
    }
   ],
   "source": [
    "# Replace null/missing values in age column with the mean of that column\n",
    "print(\"Replace null/missing values in age column with the mean of that column:\")\n",
    "df[\"Age\"].fillna(df[\"Age\"].mean())  # inplace=True to make changes in original DataFrame"
   ]
  },
  {
   "cell_type": "code",
   "execution_count": 30,
   "id": "937833a0",
   "metadata": {},
   "outputs": [
    {
     "name": "stdout",
     "output_type": "stream",
     "text": [
      "Replace null/missing values in salary column with median of that column:\n"
     ]
    },
    {
     "data": {
      "text/plain": [
       "0    55000.0\n",
       "1    65000.0\n",
       "2    75000.0\n",
       "3    67000.0\n",
       "4    65000.0\n",
       "5    55000.0\n",
       "Name: Salary, dtype: float64"
      ]
     },
     "execution_count": 30,
     "metadata": {},
     "output_type": "execute_result"
    }
   ],
   "source": [
    "# Replace null/missing values in salary column with median of that column\n",
    "print(\"Replace null/missing values in salary column with median of that column:\")\n",
    "df[\"Salary\"].fillna(df[\"Salary\"].median())  # inplace=True to make changes in original DataFrame"
   ]
  },
  {
   "cell_type": "code",
   "execution_count": 31,
   "id": "2fafa64d",
   "metadata": {},
   "outputs": [
    {
     "name": "stdout",
     "output_type": "stream",
     "text": [
      "Use Forward fill method to replace null/missing values in age column:\n"
     ]
    },
    {
     "data": {
      "text/plain": [
       "0    25.0\n",
       "1    30.0\n",
       "2    35.0\n",
       "3    35.0\n",
       "4    29.0\n",
       "5    25.0\n",
       "Name: Age, dtype: float64"
      ]
     },
     "execution_count": 31,
     "metadata": {},
     "output_type": "execute_result"
    }
   ],
   "source": [
    "# Forward fill method\n",
    "\n",
    "# NOTE: Forward and Backward fills will not work in some cases where the first or last value is null\n",
    "print(\"Use Forward fill method to replace null/missing values in age column:\")\n",
    "# df[\"Age\"].fillna(method=\"ffill\")    # Deprecated way\n",
    "df[\"Age\"].ffill()  # inplace=True to make changes in original DataFrame"
   ]
  },
  {
   "cell_type": "code",
   "execution_count": null,
   "id": "1704e92f",
   "metadata": {},
   "outputs": [],
   "source": []
  },
  {
   "cell_type": "code",
   "execution_count": 32,
   "id": "c2113d45",
   "metadata": {},
   "outputs": [
    {
     "name": "stdout",
     "output_type": "stream",
     "text": [
      "Use Backward fill method to replace null/missing values in age column:\n"
     ]
    },
    {
     "data": {
      "text/plain": [
       "0    25.0\n",
       "1    30.0\n",
       "2    35.0\n",
       "3    29.0\n",
       "4    29.0\n",
       "5    25.0\n",
       "Name: Age, dtype: float64"
      ]
     },
     "execution_count": 32,
     "metadata": {},
     "output_type": "execute_result"
    }
   ],
   "source": [
    "# Backward fill method\n",
    "print(\"Use Backward fill method to replace null/missing values in age column:\")\n",
    "df[\"Age\"].bfill()  # inplace=True to make changes in original DataFrame"
   ]
  },
  {
   "cell_type": "code",
   "execution_count": 33,
   "id": "31ad3cb7",
   "metadata": {},
   "outputs": [
    {
     "name": "stdout",
     "output_type": "stream",
     "text": [
      "Duplicate values in DataFrame:\n"
     ]
    },
    {
     "data": {
      "text/html": [
       "<div>\n",
       "<style scoped>\n",
       "    .dataframe tbody tr th:only-of-type {\n",
       "        vertical-align: middle;\n",
       "    }\n",
       "\n",
       "    .dataframe tbody tr th {\n",
       "        vertical-align: top;\n",
       "    }\n",
       "\n",
       "    .dataframe thead th {\n",
       "        text-align: right;\n",
       "    }\n",
       "</style>\n",
       "<table border=\"1\" class=\"dataframe\">\n",
       "  <thead>\n",
       "    <tr style=\"text-align: right;\">\n",
       "      <th></th>\n",
       "      <th>Name</th>\n",
       "      <th>Age</th>\n",
       "      <th>Dept</th>\n",
       "      <th>Salary</th>\n",
       "      <th>Bonus</th>\n",
       "    </tr>\n",
       "  </thead>\n",
       "  <tbody>\n",
       "    <tr>\n",
       "      <th>0</th>\n",
       "      <td>Alice</td>\n",
       "      <td>25.0</td>\n",
       "      <td>HR</td>\n",
       "      <td>55000.0</td>\n",
       "      <td>280500.0</td>\n",
       "    </tr>\n",
       "  </tbody>\n",
       "</table>\n",
       "</div>"
      ],
      "text/plain": [
       "    Name   Age Dept   Salary     Bonus\n",
       "0  Alice  25.0   HR  55000.0  280500.0"
      ]
     },
     "execution_count": 33,
     "metadata": {},
     "output_type": "execute_result"
    }
   ],
   "source": [
    "# Duplicate values\n",
    "print(\"Duplicate values in DataFrame:\")\n",
    "\n",
    "# duplicated takes one argument `keep` which can have values 'first' and 'last'. It means whether to mark duplicates as True except for the first occurrence or last occurrence. The default is 'first'\n",
    "df_dup = df[df.duplicated(keep=\"last\")]\n",
    "df_dup"
   ]
  },
  {
   "cell_type": "code",
   "execution_count": 34,
   "id": "4a5682fc",
   "metadata": {},
   "outputs": [
    {
     "name": "stdout",
     "output_type": "stream",
     "text": [
      "Drop duplicate rows:\n"
     ]
    },
    {
     "data": {
      "text/html": [
       "<div>\n",
       "<style scoped>\n",
       "    .dataframe tbody tr th:only-of-type {\n",
       "        vertical-align: middle;\n",
       "    }\n",
       "\n",
       "    .dataframe tbody tr th {\n",
       "        vertical-align: top;\n",
       "    }\n",
       "\n",
       "    .dataframe thead th {\n",
       "        text-align: right;\n",
       "    }\n",
       "</style>\n",
       "<table border=\"1\" class=\"dataframe\">\n",
       "  <thead>\n",
       "    <tr style=\"text-align: right;\">\n",
       "      <th></th>\n",
       "      <th>Name</th>\n",
       "      <th>Age</th>\n",
       "      <th>Dept</th>\n",
       "      <th>Salary</th>\n",
       "      <th>Bonus</th>\n",
       "    </tr>\n",
       "  </thead>\n",
       "  <tbody>\n",
       "    <tr>\n",
       "      <th>0</th>\n",
       "      <td>Alice</td>\n",
       "      <td>25.0</td>\n",
       "      <td>HR</td>\n",
       "      <td>55000.0</td>\n",
       "      <td>280500.0</td>\n",
       "    </tr>\n",
       "    <tr>\n",
       "      <th>1</th>\n",
       "      <td>Bob</td>\n",
       "      <td>30.0</td>\n",
       "      <td>IT</td>\n",
       "      <td>65000.0</td>\n",
       "      <td>331500.0</td>\n",
       "    </tr>\n",
       "    <tr>\n",
       "      <th>2</th>\n",
       "      <td>Rose</td>\n",
       "      <td>35.0</td>\n",
       "      <td>Finance</td>\n",
       "      <td>75000.0</td>\n",
       "      <td>382500.0</td>\n",
       "    </tr>\n",
       "    <tr>\n",
       "      <th>3</th>\n",
       "      <td>John</td>\n",
       "      <td>NaN</td>\n",
       "      <td>IT</td>\n",
       "      <td>67000.0</td>\n",
       "      <td>341700.0</td>\n",
       "    </tr>\n",
       "    <tr>\n",
       "      <th>4</th>\n",
       "      <td>Eve</td>\n",
       "      <td>29.0</td>\n",
       "      <td>HR</td>\n",
       "      <td>NaN</td>\n",
       "      <td>NaN</td>\n",
       "    </tr>\n",
       "  </tbody>\n",
       "</table>\n",
       "</div>"
      ],
      "text/plain": [
       "    Name   Age     Dept   Salary     Bonus\n",
       "0  Alice  25.0       HR  55000.0  280500.0\n",
       "1    Bob  30.0       IT  65000.0  331500.0\n",
       "2   Rose  35.0  Finance  75000.0  382500.0\n",
       "3   John   NaN       IT  67000.0  341700.0\n",
       "4    Eve  29.0       HR      NaN       NaN"
      ]
     },
     "execution_count": 34,
     "metadata": {},
     "output_type": "execute_result"
    }
   ],
   "source": [
    "# Drop duplicate rows\n",
    "print(\"Drop duplicate rows:\")\n",
    "\n",
    "# This fun also takes an argument `keep` similar to duplicated function. It also takes inplace argument to perform operation in original DataFrame\n",
    "df.drop_duplicates()"
   ]
  },
  {
   "cell_type": "code",
   "execution_count": 35,
   "id": "961c485a",
   "metadata": {},
   "outputs": [
    {
     "name": "stdout",
     "output_type": "stream",
     "text": [
      "Dealing with Invalid values:\n"
     ]
    },
    {
     "data": {
      "text/html": [
       "<div>\n",
       "<style scoped>\n",
       "    .dataframe tbody tr th:only-of-type {\n",
       "        vertical-align: middle;\n",
       "    }\n",
       "\n",
       "    .dataframe tbody tr th {\n",
       "        vertical-align: top;\n",
       "    }\n",
       "\n",
       "    .dataframe thead th {\n",
       "        text-align: right;\n",
       "    }\n",
       "</style>\n",
       "<table border=\"1\" class=\"dataframe\">\n",
       "  <thead>\n",
       "    <tr style=\"text-align: right;\">\n",
       "      <th></th>\n",
       "      <th>Name</th>\n",
       "      <th>Age</th>\n",
       "      <th>Dept</th>\n",
       "      <th>Salary</th>\n",
       "      <th>Bonus</th>\n",
       "    </tr>\n",
       "  </thead>\n",
       "  <tbody>\n",
       "    <tr>\n",
       "      <th>0</th>\n",
       "      <td>Alice</td>\n",
       "      <td>25.0</td>\n",
       "      <td>HR</td>\n",
       "      <td>55000.0</td>\n",
       "      <td>280500.0</td>\n",
       "    </tr>\n",
       "    <tr>\n",
       "      <th>1</th>\n",
       "      <td>Bob</td>\n",
       "      <td>30.0</td>\n",
       "      <td>IT</td>\n",
       "      <td>65000.0</td>\n",
       "      <td>331500.0</td>\n",
       "    </tr>\n",
       "    <tr>\n",
       "      <th>2</th>\n",
       "      <td>Rose</td>\n",
       "      <td>35.0</td>\n",
       "      <td>Finance</td>\n",
       "      <td>75000.0</td>\n",
       "      <td>382500.0</td>\n",
       "    </tr>\n",
       "    <tr>\n",
       "      <th>3</th>\n",
       "      <td>John</td>\n",
       "      <td>NaN</td>\n",
       "      <td>IT</td>\n",
       "      <td>67000.0</td>\n",
       "      <td>341700.0</td>\n",
       "    </tr>\n",
       "    <tr>\n",
       "      <th>4</th>\n",
       "      <td>Eve</td>\n",
       "      <td>29.0</td>\n",
       "      <td>HR</td>\n",
       "      <td>NaN</td>\n",
       "      <td>NaN</td>\n",
       "    </tr>\n",
       "    <tr>\n",
       "      <th>5</th>\n",
       "      <td>Alice</td>\n",
       "      <td>25.0</td>\n",
       "      <td>HR</td>\n",
       "      <td>55000.0</td>\n",
       "      <td>280500.0</td>\n",
       "    </tr>\n",
       "  </tbody>\n",
       "</table>\n",
       "</div>"
      ],
      "text/plain": [
       "    Name   Age     Dept   Salary     Bonus\n",
       "0  Alice  25.0       HR  55000.0  280500.0\n",
       "1    Bob  30.0       IT  65000.0  331500.0\n",
       "2   Rose  35.0  Finance  75000.0  382500.0\n",
       "3   John   NaN       IT  67000.0  341700.0\n",
       "4    Eve  29.0       HR      NaN       NaN\n",
       "5  Alice  25.0       HR  55000.0  280500.0"
      ]
     },
     "execution_count": 35,
     "metadata": {},
     "output_type": "execute_result"
    }
   ],
   "source": [
    "# Invalid values and outliers\n",
    "\n",
    "# For this example, I'm updating -1 to salary column for 4th index to represent invalid values\n",
    "df.loc[4, \"Salary\"] = -1\n",
    "print(\"Dealing with Invalid values:\")\n",
    "\n",
    "# Replace -1 values with NaN\n",
    "df[\"Salary\"] = df[\"Salary\"].apply(lambda x: np.nan if x == -1 else x)\n",
    "df"
   ]
  },
  {
   "cell_type": "code",
   "execution_count": 36,
   "id": "3666a5e4",
   "metadata": {},
   "outputs": [
    {
     "name": "stdout",
     "output_type": "stream",
     "text": [
      "Convert Name values to uppercase:\n"
     ]
    },
    {
     "data": {
      "text/plain": [
       "0    ALICE\n",
       "1      BOB\n",
       "2     ROSE\n",
       "3     JOHN\n",
       "4      EVE\n",
       "5    ALICE\n",
       "Name: Name, dtype: object"
      ]
     },
     "execution_count": 36,
     "metadata": {},
     "output_type": "execute_result"
    }
   ],
   "source": [
    "# Str operations on columns with string values\n",
    "\n",
    "print(\"Convert Name values to uppercase:\")\n",
    "# Convert to uppercase\n",
    "df[\"Name\"].str.upper()\n",
    "\n",
    "# df[\"Name\"] = df[\"Name\"].str.upper() # This will update the Name column with uppercase values in place"
   ]
  },
  {
   "cell_type": "code",
   "execution_count": 37,
   "id": "93d518bc",
   "metadata": {},
   "outputs": [
    {
     "data": {
      "text/html": [
       "<div>\n",
       "<style scoped>\n",
       "    .dataframe tbody tr th:only-of-type {\n",
       "        vertical-align: middle;\n",
       "    }\n",
       "\n",
       "    .dataframe tbody tr th {\n",
       "        vertical-align: top;\n",
       "    }\n",
       "\n",
       "    .dataframe thead th {\n",
       "        text-align: right;\n",
       "    }\n",
       "</style>\n",
       "<table border=\"1\" class=\"dataframe\">\n",
       "  <thead>\n",
       "    <tr style=\"text-align: right;\">\n",
       "      <th></th>\n",
       "      <th>Full_Name</th>\n",
       "      <th>Age</th>\n",
       "      <th>Dept</th>\n",
       "      <th>Salary</th>\n",
       "      <th>Bonus</th>\n",
       "      <th>FName</th>\n",
       "      <th>LName</th>\n",
       "    </tr>\n",
       "  </thead>\n",
       "  <tbody>\n",
       "    <tr>\n",
       "      <th>0</th>\n",
       "      <td>Alice_B</td>\n",
       "      <td>25.0</td>\n",
       "      <td>HR</td>\n",
       "      <td>55000.0</td>\n",
       "      <td>280500.0</td>\n",
       "      <td>Alice</td>\n",
       "      <td>B</td>\n",
       "    </tr>\n",
       "    <tr>\n",
       "      <th>1</th>\n",
       "      <td>Bob_H</td>\n",
       "      <td>30.0</td>\n",
       "      <td>IT</td>\n",
       "      <td>65000.0</td>\n",
       "      <td>331500.0</td>\n",
       "      <td>Bob</td>\n",
       "      <td>H</td>\n",
       "    </tr>\n",
       "    <tr>\n",
       "      <th>2</th>\n",
       "      <td>Rose_L</td>\n",
       "      <td>35.0</td>\n",
       "      <td>Finance</td>\n",
       "      <td>75000.0</td>\n",
       "      <td>382500.0</td>\n",
       "      <td>Rose</td>\n",
       "      <td>L</td>\n",
       "    </tr>\n",
       "    <tr>\n",
       "      <th>3</th>\n",
       "      <td>John_C</td>\n",
       "      <td>NaN</td>\n",
       "      <td>IT</td>\n",
       "      <td>67000.0</td>\n",
       "      <td>341700.0</td>\n",
       "      <td>John</td>\n",
       "      <td>C</td>\n",
       "    </tr>\n",
       "    <tr>\n",
       "      <th>4</th>\n",
       "      <td>Eve_E</td>\n",
       "      <td>29.0</td>\n",
       "      <td>HR</td>\n",
       "      <td>NaN</td>\n",
       "      <td>NaN</td>\n",
       "      <td>Eve</td>\n",
       "      <td>E</td>\n",
       "    </tr>\n",
       "    <tr>\n",
       "      <th>5</th>\n",
       "      <td>Alice_Z</td>\n",
       "      <td>25.0</td>\n",
       "      <td>HR</td>\n",
       "      <td>55000.0</td>\n",
       "      <td>280500.0</td>\n",
       "      <td>Alice</td>\n",
       "      <td>Z</td>\n",
       "    </tr>\n",
       "  </tbody>\n",
       "</table>\n",
       "</div>"
      ],
      "text/plain": [
       "  Full_Name   Age     Dept   Salary     Bonus  FName LName\n",
       "0   Alice_B  25.0       HR  55000.0  280500.0  Alice     B\n",
       "1     Bob_H  30.0       IT  65000.0  331500.0    Bob     H\n",
       "2    Rose_L  35.0  Finance  75000.0  382500.0   Rose     L\n",
       "3    John_C   NaN       IT  67000.0  341700.0   John     C\n",
       "4     Eve_E  29.0       HR      NaN       NaN    Eve     E\n",
       "5   Alice_Z  25.0       HR  55000.0  280500.0  Alice     Z"
      ]
     },
     "execution_count": 37,
     "metadata": {},
     "output_type": "execute_result"
    }
   ],
   "source": [
    "# split the Name column values\n",
    "\n",
    "# function to generate random characters\n",
    "def random_char():\n",
    "    return np.random.choice(list(\"ABCDEFGHIJKLMNOPQRSTUVWXYZ\"))\n",
    "\n",
    "\n",
    "# Rename Name column to Full_Name\n",
    "df.rename(columns={\"Name\": \"Full_Name\"}, inplace=True)  # change Name column to Full_Name\n",
    "\n",
    "# For this example, I'll append _ and some random characters to the Name values and then split based on _\n",
    "# df[\"Name\"] = df[\"Name\"] + \"_\" + np.random.choice(list(\"ABCDEFGHIJKLMNOPQRSTUVWXYZ\"), size=len(df))\n",
    "df[\"Full_Name\"] = df[\"Full_Name\"].apply(lambda x: x + \"_\" + random_char() if \"_\" not in x else x)\n",
    "\n",
    "# Either replace the Name column with first part only\n",
    "# df[\"Name\"] = df[\"Name\"].str.split(\"_\").str[0]\n",
    "\n",
    "\n",
    "# Or create new columns from split parts\n",
    "df[[\"FName\", \"LName\"]] = df[\"Full_Name\"].str.split(\"_\", expand=True)  # expand=True to split into multiple columns\n",
    "df"
   ]
  },
  {
   "cell_type": "markdown",
   "id": "d4124f5f",
   "metadata": {},
   "source": [
    "# Joins"
   ]
  },
  {
   "cell_type": "code",
   "execution_count": 38,
   "id": "0d08339f",
   "metadata": {},
   "outputs": [
    {
     "data": {
      "text/html": [
       "<div>\n",
       "<style scoped>\n",
       "    .dataframe tbody tr th:only-of-type {\n",
       "        vertical-align: middle;\n",
       "    }\n",
       "\n",
       "    .dataframe tbody tr th {\n",
       "        vertical-align: top;\n",
       "    }\n",
       "\n",
       "    .dataframe thead th {\n",
       "        text-align: right;\n",
       "    }\n",
       "</style>\n",
       "<table border=\"1\" class=\"dataframe\">\n",
       "  <thead>\n",
       "    <tr style=\"text-align: right;\">\n",
       "      <th></th>\n",
       "      <th>Department</th>\n",
       "      <th>Location</th>\n",
       "      <th>Manager</th>\n",
       "    </tr>\n",
       "  </thead>\n",
       "  <tbody>\n",
       "    <tr>\n",
       "      <th>0</th>\n",
       "      <td>HR</td>\n",
       "      <td>New York</td>\n",
       "      <td>Laura</td>\n",
       "    </tr>\n",
       "    <tr>\n",
       "      <th>1</th>\n",
       "      <td>IT</td>\n",
       "      <td>San Francisco</td>\n",
       "      <td>Steve</td>\n",
       "    </tr>\n",
       "    <tr>\n",
       "      <th>2</th>\n",
       "      <td>Finance</td>\n",
       "      <td>Chicago</td>\n",
       "      <td>Nina</td>\n",
       "    </tr>\n",
       "  </tbody>\n",
       "</table>\n",
       "</div>"
      ],
      "text/plain": [
       "  Department       Location Manager\n",
       "0         HR       New York   Laura\n",
       "1         IT  San Francisco   Steve\n",
       "2    Finance        Chicago    Nina"
      ]
     },
     "execution_count": 38,
     "metadata": {},
     "output_type": "execute_result"
    }
   ],
   "source": [
    "department_info = {\n",
    "    \"Department\": [\"HR\", \"IT\", \"Finance\"],\n",
    "    \"Location\": [\"New York\", \"San Francisco\", \"Chicago\"],\n",
    "    \"Manager\": [\"Laura\", \"Steve\", \"Nina\"],\n",
    "}\n",
    "dept_df = pd.DataFrame(department_info)\n",
    "dept_df"
   ]
  },
  {
   "cell_type": "code",
   "execution_count": 39,
   "id": "7b89e569",
   "metadata": {},
   "outputs": [
    {
     "name": "stdout",
     "output_type": "stream",
     "text": [
      "Join two Datasets:\n"
     ]
    },
    {
     "data": {
      "text/html": [
       "<div>\n",
       "<style scoped>\n",
       "    .dataframe tbody tr th:only-of-type {\n",
       "        vertical-align: middle;\n",
       "    }\n",
       "\n",
       "    .dataframe tbody tr th {\n",
       "        vertical-align: top;\n",
       "    }\n",
       "\n",
       "    .dataframe thead th {\n",
       "        text-align: right;\n",
       "    }\n",
       "</style>\n",
       "<table border=\"1\" class=\"dataframe\">\n",
       "  <thead>\n",
       "    <tr style=\"text-align: right;\">\n",
       "      <th></th>\n",
       "      <th>Full_Name</th>\n",
       "      <th>Age</th>\n",
       "      <th>Dept</th>\n",
       "      <th>Salary</th>\n",
       "      <th>Bonus</th>\n",
       "      <th>FName</th>\n",
       "      <th>LName</th>\n",
       "      <th>Department</th>\n",
       "      <th>Location</th>\n",
       "      <th>Manager</th>\n",
       "    </tr>\n",
       "  </thead>\n",
       "  <tbody>\n",
       "    <tr>\n",
       "      <th>0</th>\n",
       "      <td>Alice_B</td>\n",
       "      <td>25.0</td>\n",
       "      <td>HR</td>\n",
       "      <td>55000.0</td>\n",
       "      <td>280500.0</td>\n",
       "      <td>Alice</td>\n",
       "      <td>B</td>\n",
       "      <td>NaN</td>\n",
       "      <td>NaN</td>\n",
       "      <td>NaN</td>\n",
       "    </tr>\n",
       "    <tr>\n",
       "      <th>1</th>\n",
       "      <td>Bob_H</td>\n",
       "      <td>30.0</td>\n",
       "      <td>IT</td>\n",
       "      <td>65000.0</td>\n",
       "      <td>331500.0</td>\n",
       "      <td>Bob</td>\n",
       "      <td>H</td>\n",
       "      <td>NaN</td>\n",
       "      <td>NaN</td>\n",
       "      <td>NaN</td>\n",
       "    </tr>\n",
       "    <tr>\n",
       "      <th>2</th>\n",
       "      <td>Rose_L</td>\n",
       "      <td>35.0</td>\n",
       "      <td>Finance</td>\n",
       "      <td>75000.0</td>\n",
       "      <td>382500.0</td>\n",
       "      <td>Rose</td>\n",
       "      <td>L</td>\n",
       "      <td>NaN</td>\n",
       "      <td>NaN</td>\n",
       "      <td>NaN</td>\n",
       "    </tr>\n",
       "    <tr>\n",
       "      <th>3</th>\n",
       "      <td>John_C</td>\n",
       "      <td>NaN</td>\n",
       "      <td>IT</td>\n",
       "      <td>67000.0</td>\n",
       "      <td>341700.0</td>\n",
       "      <td>John</td>\n",
       "      <td>C</td>\n",
       "      <td>NaN</td>\n",
       "      <td>NaN</td>\n",
       "      <td>NaN</td>\n",
       "    </tr>\n",
       "    <tr>\n",
       "      <th>4</th>\n",
       "      <td>Eve_E</td>\n",
       "      <td>29.0</td>\n",
       "      <td>HR</td>\n",
       "      <td>NaN</td>\n",
       "      <td>NaN</td>\n",
       "      <td>Eve</td>\n",
       "      <td>E</td>\n",
       "      <td>NaN</td>\n",
       "      <td>NaN</td>\n",
       "      <td>NaN</td>\n",
       "    </tr>\n",
       "    <tr>\n",
       "      <th>5</th>\n",
       "      <td>Alice_Z</td>\n",
       "      <td>25.0</td>\n",
       "      <td>HR</td>\n",
       "      <td>55000.0</td>\n",
       "      <td>280500.0</td>\n",
       "      <td>Alice</td>\n",
       "      <td>Z</td>\n",
       "      <td>NaN</td>\n",
       "      <td>NaN</td>\n",
       "      <td>NaN</td>\n",
       "    </tr>\n",
       "    <tr>\n",
       "      <th>0</th>\n",
       "      <td>NaN</td>\n",
       "      <td>NaN</td>\n",
       "      <td>NaN</td>\n",
       "      <td>NaN</td>\n",
       "      <td>NaN</td>\n",
       "      <td>NaN</td>\n",
       "      <td>NaN</td>\n",
       "      <td>HR</td>\n",
       "      <td>New York</td>\n",
       "      <td>Laura</td>\n",
       "    </tr>\n",
       "    <tr>\n",
       "      <th>1</th>\n",
       "      <td>NaN</td>\n",
       "      <td>NaN</td>\n",
       "      <td>NaN</td>\n",
       "      <td>NaN</td>\n",
       "      <td>NaN</td>\n",
       "      <td>NaN</td>\n",
       "      <td>NaN</td>\n",
       "      <td>IT</td>\n",
       "      <td>San Francisco</td>\n",
       "      <td>Steve</td>\n",
       "    </tr>\n",
       "    <tr>\n",
       "      <th>2</th>\n",
       "      <td>NaN</td>\n",
       "      <td>NaN</td>\n",
       "      <td>NaN</td>\n",
       "      <td>NaN</td>\n",
       "      <td>NaN</td>\n",
       "      <td>NaN</td>\n",
       "      <td>NaN</td>\n",
       "      <td>Finance</td>\n",
       "      <td>Chicago</td>\n",
       "      <td>Nina</td>\n",
       "    </tr>\n",
       "  </tbody>\n",
       "</table>\n",
       "</div>"
      ],
      "text/plain": [
       "  Full_Name   Age     Dept   Salary     Bonus  FName LName Department  \\\n",
       "0   Alice_B  25.0       HR  55000.0  280500.0  Alice     B        NaN   \n",
       "1     Bob_H  30.0       IT  65000.0  331500.0    Bob     H        NaN   \n",
       "2    Rose_L  35.0  Finance  75000.0  382500.0   Rose     L        NaN   \n",
       "3    John_C   NaN       IT  67000.0  341700.0   John     C        NaN   \n",
       "4     Eve_E  29.0       HR      NaN       NaN    Eve     E        NaN   \n",
       "5   Alice_Z  25.0       HR  55000.0  280500.0  Alice     Z        NaN   \n",
       "0       NaN   NaN      NaN      NaN       NaN    NaN   NaN         HR   \n",
       "1       NaN   NaN      NaN      NaN       NaN    NaN   NaN         IT   \n",
       "2       NaN   NaN      NaN      NaN       NaN    NaN   NaN    Finance   \n",
       "\n",
       "        Location Manager  \n",
       "0            NaN     NaN  \n",
       "1            NaN     NaN  \n",
       "2            NaN     NaN  \n",
       "3            NaN     NaN  \n",
       "4            NaN     NaN  \n",
       "5            NaN     NaN  \n",
       "0       New York   Laura  \n",
       "1  San Francisco   Steve  \n",
       "2        Chicago    Nina  "
      ]
     },
     "execution_count": 39,
     "metadata": {},
     "output_type": "execute_result"
    }
   ],
   "source": [
    "# Join two Datasets\n",
    "print(\"Join two Datasets:\")\n",
    "\n",
    "# concat will take axis parameter to specify whether to join row-wise or column-wise. The default is axis=0 (row-wise)\n",
    "pd.concat([df, dept_df])  # Here the datasets will be joined row-wise,\n",
    "# so both datasets must have same columns. If columns are different, then missing values will be filled with NaN"
   ]
  },
  {
   "cell_type": "code",
   "execution_count": 40,
   "id": "4f9d04b4",
   "metadata": {},
   "outputs": [
    {
     "name": "stdout",
     "output_type": "stream",
     "text": [
      "Join two DataSets column-wise:\n"
     ]
    },
    {
     "data": {
      "text/html": [
       "<div>\n",
       "<style scoped>\n",
       "    .dataframe tbody tr th:only-of-type {\n",
       "        vertical-align: middle;\n",
       "    }\n",
       "\n",
       "    .dataframe tbody tr th {\n",
       "        vertical-align: top;\n",
       "    }\n",
       "\n",
       "    .dataframe thead th {\n",
       "        text-align: right;\n",
       "    }\n",
       "</style>\n",
       "<table border=\"1\" class=\"dataframe\">\n",
       "  <thead>\n",
       "    <tr style=\"text-align: right;\">\n",
       "      <th></th>\n",
       "      <th>Full_Name</th>\n",
       "      <th>Age</th>\n",
       "      <th>Dept</th>\n",
       "      <th>Salary</th>\n",
       "      <th>Bonus</th>\n",
       "      <th>FName</th>\n",
       "      <th>LName</th>\n",
       "      <th>Department</th>\n",
       "      <th>Location</th>\n",
       "      <th>Manager</th>\n",
       "    </tr>\n",
       "  </thead>\n",
       "  <tbody>\n",
       "    <tr>\n",
       "      <th>0</th>\n",
       "      <td>Alice_B</td>\n",
       "      <td>25.0</td>\n",
       "      <td>HR</td>\n",
       "      <td>55000.0</td>\n",
       "      <td>280500.0</td>\n",
       "      <td>Alice</td>\n",
       "      <td>B</td>\n",
       "      <td>HR</td>\n",
       "      <td>New York</td>\n",
       "      <td>Laura</td>\n",
       "    </tr>\n",
       "    <tr>\n",
       "      <th>1</th>\n",
       "      <td>Bob_H</td>\n",
       "      <td>30.0</td>\n",
       "      <td>IT</td>\n",
       "      <td>65000.0</td>\n",
       "      <td>331500.0</td>\n",
       "      <td>Bob</td>\n",
       "      <td>H</td>\n",
       "      <td>IT</td>\n",
       "      <td>San Francisco</td>\n",
       "      <td>Steve</td>\n",
       "    </tr>\n",
       "    <tr>\n",
       "      <th>2</th>\n",
       "      <td>Rose_L</td>\n",
       "      <td>35.0</td>\n",
       "      <td>Finance</td>\n",
       "      <td>75000.0</td>\n",
       "      <td>382500.0</td>\n",
       "      <td>Rose</td>\n",
       "      <td>L</td>\n",
       "      <td>Finance</td>\n",
       "      <td>Chicago</td>\n",
       "      <td>Nina</td>\n",
       "    </tr>\n",
       "    <tr>\n",
       "      <th>3</th>\n",
       "      <td>John_C</td>\n",
       "      <td>NaN</td>\n",
       "      <td>IT</td>\n",
       "      <td>67000.0</td>\n",
       "      <td>341700.0</td>\n",
       "      <td>John</td>\n",
       "      <td>C</td>\n",
       "      <td>NaN</td>\n",
       "      <td>NaN</td>\n",
       "      <td>NaN</td>\n",
       "    </tr>\n",
       "    <tr>\n",
       "      <th>4</th>\n",
       "      <td>Eve_E</td>\n",
       "      <td>29.0</td>\n",
       "      <td>HR</td>\n",
       "      <td>NaN</td>\n",
       "      <td>NaN</td>\n",
       "      <td>Eve</td>\n",
       "      <td>E</td>\n",
       "      <td>NaN</td>\n",
       "      <td>NaN</td>\n",
       "      <td>NaN</td>\n",
       "    </tr>\n",
       "    <tr>\n",
       "      <th>5</th>\n",
       "      <td>Alice_Z</td>\n",
       "      <td>25.0</td>\n",
       "      <td>HR</td>\n",
       "      <td>55000.0</td>\n",
       "      <td>280500.0</td>\n",
       "      <td>Alice</td>\n",
       "      <td>Z</td>\n",
       "      <td>NaN</td>\n",
       "      <td>NaN</td>\n",
       "      <td>NaN</td>\n",
       "    </tr>\n",
       "  </tbody>\n",
       "</table>\n",
       "</div>"
      ],
      "text/plain": [
       "  Full_Name   Age     Dept   Salary     Bonus  FName LName Department  \\\n",
       "0   Alice_B  25.0       HR  55000.0  280500.0  Alice     B         HR   \n",
       "1     Bob_H  30.0       IT  65000.0  331500.0    Bob     H         IT   \n",
       "2    Rose_L  35.0  Finance  75000.0  382500.0   Rose     L    Finance   \n",
       "3    John_C   NaN       IT  67000.0  341700.0   John     C        NaN   \n",
       "4     Eve_E  29.0       HR      NaN       NaN    Eve     E        NaN   \n",
       "5   Alice_Z  25.0       HR  55000.0  280500.0  Alice     Z        NaN   \n",
       "\n",
       "        Location Manager  \n",
       "0       New York   Laura  \n",
       "1  San Francisco   Steve  \n",
       "2        Chicago    Nina  \n",
       "3            NaN     NaN  \n",
       "4            NaN     NaN  \n",
       "5            NaN     NaN  "
      ]
     },
     "execution_count": 40,
     "metadata": {},
     "output_type": "execute_result"
    }
   ],
   "source": [
    "# Join two DataSets column-wise\n",
    "print(\"Join two DataSets column-wise:\")\n",
    "pd.concat([df, dept_df], axis=1)  # axis=1 to join column-wise\n",
    "# As both the datasets have different columns, the missing values will be filled with NaN"
   ]
  },
  {
   "cell_type": "code",
   "execution_count": 41,
   "id": "7befcebf",
   "metadata": {},
   "outputs": [
    {
     "name": "stdout",
     "output_type": "stream",
     "text": [
      "STEP-1: Join two Datasets using concat:\n"
     ]
    },
    {
     "data": {
      "text/html": [
       "<div>\n",
       "<style scoped>\n",
       "    .dataframe tbody tr th:only-of-type {\n",
       "        vertical-align: middle;\n",
       "    }\n",
       "\n",
       "    .dataframe tbody tr th {\n",
       "        vertical-align: top;\n",
       "    }\n",
       "\n",
       "    .dataframe thead th {\n",
       "        text-align: right;\n",
       "    }\n",
       "</style>\n",
       "<table border=\"1\" class=\"dataframe\">\n",
       "  <thead>\n",
       "    <tr style=\"text-align: right;\">\n",
       "      <th></th>\n",
       "      <th>Full_Name</th>\n",
       "      <th>Age</th>\n",
       "      <th>Department</th>\n",
       "      <th>Salary</th>\n",
       "      <th>Bonus</th>\n",
       "      <th>FName</th>\n",
       "      <th>LName</th>\n",
       "      <th>Department</th>\n",
       "      <th>Location</th>\n",
       "      <th>Manager</th>\n",
       "    </tr>\n",
       "  </thead>\n",
       "  <tbody>\n",
       "    <tr>\n",
       "      <th>0</th>\n",
       "      <td>Alice_B</td>\n",
       "      <td>25.0</td>\n",
       "      <td>HR</td>\n",
       "      <td>55000.0</td>\n",
       "      <td>280500.0</td>\n",
       "      <td>Alice</td>\n",
       "      <td>B</td>\n",
       "      <td>HR</td>\n",
       "      <td>New York</td>\n",
       "      <td>Laura</td>\n",
       "    </tr>\n",
       "    <tr>\n",
       "      <th>1</th>\n",
       "      <td>Bob_H</td>\n",
       "      <td>30.0</td>\n",
       "      <td>IT</td>\n",
       "      <td>65000.0</td>\n",
       "      <td>331500.0</td>\n",
       "      <td>Bob</td>\n",
       "      <td>H</td>\n",
       "      <td>IT</td>\n",
       "      <td>San Francisco</td>\n",
       "      <td>Steve</td>\n",
       "    </tr>\n",
       "    <tr>\n",
       "      <th>2</th>\n",
       "      <td>Rose_L</td>\n",
       "      <td>35.0</td>\n",
       "      <td>Finance</td>\n",
       "      <td>75000.0</td>\n",
       "      <td>382500.0</td>\n",
       "      <td>Rose</td>\n",
       "      <td>L</td>\n",
       "      <td>Finance</td>\n",
       "      <td>Chicago</td>\n",
       "      <td>Nina</td>\n",
       "    </tr>\n",
       "    <tr>\n",
       "      <th>3</th>\n",
       "      <td>John_C</td>\n",
       "      <td>NaN</td>\n",
       "      <td>IT</td>\n",
       "      <td>67000.0</td>\n",
       "      <td>341700.0</td>\n",
       "      <td>John</td>\n",
       "      <td>C</td>\n",
       "      <td>NaN</td>\n",
       "      <td>NaN</td>\n",
       "      <td>NaN</td>\n",
       "    </tr>\n",
       "    <tr>\n",
       "      <th>4</th>\n",
       "      <td>Eve_E</td>\n",
       "      <td>29.0</td>\n",
       "      <td>HR</td>\n",
       "      <td>NaN</td>\n",
       "      <td>NaN</td>\n",
       "      <td>Eve</td>\n",
       "      <td>E</td>\n",
       "      <td>NaN</td>\n",
       "      <td>NaN</td>\n",
       "      <td>NaN</td>\n",
       "    </tr>\n",
       "    <tr>\n",
       "      <th>5</th>\n",
       "      <td>Alice_Z</td>\n",
       "      <td>25.0</td>\n",
       "      <td>HR</td>\n",
       "      <td>55000.0</td>\n",
       "      <td>280500.0</td>\n",
       "      <td>Alice</td>\n",
       "      <td>Z</td>\n",
       "      <td>NaN</td>\n",
       "      <td>NaN</td>\n",
       "      <td>NaN</td>\n",
       "    </tr>\n",
       "  </tbody>\n",
       "</table>\n",
       "</div>"
      ],
      "text/plain": [
       "  Full_Name   Age Department   Salary     Bonus  FName LName Department  \\\n",
       "0   Alice_B  25.0         HR  55000.0  280500.0  Alice     B         HR   \n",
       "1     Bob_H  30.0         IT  65000.0  331500.0    Bob     H         IT   \n",
       "2    Rose_L  35.0    Finance  75000.0  382500.0   Rose     L    Finance   \n",
       "3    John_C   NaN         IT  67000.0  341700.0   John     C        NaN   \n",
       "4     Eve_E  29.0         HR      NaN       NaN    Eve     E        NaN   \n",
       "5   Alice_Z  25.0         HR  55000.0  280500.0  Alice     Z        NaN   \n",
       "\n",
       "        Location Manager  \n",
       "0       New York   Laura  \n",
       "1  San Francisco   Steve  \n",
       "2        Chicago    Nina  \n",
       "3            NaN     NaN  \n",
       "4            NaN     NaN  \n",
       "5            NaN     NaN  "
      ]
     },
     "execution_count": 41,
     "metadata": {},
     "output_type": "execute_result"
    }
   ],
   "source": [
    "# Lets change the Dept column name in df to Department to perform concat operation\n",
    "df.rename(columns={\"Dept\": \"Department\"}, inplace=True)\n",
    "print(\"STEP-1: Join two Datasets using concat:\")\n",
    "\n",
    "pd.concat(\n",
    "    [df, dept_df], axis=1\n",
    ")  # Now both datasets have one column `Department` as common concat will try to join based on that column.\n",
    "# But since there are duplicate values in Department column in df, the result will have all combinations of those rows. So, this is not the correct way to join datasets based on common columns."
   ]
  },
  {
   "cell_type": "code",
   "execution_count": 42,
   "id": "17959176",
   "metadata": {},
   "outputs": [
    {
     "name": "stdout",
     "output_type": "stream",
     "text": [
      "STEP-1: Merge two Datasets based on common column Department:\n"
     ]
    },
    {
     "data": {
      "text/html": [
       "<div>\n",
       "<style scoped>\n",
       "    .dataframe tbody tr th:only-of-type {\n",
       "        vertical-align: middle;\n",
       "    }\n",
       "\n",
       "    .dataframe tbody tr th {\n",
       "        vertical-align: top;\n",
       "    }\n",
       "\n",
       "    .dataframe thead th {\n",
       "        text-align: right;\n",
       "    }\n",
       "</style>\n",
       "<table border=\"1\" class=\"dataframe\">\n",
       "  <thead>\n",
       "    <tr style=\"text-align: right;\">\n",
       "      <th></th>\n",
       "      <th>Full_Name</th>\n",
       "      <th>Age</th>\n",
       "      <th>Department</th>\n",
       "      <th>Salary</th>\n",
       "      <th>Bonus</th>\n",
       "      <th>FName</th>\n",
       "      <th>LName</th>\n",
       "      <th>Location</th>\n",
       "      <th>Manager</th>\n",
       "    </tr>\n",
       "  </thead>\n",
       "  <tbody>\n",
       "    <tr>\n",
       "      <th>0</th>\n",
       "      <td>Alice_B</td>\n",
       "      <td>25.0</td>\n",
       "      <td>HR</td>\n",
       "      <td>55000.0</td>\n",
       "      <td>280500.0</td>\n",
       "      <td>Alice</td>\n",
       "      <td>B</td>\n",
       "      <td>New York</td>\n",
       "      <td>Laura</td>\n",
       "    </tr>\n",
       "    <tr>\n",
       "      <th>1</th>\n",
       "      <td>Bob_H</td>\n",
       "      <td>30.0</td>\n",
       "      <td>IT</td>\n",
       "      <td>65000.0</td>\n",
       "      <td>331500.0</td>\n",
       "      <td>Bob</td>\n",
       "      <td>H</td>\n",
       "      <td>San Francisco</td>\n",
       "      <td>Steve</td>\n",
       "    </tr>\n",
       "    <tr>\n",
       "      <th>2</th>\n",
       "      <td>Rose_L</td>\n",
       "      <td>35.0</td>\n",
       "      <td>Finance</td>\n",
       "      <td>75000.0</td>\n",
       "      <td>382500.0</td>\n",
       "      <td>Rose</td>\n",
       "      <td>L</td>\n",
       "      <td>Chicago</td>\n",
       "      <td>Nina</td>\n",
       "    </tr>\n",
       "    <tr>\n",
       "      <th>3</th>\n",
       "      <td>John_C</td>\n",
       "      <td>NaN</td>\n",
       "      <td>IT</td>\n",
       "      <td>67000.0</td>\n",
       "      <td>341700.0</td>\n",
       "      <td>John</td>\n",
       "      <td>C</td>\n",
       "      <td>San Francisco</td>\n",
       "      <td>Steve</td>\n",
       "    </tr>\n",
       "    <tr>\n",
       "      <th>4</th>\n",
       "      <td>Eve_E</td>\n",
       "      <td>29.0</td>\n",
       "      <td>HR</td>\n",
       "      <td>NaN</td>\n",
       "      <td>NaN</td>\n",
       "      <td>Eve</td>\n",
       "      <td>E</td>\n",
       "      <td>New York</td>\n",
       "      <td>Laura</td>\n",
       "    </tr>\n",
       "    <tr>\n",
       "      <th>5</th>\n",
       "      <td>Alice_Z</td>\n",
       "      <td>25.0</td>\n",
       "      <td>HR</td>\n",
       "      <td>55000.0</td>\n",
       "      <td>280500.0</td>\n",
       "      <td>Alice</td>\n",
       "      <td>Z</td>\n",
       "      <td>New York</td>\n",
       "      <td>Laura</td>\n",
       "    </tr>\n",
       "  </tbody>\n",
       "</table>\n",
       "</div>"
      ],
      "text/plain": [
       "  Full_Name   Age Department   Salary     Bonus  FName LName       Location  \\\n",
       "0   Alice_B  25.0         HR  55000.0  280500.0  Alice     B       New York   \n",
       "1     Bob_H  30.0         IT  65000.0  331500.0    Bob     H  San Francisco   \n",
       "2    Rose_L  35.0    Finance  75000.0  382500.0   Rose     L        Chicago   \n",
       "3    John_C   NaN         IT  67000.0  341700.0   John     C  San Francisco   \n",
       "4     Eve_E  29.0         HR      NaN       NaN    Eve     E       New York   \n",
       "5   Alice_Z  25.0         HR  55000.0  280500.0  Alice     Z       New York   \n",
       "\n",
       "  Manager  \n",
       "0   Laura  \n",
       "1   Steve  \n",
       "2    Nina  \n",
       "3   Steve  \n",
       "4   Laura  \n",
       "5   Laura  "
      ]
     },
     "execution_count": 42,
     "metadata": {},
     "output_type": "execute_result"
    }
   ],
   "source": [
    "# The concatenation will result in duplicate columns `Department` as both datasets have Department column. To remove duplicate columns, we can use merge function.\n",
    "print(\"STEP-1: Merge two Datasets based on common column Department:\")\n",
    "pd.merge(df, dept_df, on=\"Department\")"
   ]
  },
  {
   "cell_type": "code",
   "execution_count": 43,
   "id": "e6275186",
   "metadata": {},
   "outputs": [
    {
     "name": "stdout",
     "output_type": "stream",
     "text": [
      "Lets join the two datasets based on Dept and Department columns:\n"
     ]
    },
    {
     "data": {
      "text/html": [
       "<div>\n",
       "<style scoped>\n",
       "    .dataframe tbody tr th:only-of-type {\n",
       "        vertical-align: middle;\n",
       "    }\n",
       "\n",
       "    .dataframe tbody tr th {\n",
       "        vertical-align: top;\n",
       "    }\n",
       "\n",
       "    .dataframe thead th {\n",
       "        text-align: right;\n",
       "    }\n",
       "</style>\n",
       "<table border=\"1\" class=\"dataframe\">\n",
       "  <thead>\n",
       "    <tr style=\"text-align: right;\">\n",
       "      <th></th>\n",
       "      <th>Full_Name</th>\n",
       "      <th>Age</th>\n",
       "      <th>Dept</th>\n",
       "      <th>Salary</th>\n",
       "      <th>Bonus</th>\n",
       "      <th>FName</th>\n",
       "      <th>LName</th>\n",
       "      <th>Department</th>\n",
       "      <th>Location</th>\n",
       "      <th>Manager</th>\n",
       "    </tr>\n",
       "  </thead>\n",
       "  <tbody>\n",
       "    <tr>\n",
       "      <th>0</th>\n",
       "      <td>Alice_B</td>\n",
       "      <td>25.0</td>\n",
       "      <td>HR</td>\n",
       "      <td>55000.0</td>\n",
       "      <td>280500.0</td>\n",
       "      <td>Alice</td>\n",
       "      <td>B</td>\n",
       "      <td>HR</td>\n",
       "      <td>New York</td>\n",
       "      <td>Laura</td>\n",
       "    </tr>\n",
       "    <tr>\n",
       "      <th>1</th>\n",
       "      <td>Bob_H</td>\n",
       "      <td>30.0</td>\n",
       "      <td>IT</td>\n",
       "      <td>65000.0</td>\n",
       "      <td>331500.0</td>\n",
       "      <td>Bob</td>\n",
       "      <td>H</td>\n",
       "      <td>IT</td>\n",
       "      <td>San Francisco</td>\n",
       "      <td>Steve</td>\n",
       "    </tr>\n",
       "    <tr>\n",
       "      <th>2</th>\n",
       "      <td>Rose_L</td>\n",
       "      <td>35.0</td>\n",
       "      <td>Finance</td>\n",
       "      <td>75000.0</td>\n",
       "      <td>382500.0</td>\n",
       "      <td>Rose</td>\n",
       "      <td>L</td>\n",
       "      <td>Finance</td>\n",
       "      <td>Chicago</td>\n",
       "      <td>Nina</td>\n",
       "    </tr>\n",
       "    <tr>\n",
       "      <th>3</th>\n",
       "      <td>John_C</td>\n",
       "      <td>NaN</td>\n",
       "      <td>IT</td>\n",
       "      <td>67000.0</td>\n",
       "      <td>341700.0</td>\n",
       "      <td>John</td>\n",
       "      <td>C</td>\n",
       "      <td>IT</td>\n",
       "      <td>San Francisco</td>\n",
       "      <td>Steve</td>\n",
       "    </tr>\n",
       "    <tr>\n",
       "      <th>4</th>\n",
       "      <td>Eve_E</td>\n",
       "      <td>29.0</td>\n",
       "      <td>HR</td>\n",
       "      <td>NaN</td>\n",
       "      <td>NaN</td>\n",
       "      <td>Eve</td>\n",
       "      <td>E</td>\n",
       "      <td>HR</td>\n",
       "      <td>New York</td>\n",
       "      <td>Laura</td>\n",
       "    </tr>\n",
       "    <tr>\n",
       "      <th>5</th>\n",
       "      <td>Alice_Z</td>\n",
       "      <td>25.0</td>\n",
       "      <td>HR</td>\n",
       "      <td>55000.0</td>\n",
       "      <td>280500.0</td>\n",
       "      <td>Alice</td>\n",
       "      <td>Z</td>\n",
       "      <td>HR</td>\n",
       "      <td>New York</td>\n",
       "      <td>Laura</td>\n",
       "    </tr>\n",
       "  </tbody>\n",
       "</table>\n",
       "</div>"
      ],
      "text/plain": [
       "  Full_Name   Age     Dept   Salary     Bonus  FName LName Department  \\\n",
       "0   Alice_B  25.0       HR  55000.0  280500.0  Alice     B         HR   \n",
       "1     Bob_H  30.0       IT  65000.0  331500.0    Bob     H         IT   \n",
       "2    Rose_L  35.0  Finance  75000.0  382500.0   Rose     L    Finance   \n",
       "3    John_C   NaN       IT  67000.0  341700.0   John     C         IT   \n",
       "4     Eve_E  29.0       HR      NaN       NaN    Eve     E         HR   \n",
       "5   Alice_Z  25.0       HR  55000.0  280500.0  Alice     Z         HR   \n",
       "\n",
       "        Location Manager  \n",
       "0       New York   Laura  \n",
       "1  San Francisco   Steve  \n",
       "2        Chicago    Nina  \n",
       "3  San Francisco   Steve  \n",
       "4       New York   Laura  \n",
       "5       New York   Laura  "
      ]
     },
     "execution_count": 43,
     "metadata": {},
     "output_type": "execute_result"
    }
   ],
   "source": [
    "# The above 2 steps can be done in a better way.\n",
    "\n",
    "# Lets join the two datasets based on Dept and Department columns\n",
    "\n",
    "# Lets rename Department to Dept\n",
    "df.rename(columns={\"Department\": \"Dept\"}, inplace=True)\n",
    "print(\"Lets join the two datasets based on Dept and Department columns:\")\n",
    "\n",
    "# here `how` can be 'inner', 'outer', 'left', 'right'\n",
    "merged_df = pd.merge(df, dept_df, left_on=\"Dept\", right_on=\"Department\", how=\"inner\")\n",
    "merged_df"
   ]
  },
  {
   "cell_type": "markdown",
   "id": "fd7e1cdd",
   "metadata": {},
   "source": [
    "# Read CSV file"
   ]
  },
  {
   "cell_type": "code",
   "execution_count": 44,
   "id": "84f4034c",
   "metadata": {},
   "outputs": [
    {
     "name": "stdout",
     "output_type": "stream",
     "text": [
      "<class 'pandas.core.frame.DataFrame'>\n",
      "RangeIndex: 100 entries, 0 to 99\n",
      "Data columns (total 11 columns):\n",
      " #   Column         Non-Null Count  Dtype \n",
      "---  ------         --------------  ----- \n",
      " 0   id             100 non-null    int64 \n",
      " 1   first_name     100 non-null    object\n",
      " 2   last_name      95 non-null     object\n",
      " 3   email          98 non-null     object\n",
      " 4   gender         88 non-null     object\n",
      " 5   birth_date     95 non-null     object\n",
      " 6   time_of_birth  94 non-null     object\n",
      " 7   is_active      95 non-null     object\n",
      " 8   address        88 non-null     object\n",
      " 9   country        93 non-null     object\n",
      " 10  timezone       92 non-null     object\n",
      "dtypes: int64(1), object(10)\n",
      "memory usage: 8.7+ KB\n"
     ]
    }
   ],
   "source": [
    "# Read CSV file\n",
    "data = pd.read_csv(\"../data.csv\")\n",
    "\n",
    "# Display info about the dataset\n",
    "data.info()"
   ]
  },
  {
   "cell_type": "code",
   "execution_count": 45,
   "id": "014f328f",
   "metadata": {},
   "outputs": [
    {
     "data": {
      "text/plain": [
       "(100, 11)"
      ]
     },
     "execution_count": 45,
     "metadata": {},
     "output_type": "execute_result"
    }
   ],
   "source": [
    "# Shape of Dataset\n",
    "data.shape"
   ]
  },
  {
   "cell_type": "code",
   "execution_count": 46,
   "id": "43ac0c00",
   "metadata": {},
   "outputs": [
    {
     "data": {
      "text/html": [
       "<div>\n",
       "<style scoped>\n",
       "    .dataframe tbody tr th:only-of-type {\n",
       "        vertical-align: middle;\n",
       "    }\n",
       "\n",
       "    .dataframe tbody tr th {\n",
       "        vertical-align: top;\n",
       "    }\n",
       "\n",
       "    .dataframe thead th {\n",
       "        text-align: right;\n",
       "    }\n",
       "</style>\n",
       "<table border=\"1\" class=\"dataframe\">\n",
       "  <thead>\n",
       "    <tr style=\"text-align: right;\">\n",
       "      <th></th>\n",
       "      <th>id</th>\n",
       "      <th>first_name</th>\n",
       "      <th>last_name</th>\n",
       "      <th>email</th>\n",
       "      <th>gender</th>\n",
       "      <th>birth_date</th>\n",
       "      <th>time_of_birth</th>\n",
       "      <th>is_active</th>\n",
       "      <th>address</th>\n",
       "      <th>country</th>\n",
       "      <th>timezone</th>\n",
       "    </tr>\n",
       "  </thead>\n",
       "  <tbody>\n",
       "    <tr>\n",
       "      <th>0</th>\n",
       "      <td>1</td>\n",
       "      <td>Veda</td>\n",
       "      <td>Pavey</td>\n",
       "      <td>vpavey0@delicious.com</td>\n",
       "      <td>Female</td>\n",
       "      <td>7/7/2017</td>\n",
       "      <td>12:44:48</td>\n",
       "      <td>False</td>\n",
       "      <td>NaN</td>\n",
       "      <td>Indonesia</td>\n",
       "      <td>Asia/Jakarta</td>\n",
       "    </tr>\n",
       "    <tr>\n",
       "      <th>1</th>\n",
       "      <td>2</td>\n",
       "      <td>Phylis</td>\n",
       "      <td>Fritzer</td>\n",
       "      <td>pfritzer1@posterous.com</td>\n",
       "      <td>Female</td>\n",
       "      <td>9/29/2014</td>\n",
       "      <td>17:15:20</td>\n",
       "      <td>False</td>\n",
       "      <td>NaN</td>\n",
       "      <td>Indonesia</td>\n",
       "      <td>Asia/Jakarta</td>\n",
       "    </tr>\n",
       "    <tr>\n",
       "      <th>2</th>\n",
       "      <td>3</td>\n",
       "      <td>Tim</td>\n",
       "      <td>Bigby</td>\n",
       "      <td>tbigby2@amazonaws.com</td>\n",
       "      <td>Male</td>\n",
       "      <td>5/11/2025</td>\n",
       "      <td>7:07:32</td>\n",
       "      <td>False</td>\n",
       "      <td>7th Floor</td>\n",
       "      <td>China</td>\n",
       "      <td>Asia/Chongqing</td>\n",
       "    </tr>\n",
       "    <tr>\n",
       "      <th>3</th>\n",
       "      <td>4</td>\n",
       "      <td>Sherill</td>\n",
       "      <td>Arkley</td>\n",
       "      <td>sarkley3@seattletimes.com</td>\n",
       "      <td>Female</td>\n",
       "      <td>3/11/2013</td>\n",
       "      <td>21:42:11</td>\n",
       "      <td>False</td>\n",
       "      <td>Suite 30</td>\n",
       "      <td>China</td>\n",
       "      <td>Asia/Shanghai</td>\n",
       "    </tr>\n",
       "    <tr>\n",
       "      <th>4</th>\n",
       "      <td>5</td>\n",
       "      <td>Jared</td>\n",
       "      <td>Burdytt</td>\n",
       "      <td>NaN</td>\n",
       "      <td>Male</td>\n",
       "      <td>9/28/2009</td>\n",
       "      <td>22:41:39</td>\n",
       "      <td>True</td>\n",
       "      <td>18th Floor</td>\n",
       "      <td>China</td>\n",
       "      <td>Asia/Chongqing</td>\n",
       "    </tr>\n",
       "  </tbody>\n",
       "</table>\n",
       "</div>"
      ],
      "text/plain": [
       "   id first_name last_name                      email  gender birth_date  \\\n",
       "0   1       Veda     Pavey      vpavey0@delicious.com  Female   7/7/2017   \n",
       "1   2     Phylis   Fritzer    pfritzer1@posterous.com  Female  9/29/2014   \n",
       "2   3        Tim     Bigby      tbigby2@amazonaws.com    Male  5/11/2025   \n",
       "3   4    Sherill    Arkley  sarkley3@seattletimes.com  Female  3/11/2013   \n",
       "4   5      Jared   Burdytt                        NaN    Male  9/28/2009   \n",
       "\n",
       "  time_of_birth is_active     address    country        timezone  \n",
       "0      12:44:48     False         NaN  Indonesia    Asia/Jakarta  \n",
       "1      17:15:20     False         NaN  Indonesia    Asia/Jakarta  \n",
       "2       7:07:32     False   7th Floor      China  Asia/Chongqing  \n",
       "3      21:42:11     False    Suite 30      China   Asia/Shanghai  \n",
       "4      22:41:39      True  18th Floor      China  Asia/Chongqing  "
      ]
     },
     "execution_count": 46,
     "metadata": {},
     "output_type": "execute_result"
    }
   ],
   "source": [
    "# Have a look at the data\n",
    "data.head()  # This will display first 5 rows"
   ]
  },
  {
   "cell_type": "code",
   "execution_count": 47,
   "id": "7431056c",
   "metadata": {},
   "outputs": [
    {
     "data": {
      "text/html": [
       "<div>\n",
       "<style scoped>\n",
       "    .dataframe tbody tr th:only-of-type {\n",
       "        vertical-align: middle;\n",
       "    }\n",
       "\n",
       "    .dataframe tbody tr th {\n",
       "        vertical-align: top;\n",
       "    }\n",
       "\n",
       "    .dataframe thead th {\n",
       "        text-align: right;\n",
       "    }\n",
       "</style>\n",
       "<table border=\"1\" class=\"dataframe\">\n",
       "  <thead>\n",
       "    <tr style=\"text-align: right;\">\n",
       "      <th></th>\n",
       "      <th>id</th>\n",
       "      <th>first_name</th>\n",
       "      <th>last_name</th>\n",
       "      <th>email</th>\n",
       "      <th>gender</th>\n",
       "      <th>birth_date</th>\n",
       "      <th>time_of_birth</th>\n",
       "      <th>is_active</th>\n",
       "      <th>address</th>\n",
       "      <th>country</th>\n",
       "      <th>timezone</th>\n",
       "    </tr>\n",
       "  </thead>\n",
       "  <tbody>\n",
       "    <tr>\n",
       "      <th>95</th>\n",
       "      <td>96</td>\n",
       "      <td>Emelina</td>\n",
       "      <td>Stockford</td>\n",
       "      <td>estockford2n@symantec.com</td>\n",
       "      <td>Polygender</td>\n",
       "      <td>3/16/2017</td>\n",
       "      <td>6:50:38</td>\n",
       "      <td>True</td>\n",
       "      <td>Apt 78</td>\n",
       "      <td>United States</td>\n",
       "      <td>America/New_York</td>\n",
       "    </tr>\n",
       "    <tr>\n",
       "      <th>96</th>\n",
       "      <td>97</td>\n",
       "      <td>Alayne</td>\n",
       "      <td>Grishankov</td>\n",
       "      <td>agrishankov2o@rambler.ru</td>\n",
       "      <td>Female</td>\n",
       "      <td>10/27/2002</td>\n",
       "      <td>15:37:42</td>\n",
       "      <td>True</td>\n",
       "      <td>Suite 16</td>\n",
       "      <td>Russia</td>\n",
       "      <td>Europe/Moscow</td>\n",
       "    </tr>\n",
       "    <tr>\n",
       "      <th>97</th>\n",
       "      <td>98</td>\n",
       "      <td>Tatum</td>\n",
       "      <td>Lovegrove</td>\n",
       "      <td>tlovegrove2p@meetup.com</td>\n",
       "      <td>Female</td>\n",
       "      <td>4/22/2005</td>\n",
       "      <td>11:49:56</td>\n",
       "      <td>False</td>\n",
       "      <td>NaN</td>\n",
       "      <td>Venezuela</td>\n",
       "      <td>America/Caracas</td>\n",
       "    </tr>\n",
       "    <tr>\n",
       "      <th>98</th>\n",
       "      <td>99</td>\n",
       "      <td>Shellie</td>\n",
       "      <td>Novis</td>\n",
       "      <td>snovis2q@usa.gov</td>\n",
       "      <td>Female</td>\n",
       "      <td>12/17/1997</td>\n",
       "      <td>20:36:33</td>\n",
       "      <td>False</td>\n",
       "      <td>Apt 935</td>\n",
       "      <td>Malaysia</td>\n",
       "      <td>Asia/Kuala_Lumpur</td>\n",
       "    </tr>\n",
       "    <tr>\n",
       "      <th>99</th>\n",
       "      <td>100</td>\n",
       "      <td>Sheila</td>\n",
       "      <td>Cowell</td>\n",
       "      <td>scowell2r@about.com</td>\n",
       "      <td>Female</td>\n",
       "      <td>11/21/1997</td>\n",
       "      <td>21:29:01</td>\n",
       "      <td>False</td>\n",
       "      <td>Suite 70</td>\n",
       "      <td>Venezuela</td>\n",
       "      <td>America/Caracas</td>\n",
       "    </tr>\n",
       "  </tbody>\n",
       "</table>\n",
       "</div>"
      ],
      "text/plain": [
       "     id first_name   last_name                      email      gender  \\\n",
       "95   96    Emelina   Stockford  estockford2n@symantec.com  Polygender   \n",
       "96   97     Alayne  Grishankov   agrishankov2o@rambler.ru      Female   \n",
       "97   98      Tatum   Lovegrove    tlovegrove2p@meetup.com      Female   \n",
       "98   99    Shellie       Novis           snovis2q@usa.gov      Female   \n",
       "99  100     Sheila      Cowell        scowell2r@about.com      Female   \n",
       "\n",
       "    birth_date time_of_birth is_active   address        country  \\\n",
       "95   3/16/2017       6:50:38      True    Apt 78  United States   \n",
       "96  10/27/2002      15:37:42      True  Suite 16         Russia   \n",
       "97   4/22/2005      11:49:56     False       NaN      Venezuela   \n",
       "98  12/17/1997      20:36:33     False   Apt 935       Malaysia   \n",
       "99  11/21/1997      21:29:01     False  Suite 70      Venezuela   \n",
       "\n",
       "             timezone  \n",
       "95   America/New_York  \n",
       "96      Europe/Moscow  \n",
       "97    America/Caracas  \n",
       "98  Asia/Kuala_Lumpur  \n",
       "99    America/Caracas  "
      ]
     },
     "execution_count": 47,
     "metadata": {},
     "output_type": "execute_result"
    }
   ],
   "source": [
    "data.tail()"
   ]
  },
  {
   "cell_type": "code",
   "execution_count": 48,
   "id": "b12d1442",
   "metadata": {},
   "outputs": [
    {
     "name": "stdout",
     "output_type": "stream",
     "text": [
      "<class 'pandas.core.frame.DataFrame'>\n",
      "RangeIndex: 100 entries, 0 to 99\n",
      "Data columns (total 11 columns):\n",
      " #   Column         Non-Null Count  Dtype          \n",
      "---  ------         --------------  -----          \n",
      " 0   id             100 non-null    int64          \n",
      " 1   first_name     100 non-null    object         \n",
      " 2   last_name      95 non-null     object         \n",
      " 3   email          98 non-null     object         \n",
      " 4   gender         88 non-null     object         \n",
      " 5   birth_date     95 non-null     datetime64[ns] \n",
      " 6   time_of_birth  94 non-null     timedelta64[ns]\n",
      " 7   is_active      100 non-null    bool           \n",
      " 8   address        88 non-null     object         \n",
      " 9   country        93 non-null     object         \n",
      " 10  timezone       92 non-null     object         \n",
      "dtypes: bool(1), datetime64[ns](1), int64(1), object(7), timedelta64[ns](1)\n",
      "memory usage: 8.0+ KB\n"
     ]
    }
   ],
   "source": [
    "# Convert columns to actual data types\n",
    "data[\"birth_date\"] = pd.to_datetime(data[\"birth_date\"])  # Convert object to datetime\n",
    "data[\"time_of_birth\"] = pd.to_timedelta(data[\"time_of_birth\"])  # Convert object to timedelta\n",
    "data[\"is_active\"] = data[\"is_active\"].astype(bool)  # Convert object to boolean\n",
    "\n",
    "data.info()"
   ]
  },
  {
   "cell_type": "code",
   "execution_count": 49,
   "id": "29a0a743",
   "metadata": {},
   "outputs": [
    {
     "data": {
      "text/html": [
       "<div>\n",
       "<style scoped>\n",
       "    .dataframe tbody tr th:only-of-type {\n",
       "        vertical-align: middle;\n",
       "    }\n",
       "\n",
       "    .dataframe tbody tr th {\n",
       "        vertical-align: top;\n",
       "    }\n",
       "\n",
       "    .dataframe thead th {\n",
       "        text-align: right;\n",
       "    }\n",
       "</style>\n",
       "<table border=\"1\" class=\"dataframe\">\n",
       "  <thead>\n",
       "    <tr style=\"text-align: right;\">\n",
       "      <th></th>\n",
       "      <th>id</th>\n",
       "      <th>first_name</th>\n",
       "      <th>last_name</th>\n",
       "      <th>email</th>\n",
       "      <th>gender</th>\n",
       "      <th>birth_date</th>\n",
       "      <th>time_of_birth</th>\n",
       "      <th>is_active</th>\n",
       "      <th>address</th>\n",
       "      <th>country</th>\n",
       "      <th>timezone</th>\n",
       "    </tr>\n",
       "  </thead>\n",
       "  <tbody>\n",
       "    <tr>\n",
       "      <th>0</th>\n",
       "      <td>1</td>\n",
       "      <td>Veda</td>\n",
       "      <td>Pavey</td>\n",
       "      <td>vpavey0@delicious.com</td>\n",
       "      <td>Female</td>\n",
       "      <td>2017-07-07</td>\n",
       "      <td>0 days 12:44:48</td>\n",
       "      <td>False</td>\n",
       "      <td>NaN</td>\n",
       "      <td>Indonesia</td>\n",
       "      <td>Asia/Jakarta</td>\n",
       "    </tr>\n",
       "    <tr>\n",
       "      <th>1</th>\n",
       "      <td>2</td>\n",
       "      <td>Phylis</td>\n",
       "      <td>Fritzer</td>\n",
       "      <td>pfritzer1@posterous.com</td>\n",
       "      <td>Female</td>\n",
       "      <td>2014-09-29</td>\n",
       "      <td>0 days 17:15:20</td>\n",
       "      <td>False</td>\n",
       "      <td>NaN</td>\n",
       "      <td>Indonesia</td>\n",
       "      <td>Asia/Jakarta</td>\n",
       "    </tr>\n",
       "    <tr>\n",
       "      <th>2</th>\n",
       "      <td>3</td>\n",
       "      <td>Tim</td>\n",
       "      <td>Bigby</td>\n",
       "      <td>tbigby2@amazonaws.com</td>\n",
       "      <td>Male</td>\n",
       "      <td>2025-05-11</td>\n",
       "      <td>0 days 07:07:32</td>\n",
       "      <td>False</td>\n",
       "      <td>7th Floor</td>\n",
       "      <td>China</td>\n",
       "      <td>Asia/Chongqing</td>\n",
       "    </tr>\n",
       "    <tr>\n",
       "      <th>3</th>\n",
       "      <td>4</td>\n",
       "      <td>Sherill</td>\n",
       "      <td>Arkley</td>\n",
       "      <td>sarkley3@seattletimes.com</td>\n",
       "      <td>Female</td>\n",
       "      <td>2013-03-11</td>\n",
       "      <td>0 days 21:42:11</td>\n",
       "      <td>False</td>\n",
       "      <td>Suite 30</td>\n",
       "      <td>China</td>\n",
       "      <td>Asia/Shanghai</td>\n",
       "    </tr>\n",
       "    <tr>\n",
       "      <th>4</th>\n",
       "      <td>5</td>\n",
       "      <td>Jared</td>\n",
       "      <td>Burdytt</td>\n",
       "      <td>NaN</td>\n",
       "      <td>Male</td>\n",
       "      <td>2009-09-28</td>\n",
       "      <td>0 days 22:41:39</td>\n",
       "      <td>True</td>\n",
       "      <td>18th Floor</td>\n",
       "      <td>China</td>\n",
       "      <td>Asia/Chongqing</td>\n",
       "    </tr>\n",
       "  </tbody>\n",
       "</table>\n",
       "</div>"
      ],
      "text/plain": [
       "   id first_name last_name                      email  gender birth_date  \\\n",
       "0   1       Veda     Pavey      vpavey0@delicious.com  Female 2017-07-07   \n",
       "1   2     Phylis   Fritzer    pfritzer1@posterous.com  Female 2014-09-29   \n",
       "2   3        Tim     Bigby      tbigby2@amazonaws.com    Male 2025-05-11   \n",
       "3   4    Sherill    Arkley  sarkley3@seattletimes.com  Female 2013-03-11   \n",
       "4   5      Jared   Burdytt                        NaN    Male 2009-09-28   \n",
       "\n",
       "    time_of_birth  is_active     address    country        timezone  \n",
       "0 0 days 12:44:48      False         NaN  Indonesia    Asia/Jakarta  \n",
       "1 0 days 17:15:20      False         NaN  Indonesia    Asia/Jakarta  \n",
       "2 0 days 07:07:32      False   7th Floor      China  Asia/Chongqing  \n",
       "3 0 days 21:42:11      False    Suite 30      China   Asia/Shanghai  \n",
       "4 0 days 22:41:39       True  18th Floor      China  Asia/Chongqing  "
      ]
     },
     "execution_count": 49,
     "metadata": {},
     "output_type": "execute_result"
    }
   ],
   "source": [
    "data.head()"
   ]
  },
  {
   "cell_type": "code",
   "execution_count": null,
   "id": "4dcd6e15",
   "metadata": {},
   "outputs": [],
   "source": []
  }
 ],
 "metadata": {
  "kernelspec": {
   "display_name": "practice",
   "language": "python",
   "name": "python3"
  },
  "language_info": {
   "codemirror_mode": {
    "name": "ipython",
    "version": 3
   },
   "file_extension": ".py",
   "mimetype": "text/x-python",
   "name": "python",
   "nbconvert_exporter": "python",
   "pygments_lexer": "ipython3",
   "version": "3.13.5"
  }
 },
 "nbformat": 4,
 "nbformat_minor": 5
}
