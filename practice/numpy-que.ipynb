{
 "cells": [
  {
   "cell_type": "code",
   "execution_count": 1,
   "id": "initial_id",
   "metadata": {
    "ExecuteTime": {
     "end_time": "2025-10-24T18:39:02.439861Z",
     "start_time": "2025-10-24T18:39:02.371700Z"
    },
    "collapsed": true
   },
   "outputs": [],
   "source": [
    "import numpy as np"
   ]
  },
  {
   "cell_type": "code",
   "id": "6bca84da2e17bec0",
   "metadata": {
    "ExecuteTime": {
     "end_time": "2025-10-24T18:45:27.492126Z",
     "start_time": "2025-10-24T18:45:27.486380Z"
    }
   },
   "source": [
    "\"\"\"\n",
    "Given a NumPy array of shape (n,m). Add padding of a layer of 0’s on all 4 boundaries of the matrix.\n",
    "\n",
    "Sample Input:\n",
    "    [[3 2]\n",
    "    [1 2]\n",
    "    [3 4]\n",
    "    [5 6]]\n",
    "\n",
    "Sample Output:\n",
    "    [[0 0 0 0]\n",
    "     [0 1 2 0]\n",
    "     [0 3 4 0]\n",
    "     [0 5 6 0]\n",
    "     [0 0 0 0]]\n",
    "\"\"\"\n",
    "arr = np.array([[3, 2], [1, 2], [3, 4], [5, 6]])\n",
    "\n",
    "# Use np.pad to add padding\n",
    "'''\n",
    "pad_width       → how much to pad (e.g., 1 adds one layer around each edge).\n",
    "mode            → how to fill those padded values.\n",
    "constant_values → what number to use if mode is 'constant'.\n",
    "\n",
    "Common mode options\n",
    "   Mode\t                                Description\t                                      Example Output (for [1, 2, 3])\n",
    "'constant'\t    Pads with a constant value (default 0 unless changed via constant_values)\t→ [0, 1, 2, 3, 0]\n",
    "'edge'\t        Repeats the edge values\t                                                    → [1, 1, 2, 3, 3]\n",
    "'reflect'\t    Reflects values without repeating edge\t                                    → [2, 1, 1, 2, 3, 3, 2]\n",
    "'symmetric'\t    Reflects including the edge\t                                                → [1, 1, 2, 3, 3, 2, 1]\n",
    "'wrap'\t        Wraps values from the opposite edge\t                                        → [3, 1, 2, 3, 1]\n",
    "'mean',         'maximum', 'minimum', 'median'\tPads with the corresponding statistic of the array\t(used less often)\n",
    "\n",
    "'''\n",
    "res = np.pad(arr, pad_width=1, constant_values=0)\n",
    "res"
   ],
   "outputs": [
    {
     "data": {
      "text/plain": [
       "array([[0, 0, 0, 0],\n",
       "       [0, 3, 2, 0],\n",
       "       [0, 1, 2, 0],\n",
       "       [0, 3, 4, 0],\n",
       "       [0, 5, 6, 0],\n",
       "       [0, 0, 0, 0]])"
      ]
     },
     "execution_count": 5,
     "metadata": {},
     "output_type": "execute_result"
    }
   ],
   "execution_count": 5
  },
  {
   "cell_type": "code",
   "execution_count": null,
   "id": "bb007d556f2fc37a",
   "metadata": {},
   "outputs": [],
   "source": []
  }
 ],
 "metadata": {
  "kernelspec": {
   "display_name": "Python 3",
   "language": "python",
   "name": "python3"
  },
  "language_info": {
   "codemirror_mode": {
    "name": "ipython",
    "version": 2
   },
   "file_extension": ".py",
   "mimetype": "text/x-python",
   "name": "python",
   "nbconvert_exporter": "python",
   "pygments_lexer": "ipython2",
   "version": "2.7.6"
  }
 },
 "nbformat": 4,
 "nbformat_minor": 5
}
