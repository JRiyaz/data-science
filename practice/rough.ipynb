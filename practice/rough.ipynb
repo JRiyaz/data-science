{
 "cells": [
  {
   "cell_type": "code",
   "execution_count": 2,
   "id": "initial_id",
   "metadata": {
    "ExecuteTime": {
     "end_time": "2025-10-24T18:19:57.234375Z",
     "start_time": "2025-10-24T18:19:51.304636Z"
    },
    "collapsed": true
   },
   "outputs": [],
   "source": [
    "import matplotlib.pyplot as plt\n",
    "import numpy as np\n",
    "import pandas as pd"
   ]
  },
  {
   "cell_type": "code",
   "execution_count": 31,
   "id": "724bc32ebca158e2",
   "metadata": {
    "ExecuteTime": {
     "end_time": "2025-10-24T18:34:27.610371Z",
     "start_time": "2025-10-24T18:34:27.606135Z"
    }
   },
   "outputs": [
    {
     "data": {
      "text/plain": [
       "array([[1, 2, 3, 4],\n",
       "       [5, 6, 7, 8]])"
      ]
     },
     "execution_count": 31,
     "metadata": {},
     "output_type": "execute_result"
    }
   ],
   "source": [
    "# Add padding to given array\n",
    "arr = np.array([[1, 2, 3, 4], [5, 6, 7, 8]])\n",
    "arr"
   ]
  },
  {
   "cell_type": "code",
   "execution_count": 33,
   "id": "4ba6f888b98486e8",
   "metadata": {
    "ExecuteTime": {
     "end_time": "2025-10-24T18:35:59.741825Z",
     "start_time": "2025-10-24T18:35:59.736655Z"
    }
   },
   "outputs": [
    {
     "data": {
      "text/plain": [
       "array([[0, 0, 0, 0, 0, 0],\n",
       "       [0, 1, 2, 3, 4, 0],\n",
       "       [0, 5, 6, 7, 8, 0],\n",
       "       [0, 0, 0, 0, 0, 0]])"
      ]
     },
     "execution_count": 33,
     "metadata": {},
     "output_type": "execute_result"
    }
   ],
   "source": [
    "# zeros = np.zeros(arr.shape[-1])\n",
    "# new_arr = np.insert(arr, [0, len(arr)], [zeros, zeros], axis=0)\n",
    "# new_arr\n",
    "res = np.pad(arr, pad_width=1, mode=\"constant\", constant_values=0)\n",
    "res"
   ]
  },
  {
   "cell_type": "code",
   "execution_count": 30,
   "id": "279ddd61040cc479",
   "metadata": {
    "ExecuteTime": {
     "end_time": "2025-10-24T18:33:49.008305Z",
     "start_time": "2025-10-24T18:33:49.003022Z"
    }
   },
   "outputs": [
    {
     "data": {
      "text/plain": [
       "array([[0, 0, 0, 0, 0, 0],\n",
       "       [0, 1, 2, 3, 4, 0],\n",
       "       [0, 5, 6, 7, 8, 0],\n",
       "       [0, 0, 0, 0, 0, 0]])"
      ]
     },
     "execution_count": 30,
     "metadata": {},
     "output_type": "execute_result"
    }
   ],
   "source": [
    "arr1 = np.insert(new_arr, [0, len(arr[0])], [0, 0], axis=1)\n",
    "arr1"
   ]
  },
  {
   "cell_type": "code",
   "execution_count": null,
   "id": "f3f4dd5be7bebd67",
   "metadata": {},
   "outputs": [],
   "source": []
  }
 ],
 "metadata": {
  "kernelspec": {
   "display_name": "Python 3",
   "language": "python",
   "name": "python3"
  },
  "language_info": {
   "codemirror_mode": {
    "name": "ipython",
    "version": 2
   },
   "file_extension": ".py",
   "mimetype": "text/x-python",
   "name": "python",
   "nbconvert_exporter": "python",
   "pygments_lexer": "ipython2",
   "version": "2.7.6"
  }
 },
 "nbformat": 4,
 "nbformat_minor": 5
}
