{
 "cells": [
  {
   "cell_type": "code",
   "execution_count": 8,
   "id": "1283fdff",
   "metadata": {
    "ExecuteTime": {
     "end_time": "2025-10-19T13:09:12.953946Z",
     "start_time": "2025-10-19T13:09:12.950094Z"
    }
   },
   "outputs": [],
   "source": [
    "import numpy as np"
   ]
  },
  {
   "cell_type": "code",
   "execution_count": 9,
   "id": "5bb1d094",
   "metadata": {
    "ExecuteTime": {
     "end_time": "2025-10-19T13:09:12.993148Z",
     "start_time": "2025-10-19T13:09:12.986013Z"
    }
   },
   "outputs": [
    {
     "data": {
      "text/plain": [
       "array([1, 3, 4])"
      ]
     },
     "execution_count": 9,
     "metadata": {},
     "output_type": "execute_result"
    }
   ],
   "source": [
    "np.array([1, 3, 4])"
   ]
  },
  {
   "cell_type": "code",
   "execution_count": 10,
   "id": "a55d75c7b535c344",
   "metadata": {
    "ExecuteTime": {
     "end_time": "2025-10-19T13:09:13.100978Z",
     "start_time": "2025-10-19T13:09:13.094250Z"
    }
   },
   "outputs": [
    {
     "data": {
      "text/plain": [
       "array([0, 1, 2, 3, 4, 5, 6, 7, 8, 9])"
      ]
     },
     "execution_count": 10,
     "metadata": {},
     "output_type": "execute_result"
    }
   ],
   "source": [
    "np.arange(10)"
   ]
  },
  {
   "cell_type": "code",
   "execution_count": 11,
   "id": "128a6a3cd8a1a036",
   "metadata": {
    "ExecuteTime": {
     "end_time": "2025-10-19T13:09:13.190055Z",
     "start_time": "2025-10-19T13:09:13.183356Z"
    }
   },
   "outputs": [
    {
     "data": {
      "text/plain": [
       "array([20, 18, 16, 14, 12, 10,  8,  6,  4,  2])"
      ]
     },
     "execution_count": 11,
     "metadata": {},
     "output_type": "execute_result"
    }
   ],
   "source": [
    "np.arange(20, 0, -2)  # start, stop, step"
   ]
  },
  {
   "cell_type": "code",
   "execution_count": 12,
   "id": "d17fc561a10e946a",
   "metadata": {
    "ExecuteTime": {
     "end_time": "2025-10-19T13:09:13.272585Z",
     "start_time": "2025-10-19T13:09:13.266244Z"
    }
   },
   "outputs": [
    {
     "data": {
      "text/plain": [
       "array(['1', '2', '3', '4', '5'], dtype='<U1')"
      ]
     },
     "execution_count": 12,
     "metadata": {},
     "output_type": "execute_result"
    }
   ],
   "source": [
    "np.array([1, 2, 3, 4, 5], dtype=np.str_)"
   ]
  },
  {
   "cell_type": "code",
   "execution_count": 13,
   "id": "277827d137a876c3",
   "metadata": {
    "ExecuteTime": {
     "end_time": "2025-10-19T13:09:13.314356Z",
     "start_time": "2025-10-19T13:09:13.308098Z"
    }
   },
   "outputs": [
    {
     "name": "stdout",
     "output_type": "stream",
     "text": [
      "[1. 2. 3. 4.]\n",
      "float32\n"
     ]
    }
   ],
   "source": [
    "arr = np.array([\"1\", \"2\", \"3\", \"4\"], dtype=np.float32)\n",
    "\n",
    "print(arr)\n",
    "print(arr.dtype)"
   ]
  },
  {
   "cell_type": "code",
   "execution_count": 14,
   "id": "4e17cafd031408d5",
   "metadata": {
    "ExecuteTime": {
     "end_time": "2025-10-19T13:09:13.454696Z",
     "start_time": "2025-10-19T13:09:13.447814Z"
    }
   },
   "outputs": [
    {
     "data": {
      "text/plain": [
       "array([ 5.  ,  6.25,  7.5 ,  8.75, 10.  ])"
      ]
     },
     "execution_count": 14,
     "metadata": {},
     "output_type": "execute_result"
    }
   ],
   "source": [
    "np.linspace(5, 10, 5)"
   ]
  },
  {
   "cell_type": "code",
   "execution_count": 17,
   "id": "eb10c6d9648ae171",
   "metadata": {
    "ExecuteTime": {
     "end_time": "2025-10-19T13:11:13.209005Z",
     "start_time": "2025-10-19T13:11:13.202019Z"
    }
   },
   "outputs": [
    {
     "data": {
      "text/plain": [
       "array([ 1.,  2.,  9., 10.,  3.,  4.], dtype=float32)"
      ]
     },
     "execution_count": 17,
     "metadata": {},
     "output_type": "execute_result"
    }
   ],
   "source": [
    "np.insert(arr, 2, [9, 10])"
   ]
  },
  {
   "cell_type": "code",
   "execution_count": 29,
   "id": "34d0d4030f5eb5ea",
   "metadata": {
    "ExecuteTime": {
     "end_time": "2025-10-19T13:24:18.810519Z",
     "start_time": "2025-10-19T13:24:18.802775Z"
    }
   },
   "outputs": [
    {
     "data": {
      "text/plain": [
       "array([ 0,  1,  2,  3,  4,  5,  6,  7,  8,  9, 10, 11, 12, 13, 14, 15, 16,\n",
       "       17, 18, 19, 20, 21, 22, 23, 24, 25, 26, 27, 28, 29, 30, 31, 32, 33,\n",
       "       34, 35, 36, 37, 38, 39, 40, 41, 42, 43, 44, 45, 46, 47, 48, 49])"
      ]
     },
     "execution_count": 29,
     "metadata": {},
     "output_type": "execute_result"
    }
   ],
   "source": [
    "arr = np.arange(50)\n",
    "\n",
    "arr[0::1]"
   ]
  },
  {
   "cell_type": "code",
   "execution_count": 49,
   "id": "81f3002fe14d0698",
   "metadata": {
    "ExecuteTime": {
     "end_time": "2025-10-19T13:34:55.736869Z",
     "start_time": "2025-10-19T13:34:55.729884Z"
    }
   },
   "outputs": [
    {
     "data": {
      "text/plain": [
       "array([[ 0,  1,  2,  3,  4,  5,  6,  7,  8,  9],\n",
       "       [30, 31, 32, 33, 34, 35, 36, 37, 38, 39],\n",
       "       [90, 91, 92, 93, 94, 95, 96, 97, 98, 99]])"
      ]
     },
     "execution_count": 49,
     "metadata": {},
     "output_type": "execute_result"
    }
   ],
   "source": [
    "one = np.arange(0, 10, 1)\n",
    "two = np.arange(30, 40, 1)\n",
    "three = np.arange(90, 100, 1)\n",
    "arr = np.array([one, two, three])\n",
    "\n",
    "arr"
   ]
  },
  {
   "cell_type": "code",
   "execution_count": 48,
   "id": "c25f7da5b065c629",
   "metadata": {
    "ExecuteTime": {
     "end_time": "2025-10-19T13:34:43.971470Z",
     "start_time": "2025-10-19T13:34:43.965166Z"
    }
   },
   "outputs": [
    {
     "data": {
      "text/plain": [
       "array([ 9, 39, 99])"
      ]
     },
     "execution_count": 48,
     "metadata": {},
     "output_type": "execute_result"
    }
   ],
   "source": [
    "arr[:, -1]"
   ]
  },
  {
   "cell_type": "code",
   "execution_count": 51,
   "id": "d585ec4d23cbc7f6",
   "metadata": {
    "ExecuteTime": {
     "end_time": "2025-10-19T13:35:41.130649Z",
     "start_time": "2025-10-19T13:35:41.120796Z"
    }
   },
   "outputs": [
    {
     "data": {
      "text/plain": [
       "array([30, 31, 32, 33, 34, 35, 36, 37, 38, 39])"
      ]
     },
     "execution_count": 51,
     "metadata": {},
     "output_type": "execute_result"
    }
   ],
   "source": [
    "arr[1, :]"
   ]
  },
  {
   "cell_type": "code",
   "execution_count": 53,
   "id": "98b6bfb9a57713af",
   "metadata": {
    "ExecuteTime": {
     "end_time": "2025-10-19T13:36:17.696821Z",
     "start_time": "2025-10-19T13:36:17.690786Z"
    }
   },
   "outputs": [
    {
     "data": {
      "text/plain": [
       "array([[ 9,  8,  7,  6,  5,  4,  3,  2,  1,  0],\n",
       "       [39, 38, 37, 36, 35, 34, 33, 32, 31, 30],\n",
       "       [99, 98, 97, 96, 95, 94, 93, 92, 91, 90]])"
      ]
     },
     "execution_count": 53,
     "metadata": {},
     "output_type": "execute_result"
    }
   ],
   "source": [
    "arr[:, ::-1]"
   ]
  },
  {
   "cell_type": "code",
   "execution_count": 55,
   "id": "e6359023b987abfb",
   "metadata": {
    "ExecuteTime": {
     "end_time": "2025-10-19T13:36:37.902169Z",
     "start_time": "2025-10-19T13:36:37.895556Z"
    }
   },
   "outputs": [
    {
     "data": {
      "text/plain": [
       "array([[99, 98, 97, 96, 95, 94, 93, 92, 91, 90],\n",
       "       [39, 38, 37, 36, 35, 34, 33, 32, 31, 30],\n",
       "       [ 9,  8,  7,  6,  5,  4,  3,  2,  1,  0]])"
      ]
     },
     "execution_count": 55,
     "metadata": {},
     "output_type": "execute_result"
    }
   ],
   "source": [
    "arr[::-1, ::-1]"
   ]
  },
  {
   "cell_type": "code",
   "execution_count": null,
   "id": "7ea13d78247c62f3",
   "metadata": {},
   "outputs": [],
   "source": []
  }
 ],
 "metadata": {
  "kernelspec": {
   "display_name": "practice",
   "language": "python",
   "name": "python3"
  },
  "language_info": {
   "codemirror_mode": {
    "name": "ipython",
    "version": 3
   },
   "file_extension": ".py",
   "mimetype": "text/x-python",
   "name": "python",
   "nbconvert_exporter": "python",
   "pygments_lexer": "ipython3",
   "version": "3.13.5"
  }
 },
 "nbformat": 4,
 "nbformat_minor": 5
}
