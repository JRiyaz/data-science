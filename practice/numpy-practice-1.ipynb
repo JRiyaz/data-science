{
 "cells": [
  {
   "cell_type": "code",
   "execution_count": 1,
   "id": "1283fdff",
   "metadata": {
    "ExecuteTime": {
     "end_time": "2025-10-24T13:08:00.169813Z",
     "start_time": "2025-10-24T13:08:00.091163Z"
    }
   },
   "outputs": [],
   "source": [
    "import numpy as np"
   ]
  },
  {
   "cell_type": "code",
   "execution_count": 2,
   "id": "5bb1d094",
   "metadata": {
    "ExecuteTime": {
     "end_time": "2025-10-24T13:08:00.188443Z",
     "start_time": "2025-10-24T13:08:00.180345Z"
    }
   },
   "outputs": [
    {
     "data": {
      "text/plain": [
       "array([1, 3, 4])"
      ]
     },
     "execution_count": 2,
     "metadata": {},
     "output_type": "execute_result"
    }
   ],
   "source": [
    "np.array([1, 3, 4])"
   ]
  },
  {
   "cell_type": "code",
   "execution_count": 3,
   "id": "a55d75c7b535c344",
   "metadata": {
    "ExecuteTime": {
     "end_time": "2025-10-24T13:08:00.214315Z",
     "start_time": "2025-10-24T13:08:00.208167Z"
    }
   },
   "outputs": [
    {
     "data": {
      "text/plain": [
       "array([0, 1, 2, 3, 4, 5, 6, 7, 8, 9])"
      ]
     },
     "execution_count": 3,
     "metadata": {},
     "output_type": "execute_result"
    }
   ],
   "source": [
    "np.arange(10)"
   ]
  },
  {
   "cell_type": "code",
   "execution_count": 4,
   "id": "128a6a3cd8a1a036",
   "metadata": {
    "ExecuteTime": {
     "end_time": "2025-10-24T13:08:00.242282Z",
     "start_time": "2025-10-24T13:08:00.236873Z"
    }
   },
   "outputs": [
    {
     "data": {
      "text/plain": [
       "array([20, 18, 16, 14, 12, 10,  8,  6,  4,  2])"
      ]
     },
     "execution_count": 4,
     "metadata": {},
     "output_type": "execute_result"
    }
   ],
   "source": [
    "np.arange(20, 0, -2)  # start, stop, step"
   ]
  },
  {
   "cell_type": "code",
   "execution_count": 5,
   "id": "d17fc561a10e946a",
   "metadata": {
    "ExecuteTime": {
     "end_time": "2025-10-24T13:08:00.273774Z",
     "start_time": "2025-10-24T13:08:00.267569Z"
    }
   },
   "outputs": [
    {
     "data": {
      "text/plain": [
       "array(['1', '2', '3', '4', '5'], dtype='<U1')"
      ]
     },
     "execution_count": 5,
     "metadata": {},
     "output_type": "execute_result"
    }
   ],
   "source": [
    "np.array([1, 2, 3, 4, 5], dtype=np.str_)"
   ]
  },
  {
   "cell_type": "code",
   "execution_count": 6,
   "id": "277827d137a876c3",
   "metadata": {
    "ExecuteTime": {
     "end_time": "2025-10-24T13:08:00.301996Z",
     "start_time": "2025-10-24T13:08:00.295556Z"
    }
   },
   "outputs": [
    {
     "name": "stdout",
     "output_type": "stream",
     "text": [
      "[1. 2. 3. 4.]\n",
      "float32\n"
     ]
    }
   ],
   "source": [
    "arr = np.array([\"1\", \"2\", \"3\", \"4\"], dtype=np.float32)\n",
    "\n",
    "print(arr)\n",
    "print(arr.dtype)"
   ]
  },
  {
   "cell_type": "code",
   "execution_count": 7,
   "id": "4e17cafd031408d5",
   "metadata": {
    "ExecuteTime": {
     "end_time": "2025-10-24T13:08:00.330505Z",
     "start_time": "2025-10-24T13:08:00.324667Z"
    }
   },
   "outputs": [
    {
     "data": {
      "text/plain": [
       "array([ 5.  ,  6.25,  7.5 ,  8.75, 10.  ])"
      ]
     },
     "execution_count": 7,
     "metadata": {},
     "output_type": "execute_result"
    }
   ],
   "source": [
    "np.linspace(5, 10, 5)"
   ]
  },
  {
   "cell_type": "code",
   "execution_count": 8,
   "id": "eb10c6d9648ae171",
   "metadata": {
    "ExecuteTime": {
     "end_time": "2025-10-24T13:08:00.357113Z",
     "start_time": "2025-10-24T13:08:00.349748Z"
    }
   },
   "outputs": [
    {
     "data": {
      "text/plain": [
       "array([ 1.,  2.,  9., 10.,  3.,  4.], dtype=float32)"
      ]
     },
     "execution_count": 8,
     "metadata": {},
     "output_type": "execute_result"
    }
   ],
   "source": [
    "np.insert(arr, 2, [9, 10])"
   ]
  },
  {
   "cell_type": "code",
   "execution_count": 9,
   "id": "34d0d4030f5eb5ea",
   "metadata": {
    "ExecuteTime": {
     "end_time": "2025-10-24T13:08:00.384109Z",
     "start_time": "2025-10-24T13:08:00.377912Z"
    }
   },
   "outputs": [
    {
     "data": {
      "text/plain": [
       "array([ 0,  1,  2,  3,  4,  5,  6,  7,  8,  9, 10, 11, 12, 13, 14, 15, 16,\n",
       "       17, 18, 19, 20, 21, 22, 23, 24, 25, 26, 27, 28, 29, 30, 31, 32, 33,\n",
       "       34, 35, 36, 37, 38, 39, 40, 41, 42, 43, 44, 45, 46, 47, 48, 49])"
      ]
     },
     "execution_count": 9,
     "metadata": {},
     "output_type": "execute_result"
    }
   ],
   "source": [
    "arr = np.arange(50)\n",
    "\n",
    "arr[0::1]"
   ]
  },
  {
   "cell_type": "code",
   "execution_count": 10,
   "id": "81f3002fe14d0698",
   "metadata": {
    "ExecuteTime": {
     "end_time": "2025-10-24T13:08:00.414549Z",
     "start_time": "2025-10-24T13:08:00.408428Z"
    }
   },
   "outputs": [
    {
     "data": {
      "text/plain": [
       "array([[ 0,  1,  2,  3,  4,  5,  6,  7,  8,  9],\n",
       "       [30, 31, 32, 33, 34, 35, 36, 37, 38, 39],\n",
       "       [90, 91, 92, 93, 94, 95, 96, 97, 98, 99]])"
      ]
     },
     "execution_count": 10,
     "metadata": {},
     "output_type": "execute_result"
    }
   ],
   "source": [
    "one = np.arange(0, 10, 1)\n",
    "two = np.arange(30, 40, 1)\n",
    "three = np.arange(90, 100, 1)\n",
    "arr = np.array([one, two, three])\n",
    "\n",
    "arr"
   ]
  },
  {
   "cell_type": "code",
   "execution_count": 11,
   "id": "c25f7da5b065c629",
   "metadata": {
    "ExecuteTime": {
     "end_time": "2025-10-24T13:08:00.439410Z",
     "start_time": "2025-10-24T13:08:00.434132Z"
    }
   },
   "outputs": [
    {
     "data": {
      "text/plain": [
       "array([ 9, 39, 99])"
      ]
     },
     "execution_count": 11,
     "metadata": {},
     "output_type": "execute_result"
    }
   ],
   "source": [
    "arr[:, -1]"
   ]
  },
  {
   "cell_type": "code",
   "execution_count": 12,
   "id": "d585ec4d23cbc7f6",
   "metadata": {
    "ExecuteTime": {
     "end_time": "2025-10-24T13:08:00.469038Z",
     "start_time": "2025-10-24T13:08:00.461765Z"
    }
   },
   "outputs": [
    {
     "data": {
      "text/plain": [
       "array([30, 31, 32, 33, 34, 35, 36, 37, 38, 39])"
      ]
     },
     "execution_count": 12,
     "metadata": {},
     "output_type": "execute_result"
    }
   ],
   "source": [
    "arr[1, :]"
   ]
  },
  {
   "cell_type": "code",
   "execution_count": 13,
   "id": "98b6bfb9a57713af",
   "metadata": {
    "ExecuteTime": {
     "end_time": "2025-10-24T13:08:00.491922Z",
     "start_time": "2025-10-24T13:08:00.486483Z"
    }
   },
   "outputs": [
    {
     "data": {
      "text/plain": [
       "array([[ 9,  8,  7,  6,  5,  4,  3,  2,  1,  0],\n",
       "       [39, 38, 37, 36, 35, 34, 33, 32, 31, 30],\n",
       "       [99, 98, 97, 96, 95, 94, 93, 92, 91, 90]])"
      ]
     },
     "execution_count": 13,
     "metadata": {},
     "output_type": "execute_result"
    }
   ],
   "source": [
    "arr[:, ::-1]"
   ]
  },
  {
   "cell_type": "code",
   "execution_count": 14,
   "id": "e6359023b987abfb",
   "metadata": {
    "ExecuteTime": {
     "end_time": "2025-10-24T13:08:00.547530Z",
     "start_time": "2025-10-24T13:08:00.541875Z"
    }
   },
   "outputs": [
    {
     "data": {
      "text/plain": [
       "array([[99, 98, 97, 96, 95, 94, 93, 92, 91, 90],\n",
       "       [39, 38, 37, 36, 35, 34, 33, 32, 31, 30],\n",
       "       [ 9,  8,  7,  6,  5,  4,  3,  2,  1,  0]])"
      ]
     },
     "execution_count": 14,
     "metadata": {},
     "output_type": "execute_result"
    }
   ],
   "source": [
    "arr[::-1, ::-1]"
   ]
  },
  {
   "cell_type": "code",
   "execution_count": 16,
   "id": "7ea13d78247c62f3",
   "metadata": {
    "ExecuteTime": {
     "end_time": "2025-10-24T13:08:10.331671Z",
     "start_time": "2025-10-24T13:08:10.325035Z"
    }
   },
   "outputs": [
    {
     "data": {
      "text/plain": [
       "array([[ 9,  8,  7,  6,  5,  4,  3,  2,  1,  0],\n",
       "       [39, 38, 37, 36, 35, 34, 33, 32, 31, 30],\n",
       "       [99, 98, 97, 96, 95, 94, 93, 92, 91, 90]])"
      ]
     },
     "execution_count": 16,
     "metadata": {},
     "output_type": "execute_result"
    }
   ],
   "source": [
    "np.flip(arr, axis=1)"
   ]
  },
  {
   "cell_type": "code",
   "execution_count": 17,
   "id": "6e3b4ba747e6f093",
   "metadata": {
    "ExecuteTime": {
     "end_time": "2025-10-24T13:09:32.058105Z",
     "start_time": "2025-10-24T13:09:32.051702Z"
    }
   },
   "outputs": [
    {
     "data": {
      "text/plain": [
       "array([[1, 2, 3],\n",
       "       [4, 5, 6],\n",
       "       [7, 8, 9]])"
      ]
     },
     "execution_count": 17,
     "metadata": {},
     "output_type": "execute_result"
    }
   ],
   "source": [
    "arr = np.array([[1, 2, 3], [4, 5, 6], [7, 8, 9]])\n",
    "arr"
   ]
  },
  {
   "cell_type": "code",
   "execution_count": 19,
   "id": "99389be84aac995c",
   "metadata": {
    "ExecuteTime": {
     "end_time": "2025-10-24T13:10:14.335040Z",
     "start_time": "2025-10-24T13:10:14.328861Z"
    }
   },
   "outputs": [
    {
     "data": {
      "text/plain": [
       "array([[7, 8, 9],\n",
       "       [4, 5, 6],\n",
       "       [1, 2, 3]])"
      ]
     },
     "execution_count": 19,
     "metadata": {},
     "output_type": "execute_result"
    }
   ],
   "source": [
    "np.flip(arr, axis=0)"
   ]
  },
  {
   "cell_type": "code",
   "execution_count": 20,
   "id": "7545d5d71816ed99",
   "metadata": {
    "ExecuteTime": {
     "end_time": "2025-10-24T13:10:31.802221Z",
     "start_time": "2025-10-24T13:10:31.796812Z"
    }
   },
   "outputs": [
    {
     "data": {
      "text/plain": [
       "array([[3, 2, 1],\n",
       "       [6, 5, 4],\n",
       "       [9, 8, 7]])"
      ]
     },
     "execution_count": 20,
     "metadata": {},
     "output_type": "execute_result"
    }
   ],
   "source": [
    "np.flip(arr, axis=1)"
   ]
  },
  {
   "cell_type": "code",
   "execution_count": 34,
   "id": "63c0aefc4414ce75",
   "metadata": {
    "ExecuteTime": {
     "end_time": "2025-10-24T13:14:47.266217Z",
     "start_time": "2025-10-24T13:14:47.260061Z"
    }
   },
   "outputs": [
    {
     "data": {
      "text/plain": [
       "((3, 2), (3, 2))"
      ]
     },
     "execution_count": 34,
     "metadata": {},
     "output_type": "execute_result"
    }
   ],
   "source": [
    "a = np.array([[1, 2], [3, 4], [5, 6]])\n",
    "b = np.array([[5, 6], [7, 8], [9, 10]])\n",
    "\n",
    "a.shape, b.shape"
   ]
  },
  {
   "cell_type": "code",
   "execution_count": 35,
   "id": "5678c11cae8a5534",
   "metadata": {
    "ExecuteTime": {
     "end_time": "2025-10-24T13:14:47.588990Z",
     "start_time": "2025-10-24T13:14:47.582928Z"
    }
   },
   "outputs": [
    {
     "data": {
      "text/plain": [
       "array([[ 1,  2,  5,  6],\n",
       "       [ 3,  4,  7,  8],\n",
       "       [ 5,  6,  9, 10]])"
      ]
     },
     "execution_count": 35,
     "metadata": {},
     "output_type": "execute_result"
    }
   ],
   "source": [
    "np.hstack([a, b])  # Rows should be same"
   ]
  },
  {
   "cell_type": "code",
   "execution_count": 36,
   "id": "e4e7910b4d7784bf",
   "metadata": {
    "ExecuteTime": {
     "end_time": "2025-10-24T13:14:48.116007Z",
     "start_time": "2025-10-24T13:14:48.110074Z"
    }
   },
   "outputs": [
    {
     "data": {
      "text/plain": [
       "array([[ 1,  2],\n",
       "       [ 3,  4],\n",
       "       [ 5,  6],\n",
       "       [ 5,  6],\n",
       "       [ 7,  8],\n",
       "       [ 9, 10]])"
      ]
     },
     "execution_count": 36,
     "metadata": {},
     "output_type": "execute_result"
    }
   ],
   "source": [
    "np.vstack([a, b])  # Columns should be same"
   ]
  },
  {
   "cell_type": "code",
   "execution_count": 37,
   "id": "8d08243d66148c31",
   "metadata": {
    "ExecuteTime": {
     "end_time": "2025-10-24T13:16:11.140392Z",
     "start_time": "2025-10-24T13:16:11.134097Z"
    }
   },
   "outputs": [
    {
     "data": {
      "text/plain": [
       "array([[ 1,  2,  5,  6,  7],\n",
       "       [ 3,  4,  7,  8,  9],\n",
       "       [ 5,  6,  9, 10, 11]])"
      ]
     },
     "execution_count": 37,
     "metadata": {},
     "output_type": "execute_result"
    }
   ],
   "source": [
    "# For h-stack the rows should be same\n",
    "\n",
    "a = np.array([[1, 2], [3, 4], [5, 6]])  # 3 rows, 2 columns\n",
    "b = np.array([[5, 6, 7], [7, 8, 9], [9, 10, 11]])  # 3 rows, 3 columns\n",
    "\n",
    "# Here rows are same, so we can perform hstack\n",
    "np.hstack([a, b])"
   ]
  },
  {
   "cell_type": "code",
   "execution_count": 38,
   "id": "fcd4e9535d3b6a96",
   "metadata": {
    "ExecuteTime": {
     "end_time": "2025-10-24T13:18:03.007441Z",
     "start_time": "2025-10-24T13:18:02.999626Z"
    }
   },
   "outputs": [
    {
     "data": {
      "text/plain": [
       "array([[ 1,  2],\n",
       "       [ 3,  4],\n",
       "       [ 5,  6],\n",
       "       [ 5,  6],\n",
       "       [ 7,  8],\n",
       "       [ 9, 10],\n",
       "       [11, 12]])"
      ]
     },
     "execution_count": 38,
     "metadata": {},
     "output_type": "execute_result"
    }
   ],
   "source": [
    "# For V-stack the columns should be same\n",
    "a = np.array([[1, 2], [3, 4], [5, 6]])  # 3 rows, 2 columns\n",
    "b = np.array([[5, 6], [7, 8], [9, 10], [11, 12]])  # 4 rows, 2 columns\n",
    "\n",
    "np.vstack([a, b])"
   ]
  },
  {
   "cell_type": "code",
   "execution_count": null,
   "id": "b9084f76b875566a",
   "metadata": {},
   "outputs": [],
   "source": []
  }
 ],
 "metadata": {
  "kernelspec": {
   "display_name": "practice",
   "language": "python",
   "name": "python3"
  },
  "language_info": {
   "codemirror_mode": {
    "name": "ipython",
    "version": 3
   },
   "file_extension": ".py",
   "mimetype": "text/x-python",
   "name": "python",
   "nbconvert_exporter": "python",
   "pygments_lexer": "ipython3",
   "version": "3.13.5"
  }
 },
 "nbformat": 4,
 "nbformat_minor": 5
}
