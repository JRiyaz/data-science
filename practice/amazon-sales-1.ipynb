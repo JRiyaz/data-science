{
 "cells": [
  {
   "cell_type": "code",
   "execution_count": 1,
   "id": "initial_id",
   "metadata": {
    "ExecuteTime": {
     "end_time": "2025-10-24T18:52:37.636914Z",
     "start_time": "2025-10-24T18:52:37.328806Z"
    },
    "collapsed": true
   },
   "outputs": [],
   "source": [
    "import pandas as pd"
   ]
  },
  {
   "cell_type": "code",
   "execution_count": 3,
   "id": "afda43e4c72e5f78",
   "metadata": {
    "ExecuteTime": {
     "end_time": "2025-10-24T19:14:07.835091Z",
     "start_time": "2025-10-24T19:14:07.795237Z"
    }
   },
   "outputs": [
    {
     "name": "stdout",
     "output_type": "stream",
     "text": [
      "<class 'pandas.core.frame.DataFrame'>\n",
      "RangeIndex: 1569 entries, 0 to 1568\n",
      "Data columns (total 11 columns):\n",
      " #   Column            Non-Null Count  Dtype  \n",
      "---  ------            --------------  -----  \n",
      " 0   Unnamed: 0        1569 non-null   int64  \n",
      " 1   product_id        1569 non-null   object \n",
      " 2   product_name      1569 non-null   object \n",
      " 3   category          1559 non-null   object \n",
      " 4   discounted_price  1556 non-null   object \n",
      " 5   actual_price      1561 non-null   object \n",
      " 6   rating            1552 non-null   float64\n",
      " 7   rating_count      1566 non-null   float64\n",
      " 8   about_product     1569 non-null   object \n",
      " 9   img_link          1569 non-null   object \n",
      " 10  product_link      1569 non-null   object \n",
      "dtypes: float64(2), int64(1), object(8)\n",
      "memory usage: 135.0+ KB\n"
     ]
    }
   ],
   "source": [
    "from pathlib import Path\n",
    "\n",
    "path = Path().joinpath(\"..\", \"data\", \"products.csv\")\n",
    "products = pd.read_csv(path)\n",
    "products.info()"
   ]
  },
  {
   "cell_type": "code",
   "execution_count": null,
   "id": "96481ab365a4941f",
   "metadata": {},
   "outputs": [],
   "source": []
  }
 ],
 "metadata": {
  "kernelspec": {
   "display_name": "Python 3",
   "language": "python",
   "name": "python3"
  },
  "language_info": {
   "codemirror_mode": {
    "name": "ipython",
    "version": 2
   },
   "file_extension": ".py",
   "mimetype": "text/x-python",
   "name": "python",
   "nbconvert_exporter": "python",
   "pygments_lexer": "ipython2",
   "version": "2.7.6"
  }
 },
 "nbformat": 4,
 "nbformat_minor": 5
}
