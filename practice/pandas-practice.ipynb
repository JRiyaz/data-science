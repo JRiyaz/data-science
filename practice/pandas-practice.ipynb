{
 "cells": [
  {
   "cell_type": "code",
   "execution_count": 1,
   "id": "initial_id",
   "metadata": {
    "ExecuteTime": {
     "end_time": "2025-10-25T14:54:59.119571Z",
     "start_time": "2025-10-25T14:54:58.778824Z"
    },
    "collapsed": true
   },
   "outputs": [],
   "source": [
    "import numpy as np\n",
    "import pandas as pd"
   ]
  },
  {
   "cell_type": "code",
   "execution_count": 2,
   "id": "4b5fb01e1e6a0161",
   "metadata": {
    "ExecuteTime": {
     "end_time": "2025-10-25T14:54:59.135692Z",
     "start_time": "2025-10-25T14:54:59.128426Z"
    }
   },
   "outputs": [
    {
     "data": {
      "text/plain": [
       "0      1\n",
       "1      5\n",
       "2      9\n",
       "3     13\n",
       "4     17\n",
       "5     21\n",
       "6     25\n",
       "7     29\n",
       "8     33\n",
       "9     37\n",
       "10    41\n",
       "11    45\n",
       "12    49\n",
       "dtype: int64"
      ]
     },
     "execution_count": 2,
     "metadata": {},
     "output_type": "execute_result"
    }
   ],
   "source": [
    "srs = pd.Series(np.arange(1, 50, 4))\n",
    "srs"
   ]
  },
  {
   "cell_type": "code",
   "execution_count": 3,
   "id": "1d57c3c9cd631373",
   "metadata": {
    "ExecuteTime": {
     "end_time": "2025-10-25T14:54:59.153314Z",
     "start_time": "2025-10-25T14:54:59.149097Z"
    }
   },
   "outputs": [
    {
     "data": {
      "text/plain": [
       "np.int64(5)"
      ]
     },
     "execution_count": 3,
     "metadata": {},
     "output_type": "execute_result"
    }
   ],
   "source": [
    "srs[1]"
   ]
  },
  {
   "cell_type": "code",
   "execution_count": 4,
   "id": "ff35b6eb38f591f0",
   "metadata": {
    "ExecuteTime": {
     "end_time": "2025-10-25T14:54:59.179658Z",
     "start_time": "2025-10-25T14:54:59.166638Z"
    }
   },
   "outputs": [
    {
     "data": {
      "text/html": [
       "<div>\n",
       "<style scoped>\n",
       "    .dataframe tbody tr th:only-of-type {\n",
       "        vertical-align: middle;\n",
       "    }\n",
       "\n",
       "    .dataframe tbody tr th {\n",
       "        vertical-align: top;\n",
       "    }\n",
       "\n",
       "    .dataframe thead th {\n",
       "        text-align: right;\n",
       "    }\n",
       "</style>\n",
       "<table border=\"1\" class=\"dataframe\">\n",
       "  <thead>\n",
       "    <tr style=\"text-align: right;\">\n",
       "      <th></th>\n",
       "      <th>Name</th>\n",
       "      <th>Gender</th>\n",
       "      <th>Profession</th>\n",
       "    </tr>\n",
       "  </thead>\n",
       "  <tbody>\n",
       "    <tr>\n",
       "      <th>0</th>\n",
       "      <td>John</td>\n",
       "      <td>M</td>\n",
       "      <td>Athlete</td>\n",
       "    </tr>\n",
       "    <tr>\n",
       "      <th>1</th>\n",
       "      <td>Jim</td>\n",
       "      <td>F</td>\n",
       "      <td>Tech</td>\n",
       "    </tr>\n",
       "    <tr>\n",
       "      <th>2</th>\n",
       "      <td>Carrie</td>\n",
       "      <td>M</td>\n",
       "      <td>Cricketer</td>\n",
       "    </tr>\n",
       "    <tr>\n",
       "      <th>3</th>\n",
       "      <td>Morris</td>\n",
       "      <td>M</td>\n",
       "      <td>Actor</td>\n",
       "    </tr>\n",
       "  </tbody>\n",
       "</table>\n",
       "</div>"
      ],
      "text/plain": [
       "     Name Gender Profession\n",
       "0    John      M    Athlete\n",
       "1     Jim      F       Tech\n",
       "2  Carrie      M  Cricketer\n",
       "3  Morris      M      Actor"
      ]
     },
     "execution_count": 4,
     "metadata": {},
     "output_type": "execute_result"
    }
   ],
   "source": [
    "data = {\n",
    "    \"Name\": [\"John\", \"Jim\", \"Carrie\", \"Morris\"],\n",
    "    \"Gender\": [\"M\", \"F\", \"M\", \"M\"],\n",
    "    \"Profession\": [\"Athlete\", \"Tech\", \"Cricketer\", \"Actor\"],\n",
    "}\n",
    "\n",
    "df = pd.DataFrame(data)\n",
    "df"
   ]
  },
  {
   "cell_type": "code",
   "execution_count": 5,
   "id": "fd3bffd78a74dd90",
   "metadata": {
    "ExecuteTime": {
     "end_time": "2025-10-25T14:54:59.220168Z",
     "start_time": "2025-10-25T14:54:59.197623Z"
    }
   },
   "outputs": [
    {
     "name": "stdout",
     "output_type": "stream",
     "text": [
      "<class 'pandas.core.frame.DataFrame'>\n",
      "RangeIndex: 10 entries, 0 to 9\n",
      "Data columns (total 14 columns):\n",
      " #   Column       Non-Null Count  Dtype  \n",
      "---  ------       --------------  -----  \n",
      " 0   survived     10 non-null     int64  \n",
      " 1   pclass       10 non-null     int64  \n",
      " 2   sex          10 non-null     object \n",
      " 3   age          8 non-null      float64\n",
      " 4   sibsp        10 non-null     int64  \n",
      " 5   parch        10 non-null     int64  \n",
      " 6   fare         10 non-null     float64\n",
      " 7   embarked     10 non-null     object \n",
      " 8   class        10 non-null     object \n",
      " 9   adult_male   10 non-null     bool   \n",
      " 10  embark_town  10 non-null     object \n",
      " 11  pclass_1     10 non-null     int64  \n",
      " 12  price        10 non-null     float64\n",
      " 13  gender       10 non-null     object \n",
      "dtypes: bool(1), float64(3), int64(5), object(5)\n",
      "memory usage: 1.2+ KB\n"
     ]
    }
   ],
   "source": [
    "from pathlib import Path\n",
    "\n",
    "path = Path().joinpath(\"..\", \"data\", \"titanic.csv\")\n",
    "titanic = pd.read_csv(path)\n",
    "titanic.info()"
   ]
  },
  {
   "cell_type": "code",
   "execution_count": 6,
   "id": "e8314844f6ad8831",
   "metadata": {
    "ExecuteTime": {
     "end_time": "2025-10-25T14:54:59.259188Z",
     "start_time": "2025-10-25T14:54:59.237810Z"
    }
   },
   "outputs": [
    {
     "name": "stdout",
     "output_type": "stream",
     "text": [
      "<class 'pandas.core.frame.DataFrame'>\n",
      "Index: 32 entries, Mazda RX4 to Volvo 142E\n",
      "Data columns (total 11 columns):\n",
      " #   Column  Non-Null Count  Dtype  \n",
      "---  ------  --------------  -----  \n",
      " 0   mpg     32 non-null     float64\n",
      " 1   cyl     32 non-null     int64  \n",
      " 2   disp    32 non-null     float64\n",
      " 3   hp      32 non-null     int64  \n",
      " 4   drat    32 non-null     float64\n",
      " 5   wt      32 non-null     float64\n",
      " 6   qsec    32 non-null     float64\n",
      " 7   vs      32 non-null     int64  \n",
      " 8   am      32 non-null     int64  \n",
      " 9   gear    32 non-null     int64  \n",
      " 10  carb    32 non-null     int64  \n",
      "dtypes: float64(5), int64(6)\n",
      "memory usage: 3.0+ KB\n"
     ]
    }
   ],
   "source": [
    "cars = pd.read_csv(path.parent.joinpath(\"mtcars.csv\"), index_col=0)\n",
    "cars.info()"
   ]
  },
  {
   "cell_type": "code",
   "execution_count": 7,
   "id": "b2c12bc337c1f45a",
   "metadata": {
    "ExecuteTime": {
     "end_time": "2025-10-25T14:55:00.315796Z",
     "start_time": "2025-10-25T14:54:59.267336Z"
    }
   },
   "outputs": [
    {
     "name": "stdout",
     "output_type": "stream",
     "text": [
      "<class 'pandas.core.frame.DataFrame'>\n",
      "RangeIndex: 1067371 entries, 0 to 1067370\n",
      "Data columns (total 8 columns):\n",
      " #   Column       Non-Null Count    Dtype  \n",
      "---  ------       --------------    -----  \n",
      " 0   Invoice      1067371 non-null  object \n",
      " 1   StockCode    1067371 non-null  object \n",
      " 2   Description  1062989 non-null  object \n",
      " 3   Quantity     1067371 non-null  int64  \n",
      " 4   InvoiceDate  1067371 non-null  object \n",
      " 5   Price        1067371 non-null  float64\n",
      " 6   Customer ID  824364 non-null   float64\n",
      " 7   Country      1067371 non-null  object \n",
      "dtypes: float64(2), int64(1), object(5)\n",
      "memory usage: 65.1+ MB\n"
     ]
    }
   ],
   "source": [
    "sales = pd.read_csv(path.parent.joinpath(\"sales.csv\"))\n",
    "sales.info()"
   ]
  },
  {
   "cell_type": "code",
   "execution_count": 8,
   "id": "e1d6f84f795673a5",
   "metadata": {
    "ExecuteTime": {
     "end_time": "2025-10-25T14:55:00.332520Z",
     "start_time": "2025-10-25T14:55:00.321785Z"
    }
   },
   "outputs": [
    {
     "data": {
      "text/html": [
       "<div>\n",
       "<style scoped>\n",
       "    .dataframe tbody tr th:only-of-type {\n",
       "        vertical-align: middle;\n",
       "    }\n",
       "\n",
       "    .dataframe tbody tr th {\n",
       "        vertical-align: top;\n",
       "    }\n",
       "\n",
       "    .dataframe thead th {\n",
       "        text-align: right;\n",
       "    }\n",
       "</style>\n",
       "<table border=\"1\" class=\"dataframe\">\n",
       "  <thead>\n",
       "    <tr style=\"text-align: right;\">\n",
       "      <th></th>\n",
       "      <th>Invoice</th>\n",
       "      <th>StockCode</th>\n",
       "      <th>Description</th>\n",
       "      <th>Quantity</th>\n",
       "      <th>InvoiceDate</th>\n",
       "      <th>Price</th>\n",
       "      <th>Customer ID</th>\n",
       "      <th>Country</th>\n",
       "    </tr>\n",
       "  </thead>\n",
       "  <tbody>\n",
       "    <tr>\n",
       "      <th>0</th>\n",
       "      <td>489434</td>\n",
       "      <td>85048</td>\n",
       "      <td>15CM CHRISTMAS GLASS BALL 20 LIGHTS</td>\n",
       "      <td>12</td>\n",
       "      <td>2009-12-01 07:45:00</td>\n",
       "      <td>6.95</td>\n",
       "      <td>13085.0</td>\n",
       "      <td>United Kingdom</td>\n",
       "    </tr>\n",
       "    <tr>\n",
       "      <th>1</th>\n",
       "      <td>489434</td>\n",
       "      <td>79323P</td>\n",
       "      <td>PINK CHERRY LIGHTS</td>\n",
       "      <td>12</td>\n",
       "      <td>2009-12-01 07:45:00</td>\n",
       "      <td>6.75</td>\n",
       "      <td>13085.0</td>\n",
       "      <td>United Kingdom</td>\n",
       "    </tr>\n",
       "    <tr>\n",
       "      <th>2</th>\n",
       "      <td>489434</td>\n",
       "      <td>79323W</td>\n",
       "      <td>WHITE CHERRY LIGHTS</td>\n",
       "      <td>12</td>\n",
       "      <td>2009-12-01 07:45:00</td>\n",
       "      <td>6.75</td>\n",
       "      <td>13085.0</td>\n",
       "      <td>United Kingdom</td>\n",
       "    </tr>\n",
       "    <tr>\n",
       "      <th>3</th>\n",
       "      <td>489434</td>\n",
       "      <td>22041</td>\n",
       "      <td>RECORD FRAME 7\" SINGLE SIZE</td>\n",
       "      <td>48</td>\n",
       "      <td>2009-12-01 07:45:00</td>\n",
       "      <td>2.10</td>\n",
       "      <td>13085.0</td>\n",
       "      <td>United Kingdom</td>\n",
       "    </tr>\n",
       "    <tr>\n",
       "      <th>4</th>\n",
       "      <td>489434</td>\n",
       "      <td>21232</td>\n",
       "      <td>STRAWBERRY CERAMIC TRINKET BOX</td>\n",
       "      <td>24</td>\n",
       "      <td>2009-12-01 07:45:00</td>\n",
       "      <td>1.25</td>\n",
       "      <td>13085.0</td>\n",
       "      <td>United Kingdom</td>\n",
       "    </tr>\n",
       "  </tbody>\n",
       "</table>\n",
       "</div>"
      ],
      "text/plain": [
       "  Invoice StockCode                          Description  Quantity  \\\n",
       "0  489434     85048  15CM CHRISTMAS GLASS BALL 20 LIGHTS        12   \n",
       "1  489434    79323P                   PINK CHERRY LIGHTS        12   \n",
       "2  489434    79323W                  WHITE CHERRY LIGHTS        12   \n",
       "3  489434     22041         RECORD FRAME 7\" SINGLE SIZE         48   \n",
       "4  489434     21232       STRAWBERRY CERAMIC TRINKET BOX        24   \n",
       "\n",
       "           InvoiceDate  Price  Customer ID         Country  \n",
       "0  2009-12-01 07:45:00   6.95      13085.0  United Kingdom  \n",
       "1  2009-12-01 07:45:00   6.75      13085.0  United Kingdom  \n",
       "2  2009-12-01 07:45:00   6.75      13085.0  United Kingdom  \n",
       "3  2009-12-01 07:45:00   2.10      13085.0  United Kingdom  \n",
       "4  2009-12-01 07:45:00   1.25      13085.0  United Kingdom  "
      ]
     },
     "execution_count": 8,
     "metadata": {},
     "output_type": "execute_result"
    }
   ],
   "source": [
    "sales.head()"
   ]
  },
  {
   "cell_type": "code",
   "execution_count": 9,
   "id": "baef3b7739763c69",
   "metadata": {
    "ExecuteTime": {
     "end_time": "2025-10-25T14:55:00.352553Z",
     "start_time": "2025-10-25T14:55:00.339568Z"
    }
   },
   "outputs": [],
   "source": [
    "# Find the Invoice number and Customer ID of the highest amount of purchase based on the given Sales data?\n",
    "# Setup 1:\n",
    "sales[\"Total_amount\"] = sales[\"Quantity\"] * sales[\"Price\"]"
   ]
  },
  {
   "cell_type": "code",
   "execution_count": 10,
   "id": "ad805c37846bd195",
   "metadata": {
    "ExecuteTime": {
     "end_time": "2025-10-25T14:55:00.559028Z",
     "start_time": "2025-10-25T14:55:00.360335Z"
    }
   },
   "outputs": [
    {
     "data": {
      "text/html": [
       "<div>\n",
       "<style scoped>\n",
       "    .dataframe tbody tr th:only-of-type {\n",
       "        vertical-align: middle;\n",
       "    }\n",
       "\n",
       "    .dataframe tbody tr th {\n",
       "        vertical-align: top;\n",
       "    }\n",
       "\n",
       "    .dataframe thead th {\n",
       "        text-align: right;\n",
       "    }\n",
       "</style>\n",
       "<table border=\"1\" class=\"dataframe\">\n",
       "  <thead>\n",
       "    <tr style=\"text-align: right;\">\n",
       "      <th></th>\n",
       "      <th>Invoice</th>\n",
       "      <th>Customer ID</th>\n",
       "      <th>Total_amount</th>\n",
       "    </tr>\n",
       "  </thead>\n",
       "  <tbody>\n",
       "    <tr>\n",
       "      <th>0</th>\n",
       "      <td>489434</td>\n",
       "      <td>13085.0</td>\n",
       "      <td>505.30</td>\n",
       "    </tr>\n",
       "    <tr>\n",
       "      <th>1</th>\n",
       "      <td>489435</td>\n",
       "      <td>13085.0</td>\n",
       "      <td>145.80</td>\n",
       "    </tr>\n",
       "    <tr>\n",
       "      <th>2</th>\n",
       "      <td>489436</td>\n",
       "      <td>13078.0</td>\n",
       "      <td>630.33</td>\n",
       "    </tr>\n",
       "    <tr>\n",
       "      <th>3</th>\n",
       "      <td>489437</td>\n",
       "      <td>15362.0</td>\n",
       "      <td>310.75</td>\n",
       "    </tr>\n",
       "    <tr>\n",
       "      <th>4</th>\n",
       "      <td>489438</td>\n",
       "      <td>18102.0</td>\n",
       "      <td>2286.24</td>\n",
       "    </tr>\n",
       "  </tbody>\n",
       "</table>\n",
       "</div>"
      ],
      "text/plain": [
       "  Invoice  Customer ID  Total_amount\n",
       "0  489434      13085.0        505.30\n",
       "1  489435      13085.0        145.80\n",
       "2  489436      13078.0        630.33\n",
       "3  489437      15362.0        310.75\n",
       "4  489438      18102.0       2286.24"
      ]
     },
     "execution_count": 10,
     "metadata": {},
     "output_type": "execute_result"
    }
   ],
   "source": [
    "# Step 2:\n",
    "invoice_sales = sales.groupby([\"Invoice\", \"Customer ID\"])[\"Total_amount\"].sum().reset_index()\n",
    "invoice_sales.head()"
   ]
  },
  {
   "cell_type": "code",
   "execution_count": 11,
   "id": "abf498d345dabbbe",
   "metadata": {
    "ExecuteTime": {
     "end_time": "2025-10-25T14:55:00.574492Z",
     "start_time": "2025-10-25T14:55:00.571051Z"
    }
   },
   "outputs": [],
   "source": [
    "# `idxmax` will return the index at which the max of Total_amount is found. Using the index we can get the row.\n",
    "max_purchase = invoice_sales.loc[invoice_sales[\"Total_amount\"].idxmax()]"
   ]
  },
  {
   "cell_type": "code",
   "execution_count": 12,
   "id": "a2278de94991f4f",
   "metadata": {
    "ExecuteTime": {
     "end_time": "2025-10-25T14:55:00.586946Z",
     "start_time": "2025-10-25T14:55:00.581996Z"
    }
   },
   "outputs": [
    {
     "data": {
      "text/plain": [
       "('581483', np.float64(16446.0))"
      ]
     },
     "execution_count": 12,
     "metadata": {},
     "output_type": "execute_result"
    }
   ],
   "source": [
    "invoice_number = max_purchase[\"Invoice\"]\n",
    "customer_id = max_purchase[\"Customer ID\"]\n",
    "invoice_number, customer_id"
   ]
  },
  {
   "cell_type": "code",
   "execution_count": 19,
   "id": "d72ece009e59df9a",
   "metadata": {
    "ExecuteTime": {
     "end_time": "2025-10-25T15:04:40.771467Z",
     "start_time": "2025-10-25T15:04:40.761130Z"
    }
   },
   "outputs": [
    {
     "data": {
      "text/html": [
       "<div>\n",
       "<style scoped>\n",
       "    .dataframe tbody tr th:only-of-type {\n",
       "        vertical-align: middle;\n",
       "    }\n",
       "\n",
       "    .dataframe tbody tr th {\n",
       "        vertical-align: top;\n",
       "    }\n",
       "\n",
       "    .dataframe thead th {\n",
       "        text-align: right;\n",
       "    }\n",
       "</style>\n",
       "<table border=\"1\" class=\"dataframe\">\n",
       "  <thead>\n",
       "    <tr style=\"text-align: right;\">\n",
       "      <th></th>\n",
       "      <th>income</th>\n",
       "    </tr>\n",
       "    <tr>\n",
       "      <th>gender</th>\n",
       "      <th></th>\n",
       "    </tr>\n",
       "  </thead>\n",
       "  <tbody>\n",
       "    <tr>\n",
       "      <th>F</th>\n",
       "      <td>36000.0</td>\n",
       "    </tr>\n",
       "    <tr>\n",
       "      <th>M</th>\n",
       "      <td>39000.0</td>\n",
       "    </tr>\n",
       "  </tbody>\n",
       "</table>\n",
       "</div>"
      ],
      "text/plain": [
       "         income\n",
       "gender         \n",
       "F       36000.0\n",
       "M       39000.0"
      ]
     },
     "execution_count": 19,
     "metadata": {},
     "output_type": "execute_result"
    }
   ],
   "source": [
    "\"\"\"\n",
    "Problem Statement:\n",
    "\n",
    "Given a dataframe df having the income details for different individuals.\n",
    "Return a Series that contains the gender-wise average income.\n",
    "\n",
    "Input Format:\n",
    "    A DataFrame\n",
    "Output Format:\n",
    "    A DataFrame\n",
    "\"\"\"\n",
    "\n",
    "data = {\n",
    "    \"name\": [\"Elon\", \"Jeff\", \"Bill\", \"Falguni\"],\n",
    "    \"gender\": [\"M\", \"F\", \"M\", \"F\"],\n",
    "    \"income\": [53000.0, 28000.0, 25000.0, 44000.0],\n",
    "}\n",
    "\n",
    "df = pd.DataFrame(data)\n",
    "\n",
    "res = df.groupby(\"gender\")[[\"income\"]].mean()\n",
    "res"
   ]
  },
  {
   "cell_type": "code",
   "execution_count": 25,
   "id": "a4cf8de22e731750",
   "metadata": {
    "ExecuteTime": {
     "end_time": "2025-10-25T15:25:08.124190Z",
     "start_time": "2025-10-25T15:25:08.107045Z"
    }
   },
   "outputs": [
    {
     "data": {
      "text/html": [
       "<div>\n",
       "<style scoped>\n",
       "    .dataframe tbody tr th:only-of-type {\n",
       "        vertical-align: middle;\n",
       "    }\n",
       "\n",
       "    .dataframe tbody tr th {\n",
       "        vertical-align: top;\n",
       "    }\n",
       "\n",
       "    .dataframe thead th {\n",
       "        text-align: right;\n",
       "    }\n",
       "</style>\n",
       "<table border=\"1\" class=\"dataframe\">\n",
       "  <thead>\n",
       "    <tr style=\"text-align: right;\">\n",
       "      <th></th>\n",
       "      <th>salesman_id</th>\n",
       "      <th>customer_id</th>\n",
       "      <th>ord_no</th>\n",
       "    </tr>\n",
       "  </thead>\n",
       "  <tbody>\n",
       "    <tr>\n",
       "      <th>0</th>\n",
       "      <td>5001</td>\n",
       "      <td>3002</td>\n",
       "      <td>3</td>\n",
       "    </tr>\n",
       "    <tr>\n",
       "      <th>1</th>\n",
       "      <td>5001</td>\n",
       "      <td>3007</td>\n",
       "      <td>1</td>\n",
       "    </tr>\n",
       "    <tr>\n",
       "      <th>2</th>\n",
       "      <td>5002</td>\n",
       "      <td>3005</td>\n",
       "      <td>2</td>\n",
       "    </tr>\n",
       "    <tr>\n",
       "      <th>3</th>\n",
       "      <td>5002</td>\n",
       "      <td>3008</td>\n",
       "      <td>1</td>\n",
       "    </tr>\n",
       "    <tr>\n",
       "      <th>4</th>\n",
       "      <td>5003</td>\n",
       "      <td>3009</td>\n",
       "      <td>2</td>\n",
       "    </tr>\n",
       "    <tr>\n",
       "      <th>5</th>\n",
       "      <td>5005</td>\n",
       "      <td>3001</td>\n",
       "      <td>1</td>\n",
       "    </tr>\n",
       "    <tr>\n",
       "      <th>6</th>\n",
       "      <td>5006</td>\n",
       "      <td>3004</td>\n",
       "      <td>1</td>\n",
       "    </tr>\n",
       "    <tr>\n",
       "      <th>7</th>\n",
       "      <td>5007</td>\n",
       "      <td>3003</td>\n",
       "      <td>1</td>\n",
       "    </tr>\n",
       "  </tbody>\n",
       "</table>\n",
       "</div>"
      ],
      "text/plain": [
       "   salesman_id  customer_id  ord_no\n",
       "0         5001         3002       3\n",
       "1         5001         3007       1\n",
       "2         5002         3005       2\n",
       "3         5002         3008       1\n",
       "4         5003         3009       2\n",
       "5         5005         3001       1\n",
       "6         5006         3004       1\n",
       "7         5007         3003       1"
      ]
     },
     "execution_count": 25,
     "metadata": {},
     "output_type": "execute_result"
    }
   ],
   "source": [
    "\"\"\"\n",
    "Problem Description:\n",
    "\n",
    "Given a dataset about salesperson and customer orders, the task is to group the data as per salesman_id and customer_id, and return a new dataframe with the ord_no count for each salesman_id and customer_id pair.\n",
    "\n",
    "Input Format:\n",
    "    The first line of the input contains the dataframe, in the form of a dictionary.\n",
    "\n",
    "Output Format:\n",
    "    The new dataframe\n",
    "\n",
    "Sample Explanation:\n",
    "    The data is grouped by salesman_id and customer_id, with the count of each (as in salesman_id 5001 with customer_id 3002 appears 3 times, and so on).\n",
    "\"\"\"\n",
    "\n",
    "data = {\n",
    "    \"ord_no\": [70001, 70009, 70002, 70004, 70007, 70005, 70008, 70010, 70003, 70012, 70011, 70013],\n",
    "    \"purch_amt\": [150.50, 270.65, 65.26, 110.50, 948.50, 2400.60, 5760.00, 1983.43, 2480.40, 250.45, 75.29, 3045.60],\n",
    "    \"ord_date\": [\n",
    "        \"2012-10-05\",\n",
    "        \"2012-09-10\",\n",
    "        \"2012-10-05\",\n",
    "        \"2012-08-17\",\n",
    "        \"2012-09-10\",\n",
    "        \"2012-07-27\",\n",
    "        \"2012-09-10\",\n",
    "        \"2012-10-10\",\n",
    "        \"2012-10-10\",\n",
    "        \"2012-06-27\",\n",
    "        \"2012-08-17\",\n",
    "        \"2012-04-25\",\n",
    "    ],\n",
    "    \"customer_id\": [3005, 3001, 3002, 3009, 3005, 3007, 3002, 3004, 3009, 3008, 3003, 3002],\n",
    "    \"salesman_id\": [5002, 5005, 5001, 5003, 5002, 5001, 5001, 5006, 5003, 5002, 5007, 5001],\n",
    "}\n",
    "\n",
    "df = pd.DataFrame(data)\n",
    "# df.groupby(['salesman_id', 'customer_id']).size().reset_index(name='ord_count')\n",
    "df.groupby([\"salesman_id\", \"customer_id\"], as_index=False)[[\"ord_no\"]].count()"
   ]
  },
  {
   "cell_type": "code",
   "execution_count": 34,
   "id": "fd210996167019c4",
   "metadata": {
    "ExecuteTime": {
     "end_time": "2025-10-25T15:33:48.045691Z",
     "start_time": "2025-10-25T15:33:47.937935Z"
    }
   },
   "outputs": [
    {
     "data": {
      "text/plain": [
       "Description\n",
       "WORLD WAR 2 GLIDERS ASSTD DESIGNS    108545\n",
       "Name: Quantity, dtype: int64"
      ]
     },
     "execution_count": 34,
     "metadata": {},
     "output_type": "execute_result"
    }
   ],
   "source": [
    "\"\"\"\n",
    "Considering the given Sales data, which of these is the most selling Product based irrespective of their Price?\n",
    "\"\"\"\n",
    "sales.groupby(\"Description\")[\"Quantity\"].sum().sort_values(ascending=False).head(1)"
   ]
  }
 ],
 "metadata": {
  "kernelspec": {
   "display_name": "Python 3",
   "language": "python",
   "name": "python3"
  },
  "language_info": {
   "codemirror_mode": {
    "name": "ipython",
    "version": 2
   },
   "file_extension": ".py",
   "mimetype": "text/x-python",
   "name": "python",
   "nbconvert_exporter": "python",
   "pygments_lexer": "ipython2",
   "version": "2.7.6"
  }
 },
 "nbformat": 4,
 "nbformat_minor": 5
}
