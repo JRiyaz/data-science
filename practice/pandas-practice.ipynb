{
 "cells": [
  {
   "cell_type": "code",
   "execution_count": 2,
   "id": "initial_id",
   "metadata": {
    "ExecuteTime": {
     "end_time": "2025-10-19T16:00:45.161996Z",
     "start_time": "2025-10-19T16:00:44.574425Z"
    },
    "collapsed": true
   },
   "outputs": [],
   "source": [
    "import numpy as np\n",
    "import pandas as pd"
   ]
  },
  {
   "cell_type": "code",
   "execution_count": 3,
   "id": "4b5fb01e1e6a0161",
   "metadata": {
    "ExecuteTime": {
     "end_time": "2025-10-19T16:00:45.185939Z",
     "start_time": "2025-10-19T16:00:45.174063Z"
    }
   },
   "outputs": [
    {
     "data": {
      "text/plain": [
       "0      1\n",
       "1      5\n",
       "2      9\n",
       "3     13\n",
       "4     17\n",
       "5     21\n",
       "6     25\n",
       "7     29\n",
       "8     33\n",
       "9     37\n",
       "10    41\n",
       "11    45\n",
       "12    49\n",
       "dtype: int64"
      ]
     },
     "execution_count": 3,
     "metadata": {},
     "output_type": "execute_result"
    }
   ],
   "source": [
    "srs = pd.Series(np.arange(1, 50, 4))\n",
    "srs"
   ]
  },
  {
   "cell_type": "code",
   "execution_count": 17,
   "id": "1d57c3c9cd631373",
   "metadata": {
    "ExecuteTime": {
     "end_time": "2025-10-19T16:08:17.618908Z",
     "start_time": "2025-10-19T16:08:17.609906Z"
    }
   },
   "outputs": [
    {
     "data": {
      "text/plain": [
       "np.int64(5)"
      ]
     },
     "execution_count": 17,
     "metadata": {},
     "output_type": "execute_result"
    }
   ],
   "source": [
    "srs[1]"
   ]
  },
  {
   "cell_type": "code",
   "execution_count": null,
   "id": "ff35b6eb38f591f0",
   "metadata": {},
   "outputs": [],
   "source": []
  }
 ],
 "metadata": {
  "kernelspec": {
   "display_name": "Python 3",
   "language": "python",
   "name": "python3"
  },
  "language_info": {
   "codemirror_mode": {
    "name": "ipython",
    "version": 2
   },
   "file_extension": ".py",
   "mimetype": "text/x-python",
   "name": "python",
   "nbconvert_exporter": "python",
   "pygments_lexer": "ipython2",
   "version": "2.7.6"
  }
 },
 "nbformat": 4,
 "nbformat_minor": 5
}
