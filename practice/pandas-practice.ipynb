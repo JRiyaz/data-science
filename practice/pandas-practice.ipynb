{
 "cells": [
  {
   "cell_type": "code",
   "id": "initial_id",
   "metadata": {
    "collapsed": true,
    "ExecuteTime": {
     "end_time": "2025-10-24T19:21:35.213112Z",
     "start_time": "2025-10-24T19:21:34.903155Z"
    }
   },
   "source": [
    "import numpy as np\n",
    "import pandas as pd"
   ],
   "outputs": [],
   "execution_count": 1
  },
  {
   "cell_type": "code",
   "id": "4b5fb01e1e6a0161",
   "metadata": {
    "ExecuteTime": {
     "end_time": "2025-10-24T19:21:35.223716Z",
     "start_time": "2025-10-24T19:21:35.217874Z"
    }
   },
   "source": [
    "srs = pd.Series(np.arange(1, 50, 4))\n",
    "srs"
   ],
   "outputs": [
    {
     "data": {
      "text/plain": [
       "0      1\n",
       "1      5\n",
       "2      9\n",
       "3     13\n",
       "4     17\n",
       "5     21\n",
       "6     25\n",
       "7     29\n",
       "8     33\n",
       "9     37\n",
       "10    41\n",
       "11    45\n",
       "12    49\n",
       "dtype: int64"
      ]
     },
     "execution_count": 2,
     "metadata": {},
     "output_type": "execute_result"
    }
   ],
   "execution_count": 2
  },
  {
   "cell_type": "code",
   "id": "1d57c3c9cd631373",
   "metadata": {
    "ExecuteTime": {
     "end_time": "2025-10-24T19:21:35.231590Z",
     "start_time": "2025-10-24T19:21:35.228075Z"
    }
   },
   "source": [
    "srs[1]"
   ],
   "outputs": [
    {
     "data": {
      "text/plain": [
       "np.int64(5)"
      ]
     },
     "execution_count": 3,
     "metadata": {},
     "output_type": "execute_result"
    }
   ],
   "execution_count": 3
  },
  {
   "cell_type": "code",
   "id": "ff35b6eb38f591f0",
   "metadata": {
    "ExecuteTime": {
     "end_time": "2025-10-24T19:21:35.257048Z",
     "start_time": "2025-10-24T19:21:35.247513Z"
    }
   },
   "source": [
    "data = {\n",
    "    \"Name\": [\"John\", \"Jim\", \"Carrie\", \"Morris\"],\n",
    "    \"Gender\": [\"M\", \"F\", \"M\", \"M\"],\n",
    "    \"Profession\": [\"Athlete\", \"Tech\", \"Cricketer\", \"Actor\"]\n",
    "}\n",
    "\n",
    "df = pd.DataFrame(data)\n",
    "df"
   ],
   "outputs": [
    {
     "data": {
      "text/plain": [
       "     Name Gender Profession\n",
       "0    John      M    Athlete\n",
       "1     Jim      F       Tech\n",
       "2  Carrie      M  Cricketer\n",
       "3  Morris      M      Actor"
      ],
      "text/html": [
       "<div>\n",
       "<style scoped>\n",
       "    .dataframe tbody tr th:only-of-type {\n",
       "        vertical-align: middle;\n",
       "    }\n",
       "\n",
       "    .dataframe tbody tr th {\n",
       "        vertical-align: top;\n",
       "    }\n",
       "\n",
       "    .dataframe thead th {\n",
       "        text-align: right;\n",
       "    }\n",
       "</style>\n",
       "<table border=\"1\" class=\"dataframe\">\n",
       "  <thead>\n",
       "    <tr style=\"text-align: right;\">\n",
       "      <th></th>\n",
       "      <th>Name</th>\n",
       "      <th>Gender</th>\n",
       "      <th>Profession</th>\n",
       "    </tr>\n",
       "  </thead>\n",
       "  <tbody>\n",
       "    <tr>\n",
       "      <th>0</th>\n",
       "      <td>John</td>\n",
       "      <td>M</td>\n",
       "      <td>Athlete</td>\n",
       "    </tr>\n",
       "    <tr>\n",
       "      <th>1</th>\n",
       "      <td>Jim</td>\n",
       "      <td>F</td>\n",
       "      <td>Tech</td>\n",
       "    </tr>\n",
       "    <tr>\n",
       "      <th>2</th>\n",
       "      <td>Carrie</td>\n",
       "      <td>M</td>\n",
       "      <td>Cricketer</td>\n",
       "    </tr>\n",
       "    <tr>\n",
       "      <th>3</th>\n",
       "      <td>Morris</td>\n",
       "      <td>M</td>\n",
       "      <td>Actor</td>\n",
       "    </tr>\n",
       "  </tbody>\n",
       "</table>\n",
       "</div>"
      ]
     },
     "execution_count": 4,
     "metadata": {},
     "output_type": "execute_result"
    }
   ],
   "execution_count": 4
  },
  {
   "metadata": {
    "ExecuteTime": {
     "end_time": "2025-10-24T19:21:35.275431Z",
     "start_time": "2025-10-24T19:21:35.261840Z"
    }
   },
   "cell_type": "code",
   "source": [
    "from pathlib import Path\n",
    "path = Path().joinpath(\"..\", \"data\", 'titanic.csv')\n",
    "titanic = pd.read_csv(path)\n",
    "titanic.info()"
   ],
   "id": "fd3bffd78a74dd90",
   "outputs": [
    {
     "name": "stdout",
     "output_type": "stream",
     "text": [
      "<class 'pandas.core.frame.DataFrame'>\n",
      "RangeIndex: 10 entries, 0 to 9\n",
      "Data columns (total 14 columns):\n",
      " #   Column       Non-Null Count  Dtype  \n",
      "---  ------       --------------  -----  \n",
      " 0   survived     10 non-null     int64  \n",
      " 1   pclass       10 non-null     int64  \n",
      " 2   sex          10 non-null     object \n",
      " 3   age          8 non-null      float64\n",
      " 4   sibsp        10 non-null     int64  \n",
      " 5   parch        10 non-null     int64  \n",
      " 6   fare         10 non-null     float64\n",
      " 7   embarked     10 non-null     object \n",
      " 8   class        10 non-null     object \n",
      " 9   adult_male   10 non-null     bool   \n",
      " 10  embark_town  10 non-null     object \n",
      " 11  pclass_1     10 non-null     int64  \n",
      " 12  price        10 non-null     float64\n",
      " 13  gender       10 non-null     object \n",
      "dtypes: bool(1), float64(3), int64(5), object(5)\n",
      "memory usage: 1.2+ KB\n"
     ]
    }
   ],
   "execution_count": 5
  },
  {
   "metadata": {
    "ExecuteTime": {
     "end_time": "2025-10-24T19:21:35.288564Z",
     "start_time": "2025-10-24T19:21:35.279553Z"
    }
   },
   "cell_type": "code",
   "source": [
    "cars = pd.read_csv(path.parent.joinpath('mtcars.csv'), index_col=0)\n",
    "cars.info()"
   ],
   "id": "e8314844f6ad8831",
   "outputs": [
    {
     "name": "stdout",
     "output_type": "stream",
     "text": [
      "<class 'pandas.core.frame.DataFrame'>\n",
      "Index: 32 entries, Mazda RX4 to Volvo 142E\n",
      "Data columns (total 11 columns):\n",
      " #   Column  Non-Null Count  Dtype  \n",
      "---  ------  --------------  -----  \n",
      " 0   mpg     32 non-null     float64\n",
      " 1   cyl     32 non-null     int64  \n",
      " 2   disp    32 non-null     float64\n",
      " 3   hp      32 non-null     int64  \n",
      " 4   drat    32 non-null     float64\n",
      " 5   wt      32 non-null     float64\n",
      " 6   qsec    32 non-null     float64\n",
      " 7   vs      32 non-null     int64  \n",
      " 8   am      32 non-null     int64  \n",
      " 9   gear    32 non-null     int64  \n",
      " 10  carb    32 non-null     int64  \n",
      "dtypes: float64(5), int64(6)\n",
      "memory usage: 3.0+ KB\n"
     ]
    }
   ],
   "execution_count": 6
  },
  {
   "metadata": {
    "ExecuteTime": {
     "end_time": "2025-10-24T19:21:36.257973Z",
     "start_time": "2025-10-24T19:21:35.305725Z"
    }
   },
   "cell_type": "code",
   "source": [
    "sales = pd.read_csv(path.parent.joinpath('sales.csv'))\n",
    "sales.info()"
   ],
   "id": "b2c12bc337c1f45a",
   "outputs": [
    {
     "name": "stdout",
     "output_type": "stream",
     "text": [
      "<class 'pandas.core.frame.DataFrame'>\n",
      "RangeIndex: 1067371 entries, 0 to 1067370\n",
      "Data columns (total 8 columns):\n",
      " #   Column       Non-Null Count    Dtype  \n",
      "---  ------       --------------    -----  \n",
      " 0   Invoice      1067371 non-null  object \n",
      " 1   StockCode    1067371 non-null  object \n",
      " 2   Description  1062989 non-null  object \n",
      " 3   Quantity     1067371 non-null  int64  \n",
      " 4   InvoiceDate  1067371 non-null  object \n",
      " 5   Price        1067371 non-null  float64\n",
      " 6   Customer ID  824364 non-null   float64\n",
      " 7   Country      1067371 non-null  object \n",
      "dtypes: float64(2), int64(1), object(5)\n",
      "memory usage: 65.1+ MB\n"
     ]
    }
   ],
   "execution_count": 7
  },
  {
   "metadata": {
    "ExecuteTime": {
     "end_time": "2025-10-24T19:21:36.278329Z",
     "start_time": "2025-10-24T19:21:36.268561Z"
    }
   },
   "cell_type": "code",
   "source": "sales.head()",
   "id": "e1d6f84f795673a5",
   "outputs": [
    {
     "data": {
      "text/plain": [
       "  Invoice StockCode                          Description  Quantity  \\\n",
       "0  489434     85048  15CM CHRISTMAS GLASS BALL 20 LIGHTS        12   \n",
       "1  489434    79323P                   PINK CHERRY LIGHTS        12   \n",
       "2  489434    79323W                  WHITE CHERRY LIGHTS        12   \n",
       "3  489434     22041         RECORD FRAME 7\" SINGLE SIZE         48   \n",
       "4  489434     21232       STRAWBERRY CERAMIC TRINKET BOX        24   \n",
       "\n",
       "           InvoiceDate  Price  Customer ID         Country  \n",
       "0  2009-12-01 07:45:00   6.95      13085.0  United Kingdom  \n",
       "1  2009-12-01 07:45:00   6.75      13085.0  United Kingdom  \n",
       "2  2009-12-01 07:45:00   6.75      13085.0  United Kingdom  \n",
       "3  2009-12-01 07:45:00   2.10      13085.0  United Kingdom  \n",
       "4  2009-12-01 07:45:00   1.25      13085.0  United Kingdom  "
      ],
      "text/html": [
       "<div>\n",
       "<style scoped>\n",
       "    .dataframe tbody tr th:only-of-type {\n",
       "        vertical-align: middle;\n",
       "    }\n",
       "\n",
       "    .dataframe tbody tr th {\n",
       "        vertical-align: top;\n",
       "    }\n",
       "\n",
       "    .dataframe thead th {\n",
       "        text-align: right;\n",
       "    }\n",
       "</style>\n",
       "<table border=\"1\" class=\"dataframe\">\n",
       "  <thead>\n",
       "    <tr style=\"text-align: right;\">\n",
       "      <th></th>\n",
       "      <th>Invoice</th>\n",
       "      <th>StockCode</th>\n",
       "      <th>Description</th>\n",
       "      <th>Quantity</th>\n",
       "      <th>InvoiceDate</th>\n",
       "      <th>Price</th>\n",
       "      <th>Customer ID</th>\n",
       "      <th>Country</th>\n",
       "    </tr>\n",
       "  </thead>\n",
       "  <tbody>\n",
       "    <tr>\n",
       "      <th>0</th>\n",
       "      <td>489434</td>\n",
       "      <td>85048</td>\n",
       "      <td>15CM CHRISTMAS GLASS BALL 20 LIGHTS</td>\n",
       "      <td>12</td>\n",
       "      <td>2009-12-01 07:45:00</td>\n",
       "      <td>6.95</td>\n",
       "      <td>13085.0</td>\n",
       "      <td>United Kingdom</td>\n",
       "    </tr>\n",
       "    <tr>\n",
       "      <th>1</th>\n",
       "      <td>489434</td>\n",
       "      <td>79323P</td>\n",
       "      <td>PINK CHERRY LIGHTS</td>\n",
       "      <td>12</td>\n",
       "      <td>2009-12-01 07:45:00</td>\n",
       "      <td>6.75</td>\n",
       "      <td>13085.0</td>\n",
       "      <td>United Kingdom</td>\n",
       "    </tr>\n",
       "    <tr>\n",
       "      <th>2</th>\n",
       "      <td>489434</td>\n",
       "      <td>79323W</td>\n",
       "      <td>WHITE CHERRY LIGHTS</td>\n",
       "      <td>12</td>\n",
       "      <td>2009-12-01 07:45:00</td>\n",
       "      <td>6.75</td>\n",
       "      <td>13085.0</td>\n",
       "      <td>United Kingdom</td>\n",
       "    </tr>\n",
       "    <tr>\n",
       "      <th>3</th>\n",
       "      <td>489434</td>\n",
       "      <td>22041</td>\n",
       "      <td>RECORD FRAME 7\" SINGLE SIZE</td>\n",
       "      <td>48</td>\n",
       "      <td>2009-12-01 07:45:00</td>\n",
       "      <td>2.10</td>\n",
       "      <td>13085.0</td>\n",
       "      <td>United Kingdom</td>\n",
       "    </tr>\n",
       "    <tr>\n",
       "      <th>4</th>\n",
       "      <td>489434</td>\n",
       "      <td>21232</td>\n",
       "      <td>STRAWBERRY CERAMIC TRINKET BOX</td>\n",
       "      <td>24</td>\n",
       "      <td>2009-12-01 07:45:00</td>\n",
       "      <td>1.25</td>\n",
       "      <td>13085.0</td>\n",
       "      <td>United Kingdom</td>\n",
       "    </tr>\n",
       "  </tbody>\n",
       "</table>\n",
       "</div>"
      ]
     },
     "execution_count": 8,
     "metadata": {},
     "output_type": "execute_result"
    }
   ],
   "execution_count": 8
  },
  {
   "metadata": {
    "ExecuteTime": {
     "end_time": "2025-10-24T19:21:36.303364Z",
     "start_time": "2025-10-24T19:21:36.293661Z"
    }
   },
   "cell_type": "code",
   "source": [
    "# Find the Invoice number and Customer ID of the highest amount of purchase based on the given Sales data?\n",
    "# Setup 1:\n",
    "sales[\"Total_amount\"] = sales['Quantity'] * sales['Price']"
   ],
   "id": "baef3b7739763c69",
   "outputs": [],
   "execution_count": 9
  },
  {
   "metadata": {
    "ExecuteTime": {
     "end_time": "2025-10-24T19:31:44.568297Z",
     "start_time": "2025-10-24T19:31:44.404012Z"
    }
   },
   "cell_type": "code",
   "source": [
    "# Step 2:\n",
    "invoice_sales = sales.groupby([\"Invoice\", \"Customer ID\"])[\"Total_amount\"].sum().reset_index()\n",
    "invoice_sales.head()"
   ],
   "id": "ad805c37846bd195",
   "outputs": [
    {
     "data": {
      "text/plain": [
       "  Invoice  Customer ID  Total_amount\n",
       "0  489434      13085.0        505.30\n",
       "1  489435      13085.0        145.80\n",
       "2  489436      13078.0        630.33\n",
       "3  489437      15362.0        310.75\n",
       "4  489438      18102.0       2286.24"
      ],
      "text/html": [
       "<div>\n",
       "<style scoped>\n",
       "    .dataframe tbody tr th:only-of-type {\n",
       "        vertical-align: middle;\n",
       "    }\n",
       "\n",
       "    .dataframe tbody tr th {\n",
       "        vertical-align: top;\n",
       "    }\n",
       "\n",
       "    .dataframe thead th {\n",
       "        text-align: right;\n",
       "    }\n",
       "</style>\n",
       "<table border=\"1\" class=\"dataframe\">\n",
       "  <thead>\n",
       "    <tr style=\"text-align: right;\">\n",
       "      <th></th>\n",
       "      <th>Invoice</th>\n",
       "      <th>Customer ID</th>\n",
       "      <th>Total_amount</th>\n",
       "    </tr>\n",
       "  </thead>\n",
       "  <tbody>\n",
       "    <tr>\n",
       "      <th>0</th>\n",
       "      <td>489434</td>\n",
       "      <td>13085.0</td>\n",
       "      <td>505.30</td>\n",
       "    </tr>\n",
       "    <tr>\n",
       "      <th>1</th>\n",
       "      <td>489435</td>\n",
       "      <td>13085.0</td>\n",
       "      <td>145.80</td>\n",
       "    </tr>\n",
       "    <tr>\n",
       "      <th>2</th>\n",
       "      <td>489436</td>\n",
       "      <td>13078.0</td>\n",
       "      <td>630.33</td>\n",
       "    </tr>\n",
       "    <tr>\n",
       "      <th>3</th>\n",
       "      <td>489437</td>\n",
       "      <td>15362.0</td>\n",
       "      <td>310.75</td>\n",
       "    </tr>\n",
       "    <tr>\n",
       "      <th>4</th>\n",
       "      <td>489438</td>\n",
       "      <td>18102.0</td>\n",
       "      <td>2286.24</td>\n",
       "    </tr>\n",
       "  </tbody>\n",
       "</table>\n",
       "</div>"
      ]
     },
     "execution_count": 26,
     "metadata": {},
     "output_type": "execute_result"
    }
   ],
   "execution_count": 26
  },
  {
   "metadata": {
    "ExecuteTime": {
     "end_time": "2025-10-24T19:22:06.356932Z",
     "start_time": "2025-10-24T19:22:06.353386Z"
    }
   },
   "cell_type": "code",
   "source": "max_purchase = invoice_sales.loc[invoice_sales[\"Total_amount\"].idxmax()]",
   "id": "abf498d345dabbbe",
   "outputs": [],
   "execution_count": 12
  },
  {
   "metadata": {
    "ExecuteTime": {
     "end_time": "2025-10-24T19:22:18.733459Z",
     "start_time": "2025-10-24T19:22:18.728234Z"
    }
   },
   "cell_type": "code",
   "source": [
    "invoice_number = max_purchase[\"Invoice\"]\n",
    "customer_id = max_purchase[\"Customer ID\"]\n",
    "invoice_number, customer_id"
   ],
   "id": "a2278de94991f4f",
   "outputs": [
    {
     "data": {
      "text/plain": [
       "('581483', np.float64(16446.0))"
      ]
     },
     "execution_count": 13,
     "metadata": {},
     "output_type": "execute_result"
    }
   ],
   "execution_count": 13
  },
  {
   "metadata": {
    "ExecuteTime": {
     "end_time": "2025-10-24T19:27:01.221642Z",
     "start_time": "2025-10-24T19:27:01.217002Z"
    }
   },
   "cell_type": "code",
   "source": "invoice_sales[\"Total_amount\"].idxmax()",
   "id": "1bb9048a2e87e901",
   "outputs": [
    {
     "data": {
      "text/plain": [
       "36942"
      ]
     },
     "execution_count": 22,
     "metadata": {},
     "output_type": "execute_result"
    }
   ],
   "execution_count": 22
  },
  {
   "metadata": {
    "ExecuteTime": {
     "end_time": "2025-10-24T19:27:09.553557Z",
     "start_time": "2025-10-24T19:27:09.548543Z"
    }
   },
   "cell_type": "code",
   "source": "invoice_sales[\"Total_amount\"].max()",
   "id": "a761192efa5c2e76",
   "outputs": [
    {
     "data": {
      "text/plain": [
       "np.float64(168469.6)"
      ]
     },
     "execution_count": 23,
     "metadata": {},
     "output_type": "execute_result"
    }
   ],
   "execution_count": 23
  },
  {
   "metadata": {
    "ExecuteTime": {
     "end_time": "2025-10-24T19:32:41.173127Z",
     "start_time": "2025-10-24T19:32:41.164231Z"
    }
   },
   "cell_type": "code",
   "source": [
    "data = {\n",
    "    'Invoice': [489434, 489435, 489436, 489437, 489438, 489439, 489440, 489441, 489442, 489443],\n",
    "    'Customer ID': [13085.0, 13085.0, 13078.0, 15362.0, 18102.0, 12682.0, 18087.0, 18087.0, 13635.0, 14110.0],\n",
    "    'Total_amount': [505.30, 145.80, 630.33, 310.75, 2286.24, 426.30, 50.40, 344.34, 382.37, 285.06]\n",
    "}\n",
    "\n",
    "df = pd.DataFrame(data)\n",
    "df"
   ],
   "id": "4ddafbe0eb28499c",
   "outputs": [
    {
     "data": {
      "text/plain": [
       "   Invoice  Customer ID  Total_amount\n",
       "0   489434      13085.0        505.30\n",
       "1   489435      13085.0        145.80\n",
       "2   489436      13078.0        630.33\n",
       "3   489437      15362.0        310.75\n",
       "4   489438      18102.0       2286.24\n",
       "5   489439      12682.0        426.30\n",
       "6   489440      18087.0         50.40\n",
       "7   489441      18087.0        344.34\n",
       "8   489442      13635.0        382.37\n",
       "9   489443      14110.0        285.06"
      ],
      "text/html": [
       "<div>\n",
       "<style scoped>\n",
       "    .dataframe tbody tr th:only-of-type {\n",
       "        vertical-align: middle;\n",
       "    }\n",
       "\n",
       "    .dataframe tbody tr th {\n",
       "        vertical-align: top;\n",
       "    }\n",
       "\n",
       "    .dataframe thead th {\n",
       "        text-align: right;\n",
       "    }\n",
       "</style>\n",
       "<table border=\"1\" class=\"dataframe\">\n",
       "  <thead>\n",
       "    <tr style=\"text-align: right;\">\n",
       "      <th></th>\n",
       "      <th>Invoice</th>\n",
       "      <th>Customer ID</th>\n",
       "      <th>Total_amount</th>\n",
       "    </tr>\n",
       "  </thead>\n",
       "  <tbody>\n",
       "    <tr>\n",
       "      <th>0</th>\n",
       "      <td>489434</td>\n",
       "      <td>13085.0</td>\n",
       "      <td>505.30</td>\n",
       "    </tr>\n",
       "    <tr>\n",
       "      <th>1</th>\n",
       "      <td>489435</td>\n",
       "      <td>13085.0</td>\n",
       "      <td>145.80</td>\n",
       "    </tr>\n",
       "    <tr>\n",
       "      <th>2</th>\n",
       "      <td>489436</td>\n",
       "      <td>13078.0</td>\n",
       "      <td>630.33</td>\n",
       "    </tr>\n",
       "    <tr>\n",
       "      <th>3</th>\n",
       "      <td>489437</td>\n",
       "      <td>15362.0</td>\n",
       "      <td>310.75</td>\n",
       "    </tr>\n",
       "    <tr>\n",
       "      <th>4</th>\n",
       "      <td>489438</td>\n",
       "      <td>18102.0</td>\n",
       "      <td>2286.24</td>\n",
       "    </tr>\n",
       "    <tr>\n",
       "      <th>5</th>\n",
       "      <td>489439</td>\n",
       "      <td>12682.0</td>\n",
       "      <td>426.30</td>\n",
       "    </tr>\n",
       "    <tr>\n",
       "      <th>6</th>\n",
       "      <td>489440</td>\n",
       "      <td>18087.0</td>\n",
       "      <td>50.40</td>\n",
       "    </tr>\n",
       "    <tr>\n",
       "      <th>7</th>\n",
       "      <td>489441</td>\n",
       "      <td>18087.0</td>\n",
       "      <td>344.34</td>\n",
       "    </tr>\n",
       "    <tr>\n",
       "      <th>8</th>\n",
       "      <td>489442</td>\n",
       "      <td>13635.0</td>\n",
       "      <td>382.37</td>\n",
       "    </tr>\n",
       "    <tr>\n",
       "      <th>9</th>\n",
       "      <td>489443</td>\n",
       "      <td>14110.0</td>\n",
       "      <td>285.06</td>\n",
       "    </tr>\n",
       "  </tbody>\n",
       "</table>\n",
       "</div>"
      ]
     },
     "execution_count": 29,
     "metadata": {},
     "output_type": "execute_result"
    }
   ],
   "execution_count": 29
  },
  {
   "metadata": {
    "ExecuteTime": {
     "end_time": "2025-10-24T19:32:34.199342Z",
     "start_time": "2025-10-24T19:32:34.195556Z"
    }
   },
   "cell_type": "code",
   "source": "df['Total_amount'].max()",
   "id": "5e18f27f06b93b68",
   "outputs": [
    {
     "data": {
      "text/plain": [
       "np.float64(2286.24)"
      ]
     },
     "execution_count": 28,
     "metadata": {},
     "output_type": "execute_result"
    }
   ],
   "execution_count": 28
  },
  {
   "metadata": {},
   "cell_type": "code",
   "outputs": [],
   "execution_count": null,
   "source": "",
   "id": "e5fe49f148a98e95"
  }
 ],
 "metadata": {
  "kernelspec": {
   "display_name": "Python 3",
   "language": "python",
   "name": "python3"
  },
  "language_info": {
   "codemirror_mode": {
    "name": "ipython",
    "version": 2
   },
   "file_extension": ".py",
   "mimetype": "text/x-python",
   "name": "python",
   "nbconvert_exporter": "python",
   "pygments_lexer": "ipython2",
   "version": "2.7.6"
  }
 },
 "nbformat": 4,
 "nbformat_minor": 5
}
