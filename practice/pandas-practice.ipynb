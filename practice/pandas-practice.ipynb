{
 "cells": [
  {
   "cell_type": "code",
   "id": "initial_id",
   "metadata": {
    "collapsed": true,
    "ExecuteTime": {
     "end_time": "2025-10-24T13:01:28.889622Z",
     "start_time": "2025-10-24T13:01:28.885467Z"
    }
   },
   "source": [
    "import numpy as np\n",
    "import pandas as pd"
   ],
   "outputs": [],
   "execution_count": 4
  },
  {
   "cell_type": "code",
   "id": "4b5fb01e1e6a0161",
   "metadata": {
    "ExecuteTime": {
     "end_time": "2025-10-24T13:01:28.920023Z",
     "start_time": "2025-10-24T13:01:28.911375Z"
    }
   },
   "source": [
    "srs = pd.Series(np.arange(1, 50, 4))\n",
    "srs"
   ],
   "outputs": [
    {
     "data": {
      "text/plain": [
       "0      1\n",
       "1      5\n",
       "2      9\n",
       "3     13\n",
       "4     17\n",
       "5     21\n",
       "6     25\n",
       "7     29\n",
       "8     33\n",
       "9     37\n",
       "10    41\n",
       "11    45\n",
       "12    49\n",
       "dtype: int64"
      ]
     },
     "execution_count": 5,
     "metadata": {},
     "output_type": "execute_result"
    }
   ],
   "execution_count": 5
  },
  {
   "cell_type": "code",
   "id": "1d57c3c9cd631373",
   "metadata": {
    "ExecuteTime": {
     "end_time": "2025-10-24T13:01:28.941730Z",
     "start_time": "2025-10-24T13:01:28.936019Z"
    }
   },
   "source": [
    "srs[1]"
   ],
   "outputs": [
    {
     "data": {
      "text/plain": [
       "np.int64(5)"
      ]
     },
     "execution_count": 6,
     "metadata": {},
     "output_type": "execute_result"
    }
   ],
   "execution_count": 6
  },
  {
   "cell_type": "code",
   "id": "ff35b6eb38f591f0",
   "metadata": {
    "ExecuteTime": {
     "end_time": "2025-10-24T13:01:29.007373Z",
     "start_time": "2025-10-24T13:01:29.001118Z"
    }
   },
   "source": "# pd.read_csv(\"\")",
   "outputs": [
    {
     "data": {
      "text/plain": [
       "<module 'pandas' from 'E:\\\\practice\\\\.venv\\\\Lib\\\\site-packages\\\\pandas\\\\__init__.py'>"
      ]
     },
     "execution_count": 7,
     "metadata": {},
     "output_type": "execute_result"
    }
   ],
   "execution_count": 7
  }
 ],
 "metadata": {
  "kernelspec": {
   "display_name": "Python 3",
   "language": "python",
   "name": "python3"
  },
  "language_info": {
   "codemirror_mode": {
    "name": "ipython",
    "version": 2
   },
   "file_extension": ".py",
   "mimetype": "text/x-python",
   "name": "python",
   "nbconvert_exporter": "python",
   "pygments_lexer": "ipython2",
   "version": "2.7.6"
  }
 },
 "nbformat": 4,
 "nbformat_minor": 5
}
