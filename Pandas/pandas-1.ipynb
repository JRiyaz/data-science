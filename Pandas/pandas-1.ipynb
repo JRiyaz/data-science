{
 "cells": [
  {
   "metadata": {},
   "cell_type": "markdown",
   "source": [
    "# What is Pandas?\n",
    "\n",
    "Pandas is a powerful open-source Python library used for data manipulation, analysis, and cleaning. It provides two primary data structures:\n",
    "\n",
    "1. **Series**: One-dimensional labeled array.\n",
    "2. **DataFrame**: Two-dimensional labeled data structure (like a table in a database or an Excel spreadsheet).\n",
    "\n",
    "It is widely used in data science and analytics for tasks like:\n",
    "\n",
    "1. Importing data from various file formats (CSV, Excel, SQL, etc.)\n",
    "2. Cleaning and transforming data\n",
    "3. Grouping and summarizing\n",
    "4. Merging and joining datasets\n",
    "5. Time series analysis\n",
    "\n",
    "---\n",
    "\n",
    "# What is NumPy?\n",
    "\n",
    "NumPy (Numerical Python) is a foundational Python library for numerical computing. It provides:\n",
    "\n",
    "1. **ndarray**: N-dimensional array object\n",
    "2. Fast operations on arrays, including element-wise operations, linear algebra, statistical operations, etc.\n",
    "\n",
    "It’s known for speed and efficiency, especially with large arrays and matrices.\n",
    "\n",
    "---\n",
    "\n",
    "## **Key Differences Between Pandas and NumPy**\n",
    "\n",
    "| Feature                   | **NumPy**                                       | **Pandas**                                          |\n",
    "|---------------------------|--------------------------------------------------|-----------------------------------------------------|\n",
    "| **Main Data Structure**   | `ndarray` (multi-dimensional array)             | `Series` (1D), `DataFrame` (2D)                     |\n",
    "| **Use Case**              | Numerical computations                          | Data analysis and manipulation                      |\n",
    "| **Data Types Supported**  | Homogeneous (all elements must be same type)    | Heterogeneous (each column can be a different type) |\n",
    "| **Indexing**              | Integer-based indexing                          | Label-based and integer indexing                    |\n",
    "| **Ease of Use**           | Low-level; requires more code for data handling | High-level; easier data wrangling and analysis      |\n",
    "| **Speed**                 | Faster for numerical operations                 | Slightly slower due to overhead                     |\n",
    "| **Missing Data Support**  | Limited                                          | Built-in support (e.g., `NaN` handling)             |\n",
    "\n",
    "---\n",
    "\n",
    "### ***When to Use What?***\n",
    "\n",
    "- **Use NumPy for**: Fast numerical operations, matrix algebra, or when working with homogeneous numeric data.\n",
    "- **Use Pandas for**: Real-world data analysis involving labeled, heterogeneous, or missing data.\n",
    "\n",
    "---\n",
    "\n",
    "## **The Primary Data Structures in Pandas Are:**\n",
    "\n",
    "### 👉 Series\n",
    "\n",
    "- A one-dimensional labeled array.\n",
    "- Can hold any data type (integers, strings, floats, Python objects, etc.).\n",
    "- Has both values and an index.\n",
    "    ```python\n",
    "    import pandas as pd\n",
    "\n",
    "    s = pd.Series([10, 20, 30], index=['a', 'b', 'c'])\n",
    "    print(s)\n",
    "    ```\n",
    "\n",
    "### 👉 DataFrame\n",
    "\n",
    "- A two-dimensional labeled data structure (like a table with rows and columns).\n",
    "- Can contain different data types in different columns.\n",
    "- Has both row and column indexing.\n",
    "    ```python\n",
    "    import pandas as pd\n",
    "\n",
    "    data = {\n",
    "        'Name': ['Alice', 'Bob', 'Charlie'],\n",
    "        'Age': [25, 30, 35]\n",
    "    }\n",
    "    df = pd.DataFrame(data)\n",
    "    print(df)\n",
    "    ```"
   ],
   "id": "b11d961518172d81"
  },
  {
   "cell_type": "code",
   "id": "initial_id",
   "metadata": {
    "collapsed": true,
    "ExecuteTime": {
     "end_time": "2025-09-28T11:05:09.857941Z",
     "start_time": "2025-09-28T11:05:09.853309Z"
    }
   },
   "source": "import pandas as pd",
   "outputs": [],
   "execution_count": 75
  },
  {
   "metadata": {
    "ExecuteTime": {
     "end_time": "2025-09-28T11:05:09.892329Z",
     "start_time": "2025-09-28T11:05:09.882971Z"
    }
   },
   "cell_type": "code",
   "source": [
    "sr = pd.Series([10,20,30,40,50])\n",
    "sr"
   ],
   "id": "ed590e151c2713bc",
   "outputs": [
    {
     "data": {
      "text/plain": [
       "0    10\n",
       "1    20\n",
       "2    30\n",
       "3    40\n",
       "4    50\n",
       "dtype: int64"
      ]
     },
     "execution_count": 76,
     "metadata": {},
     "output_type": "execute_result"
    }
   ],
   "execution_count": 76
  },
  {
   "metadata": {
    "ExecuteTime": {
     "end_time": "2025-09-28T11:05:09.922405Z",
     "start_time": "2025-09-28T11:05:09.915265Z"
    }
   },
   "cell_type": "code",
   "source": "sr.dtype",
   "id": "4d2ac5b77187d338",
   "outputs": [
    {
     "data": {
      "text/plain": [
       "dtype('int64')"
      ]
     },
     "execution_count": 77,
     "metadata": {},
     "output_type": "execute_result"
    }
   ],
   "execution_count": 77
  },
  {
   "metadata": {
    "ExecuteTime": {
     "end_time": "2025-09-28T11:05:09.954153Z",
     "start_time": "2025-09-28T11:05:09.946984Z"
    }
   },
   "cell_type": "code",
   "source": "sr.values",
   "id": "97ff13ee8ff69d79",
   "outputs": [
    {
     "data": {
      "text/plain": [
       "array([10, 20, 30, 40, 50])"
      ]
     },
     "execution_count": 78,
     "metadata": {},
     "output_type": "execute_result"
    }
   ],
   "execution_count": 78
  },
  {
   "metadata": {
    "ExecuteTime": {
     "end_time": "2025-09-28T11:05:09.983532Z",
     "start_time": "2025-09-28T11:05:09.976981Z"
    }
   },
   "cell_type": "code",
   "source": "sr.index",
   "id": "31009cd96c3c2837",
   "outputs": [
    {
     "data": {
      "text/plain": [
       "RangeIndex(start=0, stop=5, step=1)"
      ]
     },
     "execution_count": 79,
     "metadata": {},
     "output_type": "execute_result"
    }
   ],
   "execution_count": 79
  },
  {
   "metadata": {
    "ExecuteTime": {
     "end_time": "2025-09-28T11:05:10.008491Z",
     "start_time": "2025-09-28T11:05:10.004252Z"
    }
   },
   "cell_type": "code",
   "source": "sr.name",
   "id": "2dc2a7e8987c30cc",
   "outputs": [],
   "execution_count": 80
  },
  {
   "metadata": {
    "ExecuteTime": {
     "end_time": "2025-09-28T11:05:10.072706Z",
     "start_time": "2025-09-28T11:05:10.067279Z"
    }
   },
   "cell_type": "code",
   "source": "sr.name = 'calories'",
   "id": "bb645a5fa509c956",
   "outputs": [],
   "execution_count": 81
  },
  {
   "metadata": {
    "ExecuteTime": {
     "end_time": "2025-09-28T11:05:10.091826Z",
     "start_time": "2025-09-28T11:05:10.085247Z"
    }
   },
   "cell_type": "code",
   "source": "sr.name",
   "id": "cc6998583992d492",
   "outputs": [
    {
     "data": {
      "text/plain": [
       "'calories'"
      ]
     },
     "execution_count": 82,
     "metadata": {},
     "output_type": "execute_result"
    }
   ],
   "execution_count": 82
  },
  {
   "metadata": {
    "ExecuteTime": {
     "end_time": "2025-09-28T11:05:10.121875Z",
     "start_time": "2025-09-28T11:05:10.115146Z"
    }
   },
   "cell_type": "code",
   "source": [
    "# Indexing\n",
    "\n",
    "sr[0]"
   ],
   "id": "c8c98ea9d11412fd",
   "outputs": [
    {
     "data": {
      "text/plain": [
       "np.int64(10)"
      ]
     },
     "execution_count": 83,
     "metadata": {},
     "output_type": "execute_result"
    }
   ],
   "execution_count": 83
  },
  {
   "metadata": {
    "ExecuteTime": {
     "end_time": "2025-09-28T11:05:10.156905Z",
     "start_time": "2025-09-28T11:05:10.149376Z"
    }
   },
   "cell_type": "code",
   "source": "sr[0:2]",
   "id": "96e36159bac8dfaf",
   "outputs": [
    {
     "data": {
      "text/plain": [
       "0    10\n",
       "1    20\n",
       "Name: calories, dtype: int64"
      ]
     },
     "execution_count": 84,
     "metadata": {},
     "output_type": "execute_result"
    }
   ],
   "execution_count": 84
  },
  {
   "metadata": {
    "ExecuteTime": {
     "end_time": "2025-09-28T11:05:10.195123Z",
     "start_time": "2025-09-28T11:05:10.188100Z"
    }
   },
   "cell_type": "code",
   "source": "sr[3]",
   "id": "150cae82d7f2aa5f",
   "outputs": [
    {
     "data": {
      "text/plain": [
       "np.int64(40)"
      ]
     },
     "execution_count": 85,
     "metadata": {},
     "output_type": "execute_result"
    }
   ],
   "execution_count": 85
  },
  {
   "metadata": {
    "ExecuteTime": {
     "end_time": "2025-09-28T11:05:10.234714Z",
     "start_time": "2025-09-28T11:05:10.228172Z"
    }
   },
   "cell_type": "code",
   "source": [
    "# iloc -> location based indexing\n",
    "\n",
    "sr.iloc[3]"
   ],
   "id": "a87d28b7b9a2aed3",
   "outputs": [
    {
     "data": {
      "text/plain": [
       "np.int64(40)"
      ]
     },
     "execution_count": 86,
     "metadata": {},
     "output_type": "execute_result"
    }
   ],
   "execution_count": 86
  },
  {
   "metadata": {
    "ExecuteTime": {
     "end_time": "2025-09-28T11:05:10.271398Z",
     "start_time": "2025-09-28T11:05:10.263444Z"
    }
   },
   "cell_type": "code",
   "source": "sr.iloc[[1, 3, 4]]",
   "id": "70236d589f446c0c",
   "outputs": [
    {
     "data": {
      "text/plain": [
       "1    20\n",
       "3    40\n",
       "4    50\n",
       "Name: calories, dtype: int64"
      ]
     },
     "execution_count": 87,
     "metadata": {},
     "output_type": "execute_result"
    }
   ],
   "execution_count": 87
  },
  {
   "metadata": {
    "ExecuteTime": {
     "end_time": "2025-09-28T11:05:10.302090Z",
     "start_time": "2025-09-28T11:05:10.297649Z"
    }
   },
   "cell_type": "code",
   "source": "index = ['apple', 'banana', 'grapes', 'orange', 'strawberry']",
   "id": "4be006053af13b97",
   "outputs": [],
   "execution_count": 88
  },
  {
   "metadata": {
    "ExecuteTime": {
     "end_time": "2025-09-28T11:05:10.337955Z",
     "start_time": "2025-09-28T11:05:10.330284Z"
    }
   },
   "cell_type": "code",
   "source": [
    "sr.index = index\n",
    "sr"
   ],
   "id": "6c305a384e8d4d05",
   "outputs": [
    {
     "data": {
      "text/plain": [
       "apple         10\n",
       "banana        20\n",
       "grapes        30\n",
       "orange        40\n",
       "strawberry    50\n",
       "Name: calories, dtype: int64"
      ]
     },
     "execution_count": 89,
     "metadata": {},
     "output_type": "execute_result"
    }
   ],
   "execution_count": 89
  },
  {
   "metadata": {
    "ExecuteTime": {
     "end_time": "2025-09-28T11:05:10.413292Z",
     "start_time": "2025-09-28T11:05:10.406882Z"
    }
   },
   "cell_type": "code",
   "source": "sr['grapes']",
   "id": "4db2a25d442bc5fd",
   "outputs": [
    {
     "data": {
      "text/plain": [
       "np.int64(30)"
      ]
     },
     "execution_count": 90,
     "metadata": {},
     "output_type": "execute_result"
    }
   ],
   "execution_count": 90
  },
  {
   "metadata": {
    "ExecuteTime": {
     "end_time": "2025-09-28T11:05:10.464080Z",
     "start_time": "2025-09-28T11:05:10.457575Z"
    }
   },
   "cell_type": "code",
   "source": [
    "# sr.iloc['grapes']   # will throw error, because iloc will only work with number based indexes\n",
    "sr.iloc[2]"
   ],
   "id": "4caba1d20549e9dc",
   "outputs": [
    {
     "data": {
      "text/plain": [
       "np.int64(30)"
      ]
     },
     "execution_count": 91,
     "metadata": {},
     "output_type": "execute_result"
    }
   ],
   "execution_count": 91
  },
  {
   "metadata": {
    "ExecuteTime": {
     "end_time": "2025-09-28T11:05:10.493943Z",
     "start_time": "2025-09-28T11:05:10.488036Z"
    }
   },
   "cell_type": "code",
   "source": [
    "# loc -> label based indexing\n",
    "\n",
    "sr.loc['grapes']"
   ],
   "id": "3656774a65168123",
   "outputs": [
    {
     "data": {
      "text/plain": [
       "np.int64(30)"
      ]
     },
     "execution_count": 92,
     "metadata": {},
     "output_type": "execute_result"
    }
   ],
   "execution_count": 92
  },
  {
   "metadata": {
    "ExecuteTime": {
     "end_time": "2025-09-28T11:06:06.334806Z",
     "start_time": "2025-09-28T11:06:06.313847Z"
    }
   },
   "cell_type": "code",
   "source": [
    "# In label based indexing both start and stop values are included in output\n",
    "sr.loc[['apple', 'banana']]"
   ],
   "id": "aca36d85a4f95dc0",
   "outputs": [
    {
     "data": {
      "text/plain": [
       "apple     10\n",
       "banana    20\n",
       "Name: calories, dtype: int64"
      ]
     },
     "execution_count": 93,
     "metadata": {},
     "output_type": "execute_result"
    }
   ],
   "execution_count": 93
  },
  {
   "metadata": {
    "ExecuteTime": {
     "end_time": "2025-09-28T11:06:37.077944Z",
     "start_time": "2025-09-28T11:06:37.052724Z"
    }
   },
   "cell_type": "code",
   "source": "sr['apple':'orange']",
   "id": "c24269baa3d407cf",
   "outputs": [
    {
     "data": {
      "text/plain": [
       "apple     10\n",
       "banana    20\n",
       "grapes    30\n",
       "orange    40\n",
       "Name: calories, dtype: int64"
      ]
     },
     "execution_count": 94,
     "metadata": {},
     "output_type": "execute_result"
    }
   ],
   "execution_count": 94
  },
  {
   "metadata": {},
   "cell_type": "code",
   "outputs": [],
   "execution_count": null,
   "source": "",
   "id": "b987a6cffca5c8cd"
  }
 ],
 "metadata": {
  "kernelspec": {
   "display_name": "Python 3",
   "language": "python",
   "name": "python3"
  },
  "language_info": {
   "codemirror_mode": {
    "name": "ipython",
    "version": 2
   },
   "file_extension": ".py",
   "mimetype": "text/x-python",
   "name": "python",
   "nbconvert_exporter": "python",
   "pygments_lexer": "ipython2",
   "version": "2.7.6"
  }
 },
 "nbformat": 4,
 "nbformat_minor": 5
}
